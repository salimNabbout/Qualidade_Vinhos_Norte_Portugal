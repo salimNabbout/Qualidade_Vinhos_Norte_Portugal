{
  "nbformat": 4,
  "nbformat_minor": 0,
  "metadata": {
    "colab": {
      "provenance": [],
      "authorship_tag": "ABX9TyN7TAZ0KftOnzdv3CTxGmLn",
      "include_colab_link": true
    },
    "kernelspec": {
      "name": "python3",
      "display_name": "Python 3"
    },
    "language_info": {
      "name": "python"
    }
  },
  "cells": [
    {
      "cell_type": "markdown",
      "metadata": {
        "id": "view-in-github",
        "colab_type": "text"
      },
      "source": [
        "<a href=\"https://colab.research.google.com/github/salimNabbout/Qualidade_Vinhos_Norte_Portugal/blob/main/Qualidade_Vinho_Tinto_REGRESSAO.ipynb\" target=\"_parent\"><img src=\"https://colab.research.google.com/assets/colab-badge.svg\" alt=\"Open In Colab\"/></a>"
      ]
    },
    {
      "cell_type": "markdown",
      "source": [
        "##**POS GRADUAÇÃO EM CIÊNCIAS DE DADOS -  PUC RIO**\n",
        "\n",
        "##**MVP SPRINT 1** \n",
        "\n",
        "##**PROJETO - CLASSIFICAÇÃO DE VINHOS DE ALTA QUALIDADE - NORTE DE PORTUGAL**\n",
        "\n",
        "##**ALUNO: SALIM JORGE NABBOUT**"
      ],
      "metadata": {
        "id": "0pvbRc5CDqc4"
      }
    },
    {
      "cell_type": "markdown",
      "source": [
        "##**1. JUSTIFICATIVA DO PROJETO**\n",
        "\n",
        "Esta análise foi solicitada por um grande distribuidor de vinhos, localizado no estado do Rio de janeiro. Esta empresa solicitou uma análise minuciosa dos dados físico-químico de vinhos produzidos ao norte de Portugal, tidos como uns dos melhores vinhos do mundo.\n",
        "\n",
        "O Objetivo é importar vinhos não somente de Portugal, mas também do Brasil que atendesse as proximidades das características físico-químico dos vinhos analisados. A partir das análises de dados, referenciado pelos vinhos portugueses, cria se uma modelagem para o problema com objetivo de uma melhor tomadas de decisão na hora de avaliar as características dos vinhos a serem adquiridos para venda.\n",
        "\n",
        "A primeira etapa foi entender o problema. Identificamos que para este distribuidor não interessava vinhos com baixo valor agregado, o que está diretamente ligado a Melhor Qualidade desta bebida.\n",
        "\n",
        "A segunda etapa foi obter os dados para análise exploratória e o Pré-Processamento. Através da Câmara de Comercio de Vinhos do Norte de Portugal - CCVNP obtivemos o \"dataset\" dos 1599 diferentes tipos de vinhos fabricados nesta região.\n",
        "\n",
        "Identificamos que as tarefas associadas a este dataset são: CLASSIFICAÇÃO E REGRESSÃO. O que nos leva a concluir que se trata de um APRENDIZADO SUPERVISIONADO\n",
        "\n",
        "Junto ao engenheiro de alimentos e ao sommelier do distribuidor, levantamos algumas premissas relacionadas a características físico-químicas que nos remetem a uma qualidade melhor de um vinho. Dentre as principais características, declarada pelo especialista está o pH do vinho, entretanto somente esta informação não nos remete a selecionar o de melhor qualidade. Deverá ser analisado outras características fundamentais para que a Ciências de Dados possa entregar uma modelagem mais assertiva aos interessados.\n"
      ],
      "metadata": {
        "id": "zw7T7gdIgh0f"
      }
    },
    {
      "cell_type": "markdown",
      "source": [
        "________________________________________________________________________________"
      ],
      "metadata": {
        "id": "-7dkoJvKqZQk"
      }
    },
    {
      "cell_type": "markdown",
      "source": [
        "##**2. ANALISE EXPLORATÓRIA DE DADOS**"
      ],
      "metadata": {
        "id": "Glr9MUeR5Jhu"
      }
    },
    {
      "cell_type": "markdown",
      "source": [
        "##**2.1 Etapa de Importação das Bibliotecas**"
      ],
      "metadata": {
        "id": "x43zeXaUnspY"
      }
    },
    {
      "cell_type": "markdown",
      "source": [
        " 2.1.1 Etapa de Importação das Bibliotecas"
      ],
      "metadata": {
        "id": "N6SBwBcis8y6"
      }
    },
    {
      "cell_type": "code",
      "execution_count": null,
      "metadata": {
        "id": "-op5aakkn_UN"
      },
      "outputs": [],
      "source": [
        "# Configuração para não exibir os warnings\n",
        "import warnings\n",
        "warnings.filterwarnings(\"ignore\")\n",
        "\n",
        "# Imports necessários\n",
        "import pandas as pd\n",
        "import numpy as np\n",
        "import matplotlib.pyplot as plt\n",
        "import seaborn as sns\n",
        "import missingno as ms # para tratamento de missings\n",
        "\n",
        "# transformação Numerica\n",
        "from sklearn.preprocessing import MinMaxScaler\n",
        "from sklearn.preprocessing import StandardScaler\n",
        "\n",
        "# transformação categórica\n",
        "from sklearn.preprocessing import OrdinalEncoder\n",
        "from sklearn.preprocessing import OneHotEncoder\n",
        "\n",
        "# Exibição de Dados no Jupyter Notebook\n",
        "\n",
        "from IPython.display import display\n",
        "\n",
        "\n",
        "from sklearn.model_selection import train_test_split # para particionar em bases de treino e teste (holdout)\n",
        "from sklearn.model_selection import KFold # para preparar os folds da validação cruzada\n",
        "from sklearn.model_selection import cross_val_score # para executar a validação cruzada\n",
        "from sklearn.metrics import mean_squared_error # métrica de avaliação MSE\n",
        "from sklearn.linear_model import LinearRegression # algoritmo Regressão Linear\n",
        "from sklearn.linear_model import Ridge # algoritmo Regularização Ridge\n",
        "from sklearn.linear_model import Lasso # algoritmo Regularização Lasso\n",
        "from sklearn.neighbors import KNeighborsRegressor # algoritmo KNN\n",
        "from sklearn.tree import DecisionTreeRegressor # algoritmo Árvore de Regressão\n",
        "from sklearn.svm import SVR # algoritmo SVM"
      ]
    },
    {
      "cell_type": "markdown",
      "source": [
        "##**2.2 Caminho de Leitura do Datasets**"
      ],
      "metadata": {
        "id": "RoDErMTGn4ha"
      }
    },
    {
      "cell_type": "markdown",
      "source": [
        "2.2.1 Importando dados da URL para o Dataframe"
      ],
      "metadata": {
        "id": "n48d7jYJtS1C"
      }
    },
    {
      "cell_type": "markdown",
      "source": [
        "2.2.1.1 URL a importar"
      ],
      "metadata": {
        "id": "-cMNoR65thdf"
      }
    },
    {
      "cell_type": "code",
      "source": [
        "Qldvinhos= pd.read_csv(r'https://raw.githubusercontent.com/salimNabbout/Qualidade_Vinhos_Norte_Portugal/main/content/winequality-red.csv')"
      ],
      "metadata": {
        "id": "7BXx_aGwoco7"
      },
      "execution_count": null,
      "outputs": []
    },
    {
      "cell_type": "markdown",
      "source": [
        "##**2.3 Definição dos Atributos do Datasets**"
      ],
      "metadata": {
        "id": "20Uuc30joScm"
      }
    },
    {
      "cell_type": "markdown",
      "source": [
        "2.3.1 Labels do Atributos do Dataset"
      ],
      "metadata": {
        "id": "i6gXlVSEtq9b"
      }
    },
    {
      "cell_type": "code",
      "source": [
        "labels_atributos = ['volatile acidity', 'citric acid', 'residual sugar', 'chlorides',\n",
        "       'free sulfur dioxide', 'total sulfur dioxide', 'density', 'pH',\n",
        "       'sulphates', 'alcohol', 'quality', ]"
      ],
      "metadata": {
        "id": "n04eztKfpR1-"
      },
      "execution_count": null,
      "outputs": []
    },
    {
      "cell_type": "markdown",
      "source": [
        "##**2.4 Verificando que o Qldvinhos é um Dataframe**"
      ],
      "metadata": {
        "id": "qTEn9ZlF1A_9"
      }
    },
    {
      "cell_type": "code",
      "source": [
        "type(Qldvinhos)"
      ],
      "metadata": {
        "colab": {
          "base_uri": "https://localhost:8080/"
        },
        "id": "ntWG2o5-pYNz",
        "outputId": "5b8bf3e2-53dc-4424-a252-5b09195164da"
      },
      "execution_count": null,
      "outputs": [
        {
          "output_type": "execute_result",
          "data": {
            "text/plain": [
              "pandas.core.frame.DataFrame"
            ]
          },
          "metadata": {},
          "execution_count": 13
        }
      ]
    },
    {
      "cell_type": "markdown",
      "source": [
        "##**2.4.1 Exibindo as Cinco Primeiras Linhas do Dataset**\n",
        "\n",
        "***Observa se nas duas primeiras linhas do atributo citric acidy ( Acido Citrico) estão zeradas.***"
      ],
      "metadata": {
        "id": "mLolkNUsxwl5"
      }
    },
    {
      "cell_type": "code",
      "source": [
        "Qldvinhos.head()"
      ],
      "metadata": {
        "colab": {
          "base_uri": "https://localhost:8080/",
          "height": 206
        },
        "id": "OXyim8Guptjp",
        "outputId": "8fc46849-caf3-4f28-e814-c4f612c4f74f"
      },
      "execution_count": null,
      "outputs": [
        {
          "output_type": "execute_result",
          "data": {
            "text/plain": [
              "   fixed acidity  volatile acidity  citric acid  residual sugar  chlorides  \\\n",
              "0            7.4              0.70         0.00             1.9      0.076   \n",
              "1            7.8              0.88         0.00             2.6      0.098   \n",
              "2            7.8              0.76         0.04             2.3      0.092   \n",
              "3           11.2              0.28         0.56             1.9      0.075   \n",
              "4            7.4              0.70         0.00             1.9      0.076   \n",
              "\n",
              "   free sulfur dioxide  total sulfur dioxide  density    pH  sulphates  \\\n",
              "0                 11.0                  34.0   0.9978  3.51       0.56   \n",
              "1                 25.0                  67.0   0.9968  3.20       0.68   \n",
              "2                 15.0                  54.0   0.9970  3.26       0.65   \n",
              "3                 17.0                  60.0   0.9980  3.16       0.58   \n",
              "4                 11.0                  34.0   0.9978  3.51       0.56   \n",
              "\n",
              "   alcohol  quality  \n",
              "0      9.4        5  \n",
              "1      9.8        5  \n",
              "2      9.8        5  \n",
              "3      9.8        6  \n",
              "4      9.4        5  "
            ],
            "text/html": [
              "\n",
              "  <div id=\"df-66a7772b-461c-4bff-854f-cc401ff51c94\">\n",
              "    <div class=\"colab-df-container\">\n",
              "      <div>\n",
              "<style scoped>\n",
              "    .dataframe tbody tr th:only-of-type {\n",
              "        vertical-align: middle;\n",
              "    }\n",
              "\n",
              "    .dataframe tbody tr th {\n",
              "        vertical-align: top;\n",
              "    }\n",
              "\n",
              "    .dataframe thead th {\n",
              "        text-align: right;\n",
              "    }\n",
              "</style>\n",
              "<table border=\"1\" class=\"dataframe\">\n",
              "  <thead>\n",
              "    <tr style=\"text-align: right;\">\n",
              "      <th></th>\n",
              "      <th>fixed acidity</th>\n",
              "      <th>volatile acidity</th>\n",
              "      <th>citric acid</th>\n",
              "      <th>residual sugar</th>\n",
              "      <th>chlorides</th>\n",
              "      <th>free sulfur dioxide</th>\n",
              "      <th>total sulfur dioxide</th>\n",
              "      <th>density</th>\n",
              "      <th>pH</th>\n",
              "      <th>sulphates</th>\n",
              "      <th>alcohol</th>\n",
              "      <th>quality</th>\n",
              "    </tr>\n",
              "  </thead>\n",
              "  <tbody>\n",
              "    <tr>\n",
              "      <th>0</th>\n",
              "      <td>7.4</td>\n",
              "      <td>0.70</td>\n",
              "      <td>0.00</td>\n",
              "      <td>1.9</td>\n",
              "      <td>0.076</td>\n",
              "      <td>11.0</td>\n",
              "      <td>34.0</td>\n",
              "      <td>0.9978</td>\n",
              "      <td>3.51</td>\n",
              "      <td>0.56</td>\n",
              "      <td>9.4</td>\n",
              "      <td>5</td>\n",
              "    </tr>\n",
              "    <tr>\n",
              "      <th>1</th>\n",
              "      <td>7.8</td>\n",
              "      <td>0.88</td>\n",
              "      <td>0.00</td>\n",
              "      <td>2.6</td>\n",
              "      <td>0.098</td>\n",
              "      <td>25.0</td>\n",
              "      <td>67.0</td>\n",
              "      <td>0.9968</td>\n",
              "      <td>3.20</td>\n",
              "      <td>0.68</td>\n",
              "      <td>9.8</td>\n",
              "      <td>5</td>\n",
              "    </tr>\n",
              "    <tr>\n",
              "      <th>2</th>\n",
              "      <td>7.8</td>\n",
              "      <td>0.76</td>\n",
              "      <td>0.04</td>\n",
              "      <td>2.3</td>\n",
              "      <td>0.092</td>\n",
              "      <td>15.0</td>\n",
              "      <td>54.0</td>\n",
              "      <td>0.9970</td>\n",
              "      <td>3.26</td>\n",
              "      <td>0.65</td>\n",
              "      <td>9.8</td>\n",
              "      <td>5</td>\n",
              "    </tr>\n",
              "    <tr>\n",
              "      <th>3</th>\n",
              "      <td>11.2</td>\n",
              "      <td>0.28</td>\n",
              "      <td>0.56</td>\n",
              "      <td>1.9</td>\n",
              "      <td>0.075</td>\n",
              "      <td>17.0</td>\n",
              "      <td>60.0</td>\n",
              "      <td>0.9980</td>\n",
              "      <td>3.16</td>\n",
              "      <td>0.58</td>\n",
              "      <td>9.8</td>\n",
              "      <td>6</td>\n",
              "    </tr>\n",
              "    <tr>\n",
              "      <th>4</th>\n",
              "      <td>7.4</td>\n",
              "      <td>0.70</td>\n",
              "      <td>0.00</td>\n",
              "      <td>1.9</td>\n",
              "      <td>0.076</td>\n",
              "      <td>11.0</td>\n",
              "      <td>34.0</td>\n",
              "      <td>0.9978</td>\n",
              "      <td>3.51</td>\n",
              "      <td>0.56</td>\n",
              "      <td>9.4</td>\n",
              "      <td>5</td>\n",
              "    </tr>\n",
              "  </tbody>\n",
              "</table>\n",
              "</div>\n",
              "      <button class=\"colab-df-convert\" onclick=\"convertToInteractive('df-66a7772b-461c-4bff-854f-cc401ff51c94')\"\n",
              "              title=\"Convert this dataframe to an interactive table.\"\n",
              "              style=\"display:none;\">\n",
              "        \n",
              "  <svg xmlns=\"http://www.w3.org/2000/svg\" height=\"24px\"viewBox=\"0 0 24 24\"\n",
              "       width=\"24px\">\n",
              "    <path d=\"M0 0h24v24H0V0z\" fill=\"none\"/>\n",
              "    <path d=\"M18.56 5.44l.94 2.06.94-2.06 2.06-.94-2.06-.94-.94-2.06-.94 2.06-2.06.94zm-11 1L8.5 8.5l.94-2.06 2.06-.94-2.06-.94L8.5 2.5l-.94 2.06-2.06.94zm10 10l.94 2.06.94-2.06 2.06-.94-2.06-.94-.94-2.06-.94 2.06-2.06.94z\"/><path d=\"M17.41 7.96l-1.37-1.37c-.4-.4-.92-.59-1.43-.59-.52 0-1.04.2-1.43.59L10.3 9.45l-7.72 7.72c-.78.78-.78 2.05 0 2.83L4 21.41c.39.39.9.59 1.41.59.51 0 1.02-.2 1.41-.59l7.78-7.78 2.81-2.81c.8-.78.8-2.07 0-2.86zM5.41 20L4 18.59l7.72-7.72 1.47 1.35L5.41 20z\"/>\n",
              "  </svg>\n",
              "      </button>\n",
              "      \n",
              "  <style>\n",
              "    .colab-df-container {\n",
              "      display:flex;\n",
              "      flex-wrap:wrap;\n",
              "      gap: 12px;\n",
              "    }\n",
              "\n",
              "    .colab-df-convert {\n",
              "      background-color: #E8F0FE;\n",
              "      border: none;\n",
              "      border-radius: 50%;\n",
              "      cursor: pointer;\n",
              "      display: none;\n",
              "      fill: #1967D2;\n",
              "      height: 32px;\n",
              "      padding: 0 0 0 0;\n",
              "      width: 32px;\n",
              "    }\n",
              "\n",
              "    .colab-df-convert:hover {\n",
              "      background-color: #E2EBFA;\n",
              "      box-shadow: 0px 1px 2px rgba(60, 64, 67, 0.3), 0px 1px 3px 1px rgba(60, 64, 67, 0.15);\n",
              "      fill: #174EA6;\n",
              "    }\n",
              "\n",
              "    [theme=dark] .colab-df-convert {\n",
              "      background-color: #3B4455;\n",
              "      fill: #D2E3FC;\n",
              "    }\n",
              "\n",
              "    [theme=dark] .colab-df-convert:hover {\n",
              "      background-color: #434B5C;\n",
              "      box-shadow: 0px 1px 3px 1px rgba(0, 0, 0, 0.15);\n",
              "      filter: drop-shadow(0px 1px 2px rgba(0, 0, 0, 0.3));\n",
              "      fill: #FFFFFF;\n",
              "    }\n",
              "  </style>\n",
              "\n",
              "      <script>\n",
              "        const buttonEl =\n",
              "          document.querySelector('#df-66a7772b-461c-4bff-854f-cc401ff51c94 button.colab-df-convert');\n",
              "        buttonEl.style.display =\n",
              "          google.colab.kernel.accessAllowed ? 'block' : 'none';\n",
              "\n",
              "        async function convertToInteractive(key) {\n",
              "          const element = document.querySelector('#df-66a7772b-461c-4bff-854f-cc401ff51c94');\n",
              "          const dataTable =\n",
              "            await google.colab.kernel.invokeFunction('convertToInteractive',\n",
              "                                                     [key], {});\n",
              "          if (!dataTable) return;\n",
              "\n",
              "          const docLinkHtml = 'Like what you see? Visit the ' +\n",
              "            '<a target=\"_blank\" href=https://colab.research.google.com/notebooks/data_table.ipynb>data table notebook</a>'\n",
              "            + ' to learn more about interactive tables.';\n",
              "          element.innerHTML = '';\n",
              "          dataTable['output_type'] = 'display_data';\n",
              "          await google.colab.output.renderOutput(dataTable, element);\n",
              "          const docLink = document.createElement('div');\n",
              "          docLink.innerHTML = docLinkHtml;\n",
              "          element.appendChild(docLink);\n",
              "        }\n",
              "      </script>\n",
              "    </div>\n",
              "  </div>\n",
              "  "
            ]
          },
          "metadata": {},
          "execution_count": 4
        }
      ]
    },
    {
      "cell_type": "markdown",
      "source": [
        "##**2.4.2 Exibindo as Cinco Ultimas Linhas do Dataset Original**"
      ],
      "metadata": {
        "id": "iEOsqni2zVGl"
      }
    },
    {
      "cell_type": "code",
      "source": [
        "Qldvinhos.tail()"
      ],
      "metadata": {
        "colab": {
          "base_uri": "https://localhost:8080/",
          "height": 206
        },
        "id": "FxsZE3k_p7JB",
        "outputId": "5052f475-2c98-4e3f-e8e5-c052f9605da3"
      },
      "execution_count": null,
      "outputs": [
        {
          "output_type": "execute_result",
          "data": {
            "text/plain": [
              "      fixed acidity  volatile acidity  citric acid  residual sugar  chlorides  \\\n",
              "1594            6.2             0.600         0.08             2.0      0.090   \n",
              "1595            5.9             0.550         0.10             2.2      0.062   \n",
              "1596            6.3             0.510         0.13             2.3      0.076   \n",
              "1597            5.9             0.645         0.12             2.0      0.075   \n",
              "1598            6.0             0.310         0.47             3.6      0.067   \n",
              "\n",
              "      free sulfur dioxide  total sulfur dioxide  density    pH  sulphates  \\\n",
              "1594                 32.0                  44.0  0.99490  3.45       0.58   \n",
              "1595                 39.0                  51.0  0.99512  3.52       0.76   \n",
              "1596                 29.0                  40.0  0.99574  3.42       0.75   \n",
              "1597                 32.0                  44.0  0.99547  3.57       0.71   \n",
              "1598                 18.0                  42.0  0.99549  3.39       0.66   \n",
              "\n",
              "      alcohol  quality  \n",
              "1594     10.5        5  \n",
              "1595     11.2        6  \n",
              "1596     11.0        6  \n",
              "1597     10.2        5  \n",
              "1598     11.0        6  "
            ],
            "text/html": [
              "\n",
              "  <div id=\"df-708e70f3-c4ad-457f-8622-c08a828069fc\">\n",
              "    <div class=\"colab-df-container\">\n",
              "      <div>\n",
              "<style scoped>\n",
              "    .dataframe tbody tr th:only-of-type {\n",
              "        vertical-align: middle;\n",
              "    }\n",
              "\n",
              "    .dataframe tbody tr th {\n",
              "        vertical-align: top;\n",
              "    }\n",
              "\n",
              "    .dataframe thead th {\n",
              "        text-align: right;\n",
              "    }\n",
              "</style>\n",
              "<table border=\"1\" class=\"dataframe\">\n",
              "  <thead>\n",
              "    <tr style=\"text-align: right;\">\n",
              "      <th></th>\n",
              "      <th>fixed acidity</th>\n",
              "      <th>volatile acidity</th>\n",
              "      <th>citric acid</th>\n",
              "      <th>residual sugar</th>\n",
              "      <th>chlorides</th>\n",
              "      <th>free sulfur dioxide</th>\n",
              "      <th>total sulfur dioxide</th>\n",
              "      <th>density</th>\n",
              "      <th>pH</th>\n",
              "      <th>sulphates</th>\n",
              "      <th>alcohol</th>\n",
              "      <th>quality</th>\n",
              "    </tr>\n",
              "  </thead>\n",
              "  <tbody>\n",
              "    <tr>\n",
              "      <th>1594</th>\n",
              "      <td>6.2</td>\n",
              "      <td>0.600</td>\n",
              "      <td>0.08</td>\n",
              "      <td>2.0</td>\n",
              "      <td>0.090</td>\n",
              "      <td>32.0</td>\n",
              "      <td>44.0</td>\n",
              "      <td>0.99490</td>\n",
              "      <td>3.45</td>\n",
              "      <td>0.58</td>\n",
              "      <td>10.5</td>\n",
              "      <td>5</td>\n",
              "    </tr>\n",
              "    <tr>\n",
              "      <th>1595</th>\n",
              "      <td>5.9</td>\n",
              "      <td>0.550</td>\n",
              "      <td>0.10</td>\n",
              "      <td>2.2</td>\n",
              "      <td>0.062</td>\n",
              "      <td>39.0</td>\n",
              "      <td>51.0</td>\n",
              "      <td>0.99512</td>\n",
              "      <td>3.52</td>\n",
              "      <td>0.76</td>\n",
              "      <td>11.2</td>\n",
              "      <td>6</td>\n",
              "    </tr>\n",
              "    <tr>\n",
              "      <th>1596</th>\n",
              "      <td>6.3</td>\n",
              "      <td>0.510</td>\n",
              "      <td>0.13</td>\n",
              "      <td>2.3</td>\n",
              "      <td>0.076</td>\n",
              "      <td>29.0</td>\n",
              "      <td>40.0</td>\n",
              "      <td>0.99574</td>\n",
              "      <td>3.42</td>\n",
              "      <td>0.75</td>\n",
              "      <td>11.0</td>\n",
              "      <td>6</td>\n",
              "    </tr>\n",
              "    <tr>\n",
              "      <th>1597</th>\n",
              "      <td>5.9</td>\n",
              "      <td>0.645</td>\n",
              "      <td>0.12</td>\n",
              "      <td>2.0</td>\n",
              "      <td>0.075</td>\n",
              "      <td>32.0</td>\n",
              "      <td>44.0</td>\n",
              "      <td>0.99547</td>\n",
              "      <td>3.57</td>\n",
              "      <td>0.71</td>\n",
              "      <td>10.2</td>\n",
              "      <td>5</td>\n",
              "    </tr>\n",
              "    <tr>\n",
              "      <th>1598</th>\n",
              "      <td>6.0</td>\n",
              "      <td>0.310</td>\n",
              "      <td>0.47</td>\n",
              "      <td>3.6</td>\n",
              "      <td>0.067</td>\n",
              "      <td>18.0</td>\n",
              "      <td>42.0</td>\n",
              "      <td>0.99549</td>\n",
              "      <td>3.39</td>\n",
              "      <td>0.66</td>\n",
              "      <td>11.0</td>\n",
              "      <td>6</td>\n",
              "    </tr>\n",
              "  </tbody>\n",
              "</table>\n",
              "</div>\n",
              "      <button class=\"colab-df-convert\" onclick=\"convertToInteractive('df-708e70f3-c4ad-457f-8622-c08a828069fc')\"\n",
              "              title=\"Convert this dataframe to an interactive table.\"\n",
              "              style=\"display:none;\">\n",
              "        \n",
              "  <svg xmlns=\"http://www.w3.org/2000/svg\" height=\"24px\"viewBox=\"0 0 24 24\"\n",
              "       width=\"24px\">\n",
              "    <path d=\"M0 0h24v24H0V0z\" fill=\"none\"/>\n",
              "    <path d=\"M18.56 5.44l.94 2.06.94-2.06 2.06-.94-2.06-.94-.94-2.06-.94 2.06-2.06.94zm-11 1L8.5 8.5l.94-2.06 2.06-.94-2.06-.94L8.5 2.5l-.94 2.06-2.06.94zm10 10l.94 2.06.94-2.06 2.06-.94-2.06-.94-.94-2.06-.94 2.06-2.06.94z\"/><path d=\"M17.41 7.96l-1.37-1.37c-.4-.4-.92-.59-1.43-.59-.52 0-1.04.2-1.43.59L10.3 9.45l-7.72 7.72c-.78.78-.78 2.05 0 2.83L4 21.41c.39.39.9.59 1.41.59.51 0 1.02-.2 1.41-.59l7.78-7.78 2.81-2.81c.8-.78.8-2.07 0-2.86zM5.41 20L4 18.59l7.72-7.72 1.47 1.35L5.41 20z\"/>\n",
              "  </svg>\n",
              "      </button>\n",
              "      \n",
              "  <style>\n",
              "    .colab-df-container {\n",
              "      display:flex;\n",
              "      flex-wrap:wrap;\n",
              "      gap: 12px;\n",
              "    }\n",
              "\n",
              "    .colab-df-convert {\n",
              "      background-color: #E8F0FE;\n",
              "      border: none;\n",
              "      border-radius: 50%;\n",
              "      cursor: pointer;\n",
              "      display: none;\n",
              "      fill: #1967D2;\n",
              "      height: 32px;\n",
              "      padding: 0 0 0 0;\n",
              "      width: 32px;\n",
              "    }\n",
              "\n",
              "    .colab-df-convert:hover {\n",
              "      background-color: #E2EBFA;\n",
              "      box-shadow: 0px 1px 2px rgba(60, 64, 67, 0.3), 0px 1px 3px 1px rgba(60, 64, 67, 0.15);\n",
              "      fill: #174EA6;\n",
              "    }\n",
              "\n",
              "    [theme=dark] .colab-df-convert {\n",
              "      background-color: #3B4455;\n",
              "      fill: #D2E3FC;\n",
              "    }\n",
              "\n",
              "    [theme=dark] .colab-df-convert:hover {\n",
              "      background-color: #434B5C;\n",
              "      box-shadow: 0px 1px 3px 1px rgba(0, 0, 0, 0.15);\n",
              "      filter: drop-shadow(0px 1px 2px rgba(0, 0, 0, 0.3));\n",
              "      fill: #FFFFFF;\n",
              "    }\n",
              "  </style>\n",
              "\n",
              "      <script>\n",
              "        const buttonEl =\n",
              "          document.querySelector('#df-708e70f3-c4ad-457f-8622-c08a828069fc button.colab-df-convert');\n",
              "        buttonEl.style.display =\n",
              "          google.colab.kernel.accessAllowed ? 'block' : 'none';\n",
              "\n",
              "        async function convertToInteractive(key) {\n",
              "          const element = document.querySelector('#df-708e70f3-c4ad-457f-8622-c08a828069fc');\n",
              "          const dataTable =\n",
              "            await google.colab.kernel.invokeFunction('convertToInteractive',\n",
              "                                                     [key], {});\n",
              "          if (!dataTable) return;\n",
              "\n",
              "          const docLinkHtml = 'Like what you see? Visit the ' +\n",
              "            '<a target=\"_blank\" href=https://colab.research.google.com/notebooks/data_table.ipynb>data table notebook</a>'\n",
              "            + ' to learn more about interactive tables.';\n",
              "          element.innerHTML = '';\n",
              "          dataTable['output_type'] = 'display_data';\n",
              "          await google.colab.output.renderOutput(dataTable, element);\n",
              "          const docLink = document.createElement('div');\n",
              "          docLink.innerHTML = docLinkHtml;\n",
              "          element.appendChild(docLink);\n",
              "        }\n",
              "      </script>\n",
              "    </div>\n",
              "  </div>\n",
              "  "
            ]
          },
          "metadata": {},
          "execution_count": 22
        }
      ]
    },
    {
      "cell_type": "markdown",
      "source": [
        "2.4.3 Exibindo o nome dos Atributos.\n",
        "\n",
        "Os atributos são do tipo MULTIVARIADA e com seus valores em REAL"
      ],
      "metadata": {
        "id": "U4IG2gWqzhrO"
      }
    },
    {
      "cell_type": "code",
      "source": [
        "Qldvinhos.columns"
      ],
      "metadata": {
        "colab": {
          "base_uri": "https://localhost:8080/"
        },
        "id": "bg53jTNiqQNy",
        "outputId": "9f07c139-f749-4c41-e153-4f4ef494bdef"
      },
      "execution_count": null,
      "outputs": [
        {
          "output_type": "execute_result",
          "data": {
            "text/plain": [
              "Index(['fixed acidity', 'volatile acidity', 'citric acid', 'residual sugar',\n",
              "       'chlorides', 'free sulfur dioxide', 'total sulfur dioxide', 'density',\n",
              "       'pH', 'sulphates', 'alcohol', 'quality'],\n",
              "      dtype='object')"
            ]
          },
          "metadata": {},
          "execution_count": 23
        }
      ]
    },
    {
      "cell_type": "markdown",
      "source": [
        "##**2.5 Definição dos Atributos do Dataset**\n",
        "\n",
        "2.5.1 os valores referencias foram fornecidos pelo especialista em vinhos\n",
        "\n",
        "\n",
        "\n",
        "*   **Fixed Acidity** = a acidez fixa refere-se, basicamente, aos ácidos que não são capazes de se volatilizar, provenientes da fermentação. \n",
        "\n",
        "Valor referencia - 5.8 - 8.9 g/l\n",
        "\n",
        "*   **Volatile Acidity** = acidez e aroma muito desagradável, provocado pela presença de teor elevado de ácido acético e de acetato de etila no vinho, compostos produzidos essencialmente por bactérias acéticas.\n",
        "\n",
        "Valor referencia - 0.009 - 1.210 g/l\n",
        "\n",
        "*   **Citric Acid** = O ácido cítrico está presente nas uvas em menor quantidade, sendo que nos vinhos apresenta pouca ou nenhuma presença. \n",
        "\n",
        "Valor referencia - 0.000 - 0.098 g/l\n",
        "\n",
        "*  **Residual sugar **= o açúcar residual é proveniente da própria uva – pode ser frutose ou glicose – e resta ao final do processo de fermentação.\n",
        "\n",
        "Valor referencia - 2.00 - 2.500 g/l\n",
        "\n",
        "*   **chlorides** = Uma adição de sais no vinho. A sua principal função é de antioxidante, mas também possui funções de desinfetante porque é bactericida (em particular) e fungicida, melhorador de aroma e afinador de cor.\n",
        "\n",
        "Valor referencia - 0.009 - 0.098 mg/l\n",
        "\n",
        "*   **Free Sulfur Dioxide** = Os sulfitos (SO2) são sais do ácido sulfuroso que são liberados quando o ácido se dissocia.\n",
        "\n",
        "Valor referencia - 8.5 - 19.3 mg/l\n",
        "\n",
        "*   **total sulfur dioxide** = O dióxido de enxofre (SO2) é um composto muito importante utilizado na conservação de vinhos, devido às suas propriedades antioxidantes.\n",
        "\n",
        "Valor referencia - 25.7 - 58.2 mg/l\n",
        "\n",
        "*  **density** =  Está relacionada principalmente ao seu teor alcoólico e de açúcares residuais.\n",
        "\n",
        "Valor referencia - 0.095 - 1.000 (Amostra de FT)\n",
        "\n",
        "*  **pH** = Teor de acidez do vinho, que varia entre o vinho branco e o vinho tinto.\n",
        "\n",
        "Valor referencia - 3.2 - 3.6\n",
        "\n",
        "*   **sulphates**= No vinho, o sulfito é utilizado como conservante, devido às suas propriedades antioxidantes e antibacterianas, evitando que os vinhos degradem de forma mais rápida.\n",
        "Valor referencia - 0.310 - 1.980 ppm\n",
        "\n",
        "*  **alcohol ** = É o resultado da fermentação dos açúcares da uva (glicose e frutose), que acontece graças a presença de leveduras no mosto. \n",
        "\n",
        "Valor referencia - 9.5 - 10.2 GL\n",
        "\n",
        "*   **quality** = As pontuações , onde varia de 0 a 10, onde 0 são vinhos de pessima qualidade e 10 de excelente qualidade\n",
        "\n",
        "\n",
        "\n",
        "\n",
        "\n",
        "\n",
        "\n"
      ],
      "metadata": {
        "id": "npxKPRtI7uDB"
      }
    },
    {
      "cell_type": "markdown",
      "source": [
        "##**2.6 Dimensões do Dataset**\n",
        "\n",
        "O dataset possui 1599 linhas, 12 atributos e 4898 instâncias"
      ],
      "metadata": {
        "id": "xi52PqA8WPoJ"
      }
    },
    {
      "cell_type": "code",
      "source": [
        "Qldvinhos.shape"
      ],
      "metadata": {
        "colab": {
          "base_uri": "https://localhost:8080/"
        },
        "id": "G7hT1TH0Wc5t",
        "outputId": "ffa654bb-c5db-431c-c762-be82534c5ab7"
      },
      "execution_count": null,
      "outputs": [
        {
          "output_type": "execute_result",
          "data": {
            "text/plain": [
              "(1599, 12)"
            ]
          },
          "metadata": {},
          "execution_count": 24
        }
      ]
    },
    {
      "cell_type": "markdown",
      "source": [
        "##**2.7 Exibindo a Quantidade de Linhas do Dataset**"
      ],
      "metadata": {
        "id": "WtU7FmqSYbpS"
      }
    },
    {
      "cell_type": "code",
      "source": [
        "Qldvinhos.count()"
      ],
      "metadata": {
        "colab": {
          "base_uri": "https://localhost:8080/"
        },
        "id": "7TJRJX_vqr4W",
        "outputId": "af4919fc-f57c-4214-840e-ec7a5af43cc5"
      },
      "execution_count": null,
      "outputs": [
        {
          "output_type": "execute_result",
          "data": {
            "text/plain": [
              "fixed acidity           1599\n",
              "volatile acidity        1599\n",
              "citric acid             1599\n",
              "residual sugar          1599\n",
              "chlorides               1599\n",
              "free sulfur dioxide     1599\n",
              "total sulfur dioxide    1599\n",
              "density                 1599\n",
              "pH                      1599\n",
              "sulphates               1599\n",
              "alcohol                 1599\n",
              "quality                 1599\n",
              "dtype: int64"
            ]
          },
          "metadata": {},
          "execution_count": 25
        }
      ]
    },
    {
      "cell_type": "markdown",
      "source": [
        "##**3. SUMÁRIO ESTATISTICO**"
      ],
      "metadata": {
        "id": "TeUlxotSVpEN"
      }
    },
    {
      "cell_type": "markdown",
      "source": [
        "Analisando o Sumário estatistico, observamos que as variáveis : volatile acidity, citric acid, chlorides, density, pH, sulphate, apresentam baixo desvio padrão (std). Eliminaremos estas variáves da analise de dados, pois praticamente não há muita dispersão nos dados destes atributos. \n",
        "\n",
        "Estes dados não serão eliminados do dataframe. Eles não serão analisados individualmente como os outros atributos.\n",
        "\n"
      ],
      "metadata": {
        "id": "TmLCMOMIYmTE"
      }
    },
    {
      "cell_type": "code",
      "source": [
        "Qldvinhos.describe()"
      ],
      "metadata": {
        "colab": {
          "base_uri": "https://localhost:8080/",
          "height": 361
        },
        "id": "3h8hXOi_q69V",
        "outputId": "d99b815e-6c67-4806-8cae-2a10e8a60259"
      },
      "execution_count": null,
      "outputs": [
        {
          "output_type": "execute_result",
          "data": {
            "text/plain": [
              "       fixed acidity  volatile acidity  citric acid  residual sugar  \\\n",
              "count    1599.000000       1599.000000  1599.000000     1599.000000   \n",
              "mean        8.319637          0.527821     0.270976        2.538806   \n",
              "std         1.741096          0.179060     0.194801        1.409928   \n",
              "min         4.600000          0.120000     0.000000        0.900000   \n",
              "25%         7.100000          0.390000     0.090000        1.900000   \n",
              "50%         7.900000          0.520000     0.260000        2.200000   \n",
              "75%         9.200000          0.640000     0.420000        2.600000   \n",
              "max        15.900000          1.580000     1.000000       15.500000   \n",
              "\n",
              "         chlorides  free sulfur dioxide  total sulfur dioxide      density  \\\n",
              "count  1599.000000          1599.000000           1599.000000  1599.000000   \n",
              "mean      0.087467            15.874922             46.467792     0.996747   \n",
              "std       0.047065            10.460157             32.895324     0.001887   \n",
              "min       0.012000             1.000000              6.000000     0.990070   \n",
              "25%       0.070000             7.000000             22.000000     0.995600   \n",
              "50%       0.079000            14.000000             38.000000     0.996750   \n",
              "75%       0.090000            21.000000             62.000000     0.997835   \n",
              "max       0.611000            72.000000            289.000000     1.003690   \n",
              "\n",
              "                pH    sulphates      alcohol      quality  \n",
              "count  1599.000000  1599.000000  1599.000000  1599.000000  \n",
              "mean      3.311113     0.658149    10.422983     5.636023  \n",
              "std       0.154386     0.169507     1.065668     0.807569  \n",
              "min       2.740000     0.330000     8.400000     3.000000  \n",
              "25%       3.210000     0.550000     9.500000     5.000000  \n",
              "50%       3.310000     0.620000    10.200000     6.000000  \n",
              "75%       3.400000     0.730000    11.100000     6.000000  \n",
              "max       4.010000     2.000000    14.900000     8.000000  "
            ],
            "text/html": [
              "\n",
              "  <div id=\"df-8454f360-0bdd-4123-a6e0-c8591631aff3\">\n",
              "    <div class=\"colab-df-container\">\n",
              "      <div>\n",
              "<style scoped>\n",
              "    .dataframe tbody tr th:only-of-type {\n",
              "        vertical-align: middle;\n",
              "    }\n",
              "\n",
              "    .dataframe tbody tr th {\n",
              "        vertical-align: top;\n",
              "    }\n",
              "\n",
              "    .dataframe thead th {\n",
              "        text-align: right;\n",
              "    }\n",
              "</style>\n",
              "<table border=\"1\" class=\"dataframe\">\n",
              "  <thead>\n",
              "    <tr style=\"text-align: right;\">\n",
              "      <th></th>\n",
              "      <th>fixed acidity</th>\n",
              "      <th>volatile acidity</th>\n",
              "      <th>citric acid</th>\n",
              "      <th>residual sugar</th>\n",
              "      <th>chlorides</th>\n",
              "      <th>free sulfur dioxide</th>\n",
              "      <th>total sulfur dioxide</th>\n",
              "      <th>density</th>\n",
              "      <th>pH</th>\n",
              "      <th>sulphates</th>\n",
              "      <th>alcohol</th>\n",
              "      <th>quality</th>\n",
              "    </tr>\n",
              "  </thead>\n",
              "  <tbody>\n",
              "    <tr>\n",
              "      <th>count</th>\n",
              "      <td>1599.000000</td>\n",
              "      <td>1599.000000</td>\n",
              "      <td>1599.000000</td>\n",
              "      <td>1599.000000</td>\n",
              "      <td>1599.000000</td>\n",
              "      <td>1599.000000</td>\n",
              "      <td>1599.000000</td>\n",
              "      <td>1599.000000</td>\n",
              "      <td>1599.000000</td>\n",
              "      <td>1599.000000</td>\n",
              "      <td>1599.000000</td>\n",
              "      <td>1599.000000</td>\n",
              "    </tr>\n",
              "    <tr>\n",
              "      <th>mean</th>\n",
              "      <td>8.319637</td>\n",
              "      <td>0.527821</td>\n",
              "      <td>0.270976</td>\n",
              "      <td>2.538806</td>\n",
              "      <td>0.087467</td>\n",
              "      <td>15.874922</td>\n",
              "      <td>46.467792</td>\n",
              "      <td>0.996747</td>\n",
              "      <td>3.311113</td>\n",
              "      <td>0.658149</td>\n",
              "      <td>10.422983</td>\n",
              "      <td>5.636023</td>\n",
              "    </tr>\n",
              "    <tr>\n",
              "      <th>std</th>\n",
              "      <td>1.741096</td>\n",
              "      <td>0.179060</td>\n",
              "      <td>0.194801</td>\n",
              "      <td>1.409928</td>\n",
              "      <td>0.047065</td>\n",
              "      <td>10.460157</td>\n",
              "      <td>32.895324</td>\n",
              "      <td>0.001887</td>\n",
              "      <td>0.154386</td>\n",
              "      <td>0.169507</td>\n",
              "      <td>1.065668</td>\n",
              "      <td>0.807569</td>\n",
              "    </tr>\n",
              "    <tr>\n",
              "      <th>min</th>\n",
              "      <td>4.600000</td>\n",
              "      <td>0.120000</td>\n",
              "      <td>0.000000</td>\n",
              "      <td>0.900000</td>\n",
              "      <td>0.012000</td>\n",
              "      <td>1.000000</td>\n",
              "      <td>6.000000</td>\n",
              "      <td>0.990070</td>\n",
              "      <td>2.740000</td>\n",
              "      <td>0.330000</td>\n",
              "      <td>8.400000</td>\n",
              "      <td>3.000000</td>\n",
              "    </tr>\n",
              "    <tr>\n",
              "      <th>25%</th>\n",
              "      <td>7.100000</td>\n",
              "      <td>0.390000</td>\n",
              "      <td>0.090000</td>\n",
              "      <td>1.900000</td>\n",
              "      <td>0.070000</td>\n",
              "      <td>7.000000</td>\n",
              "      <td>22.000000</td>\n",
              "      <td>0.995600</td>\n",
              "      <td>3.210000</td>\n",
              "      <td>0.550000</td>\n",
              "      <td>9.500000</td>\n",
              "      <td>5.000000</td>\n",
              "    </tr>\n",
              "    <tr>\n",
              "      <th>50%</th>\n",
              "      <td>7.900000</td>\n",
              "      <td>0.520000</td>\n",
              "      <td>0.260000</td>\n",
              "      <td>2.200000</td>\n",
              "      <td>0.079000</td>\n",
              "      <td>14.000000</td>\n",
              "      <td>38.000000</td>\n",
              "      <td>0.996750</td>\n",
              "      <td>3.310000</td>\n",
              "      <td>0.620000</td>\n",
              "      <td>10.200000</td>\n",
              "      <td>6.000000</td>\n",
              "    </tr>\n",
              "    <tr>\n",
              "      <th>75%</th>\n",
              "      <td>9.200000</td>\n",
              "      <td>0.640000</td>\n",
              "      <td>0.420000</td>\n",
              "      <td>2.600000</td>\n",
              "      <td>0.090000</td>\n",
              "      <td>21.000000</td>\n",
              "      <td>62.000000</td>\n",
              "      <td>0.997835</td>\n",
              "      <td>3.400000</td>\n",
              "      <td>0.730000</td>\n",
              "      <td>11.100000</td>\n",
              "      <td>6.000000</td>\n",
              "    </tr>\n",
              "    <tr>\n",
              "      <th>max</th>\n",
              "      <td>15.900000</td>\n",
              "      <td>1.580000</td>\n",
              "      <td>1.000000</td>\n",
              "      <td>15.500000</td>\n",
              "      <td>0.611000</td>\n",
              "      <td>72.000000</td>\n",
              "      <td>289.000000</td>\n",
              "      <td>1.003690</td>\n",
              "      <td>4.010000</td>\n",
              "      <td>2.000000</td>\n",
              "      <td>14.900000</td>\n",
              "      <td>8.000000</td>\n",
              "    </tr>\n",
              "  </tbody>\n",
              "</table>\n",
              "</div>\n",
              "      <button class=\"colab-df-convert\" onclick=\"convertToInteractive('df-8454f360-0bdd-4123-a6e0-c8591631aff3')\"\n",
              "              title=\"Convert this dataframe to an interactive table.\"\n",
              "              style=\"display:none;\">\n",
              "        \n",
              "  <svg xmlns=\"http://www.w3.org/2000/svg\" height=\"24px\"viewBox=\"0 0 24 24\"\n",
              "       width=\"24px\">\n",
              "    <path d=\"M0 0h24v24H0V0z\" fill=\"none\"/>\n",
              "    <path d=\"M18.56 5.44l.94 2.06.94-2.06 2.06-.94-2.06-.94-.94-2.06-.94 2.06-2.06.94zm-11 1L8.5 8.5l.94-2.06 2.06-.94-2.06-.94L8.5 2.5l-.94 2.06-2.06.94zm10 10l.94 2.06.94-2.06 2.06-.94-2.06-.94-.94-2.06-.94 2.06-2.06.94z\"/><path d=\"M17.41 7.96l-1.37-1.37c-.4-.4-.92-.59-1.43-.59-.52 0-1.04.2-1.43.59L10.3 9.45l-7.72 7.72c-.78.78-.78 2.05 0 2.83L4 21.41c.39.39.9.59 1.41.59.51 0 1.02-.2 1.41-.59l7.78-7.78 2.81-2.81c.8-.78.8-2.07 0-2.86zM5.41 20L4 18.59l7.72-7.72 1.47 1.35L5.41 20z\"/>\n",
              "  </svg>\n",
              "      </button>\n",
              "      \n",
              "  <style>\n",
              "    .colab-df-container {\n",
              "      display:flex;\n",
              "      flex-wrap:wrap;\n",
              "      gap: 12px;\n",
              "    }\n",
              "\n",
              "    .colab-df-convert {\n",
              "      background-color: #E8F0FE;\n",
              "      border: none;\n",
              "      border-radius: 50%;\n",
              "      cursor: pointer;\n",
              "      display: none;\n",
              "      fill: #1967D2;\n",
              "      height: 32px;\n",
              "      padding: 0 0 0 0;\n",
              "      width: 32px;\n",
              "    }\n",
              "\n",
              "    .colab-df-convert:hover {\n",
              "      background-color: #E2EBFA;\n",
              "      box-shadow: 0px 1px 2px rgba(60, 64, 67, 0.3), 0px 1px 3px 1px rgba(60, 64, 67, 0.15);\n",
              "      fill: #174EA6;\n",
              "    }\n",
              "\n",
              "    [theme=dark] .colab-df-convert {\n",
              "      background-color: #3B4455;\n",
              "      fill: #D2E3FC;\n",
              "    }\n",
              "\n",
              "    [theme=dark] .colab-df-convert:hover {\n",
              "      background-color: #434B5C;\n",
              "      box-shadow: 0px 1px 3px 1px rgba(0, 0, 0, 0.15);\n",
              "      filter: drop-shadow(0px 1px 2px rgba(0, 0, 0, 0.3));\n",
              "      fill: #FFFFFF;\n",
              "    }\n",
              "  </style>\n",
              "\n",
              "      <script>\n",
              "        const buttonEl =\n",
              "          document.querySelector('#df-8454f360-0bdd-4123-a6e0-c8591631aff3 button.colab-df-convert');\n",
              "        buttonEl.style.display =\n",
              "          google.colab.kernel.accessAllowed ? 'block' : 'none';\n",
              "\n",
              "        async function convertToInteractive(key) {\n",
              "          const element = document.querySelector('#df-8454f360-0bdd-4123-a6e0-c8591631aff3');\n",
              "          const dataTable =\n",
              "            await google.colab.kernel.invokeFunction('convertToInteractive',\n",
              "                                                     [key], {});\n",
              "          if (!dataTable) return;\n",
              "\n",
              "          const docLinkHtml = 'Like what you see? Visit the ' +\n",
              "            '<a target=\"_blank\" href=https://colab.research.google.com/notebooks/data_table.ipynb>data table notebook</a>'\n",
              "            + ' to learn more about interactive tables.';\n",
              "          element.innerHTML = '';\n",
              "          dataTable['output_type'] = 'display_data';\n",
              "          await google.colab.output.renderOutput(dataTable, element);\n",
              "          const docLink = document.createElement('div');\n",
              "          docLink.innerHTML = docLinkHtml;\n",
              "          element.appendChild(docLink);\n",
              "        }\n",
              "      </script>\n",
              "    </div>\n",
              "  </div>\n",
              "  "
            ]
          },
          "metadata": {},
          "execution_count": 26
        }
      ]
    },
    {
      "cell_type": "markdown",
      "source": [
        "##**4. PRÉ-PROCESSAMENTO**"
      ],
      "metadata": {
        "id": "d01jMq2acf02"
      }
    },
    {
      "cell_type": "markdown",
      "source": [
        "##**4.1 Carregamento o Dataset ORIGINAL**"
      ],
      "metadata": {
        "id": "gwn6rkZ1J_-c"
      }
    },
    {
      "cell_type": "code",
      "source": [
        "# Informa a URL de importação do dataset\n",
        "url = (r'https://raw.githubusercontent.com/salimNabbout/Qualidade_Vinhos_Norte_Portugal/main/content/winequality-red.csv')\n",
        "\n",
        "# Lê o arquivo \n",
        "dataset = pd.read_csv(url, delimiter=',')\n",
        "\n",
        "# Exibindo as primeiras linhas\n",
        "dataset.head()"
      ],
      "metadata": {
        "colab": {
          "base_uri": "https://localhost:8080/",
          "height": 206
        },
        "id": "yloGR4irJSz8",
        "outputId": "fd14516a-c518-4419-9b29-c3166fe56e47"
      },
      "execution_count": null,
      "outputs": [
        {
          "output_type": "execute_result",
          "data": {
            "text/plain": [
              "   fixed acidity  volatile acidity  citric acid  residual sugar  chlorides  \\\n",
              "0            7.4              0.70         0.00             1.9      0.076   \n",
              "1            7.8              0.88         0.00             2.6      0.098   \n",
              "2            7.8              0.76         0.04             2.3      0.092   \n",
              "3           11.2              0.28         0.56             1.9      0.075   \n",
              "4            7.4              0.70         0.00             1.9      0.076   \n",
              "\n",
              "   free sulfur dioxide  total sulfur dioxide  density    pH  sulphates  \\\n",
              "0                 11.0                  34.0   0.9978  3.51       0.56   \n",
              "1                 25.0                  67.0   0.9968  3.20       0.68   \n",
              "2                 15.0                  54.0   0.9970  3.26       0.65   \n",
              "3                 17.0                  60.0   0.9980  3.16       0.58   \n",
              "4                 11.0                  34.0   0.9978  3.51       0.56   \n",
              "\n",
              "   alcohol  quality  \n",
              "0      9.4        5  \n",
              "1      9.8        5  \n",
              "2      9.8        5  \n",
              "3      9.8        6  \n",
              "4      9.4        5  "
            ],
            "text/html": [
              "\n",
              "  <div id=\"df-cded03eb-ccab-4d9d-aa09-42ee1d4ffb76\">\n",
              "    <div class=\"colab-df-container\">\n",
              "      <div>\n",
              "<style scoped>\n",
              "    .dataframe tbody tr th:only-of-type {\n",
              "        vertical-align: middle;\n",
              "    }\n",
              "\n",
              "    .dataframe tbody tr th {\n",
              "        vertical-align: top;\n",
              "    }\n",
              "\n",
              "    .dataframe thead th {\n",
              "        text-align: right;\n",
              "    }\n",
              "</style>\n",
              "<table border=\"1\" class=\"dataframe\">\n",
              "  <thead>\n",
              "    <tr style=\"text-align: right;\">\n",
              "      <th></th>\n",
              "      <th>fixed acidity</th>\n",
              "      <th>volatile acidity</th>\n",
              "      <th>citric acid</th>\n",
              "      <th>residual sugar</th>\n",
              "      <th>chlorides</th>\n",
              "      <th>free sulfur dioxide</th>\n",
              "      <th>total sulfur dioxide</th>\n",
              "      <th>density</th>\n",
              "      <th>pH</th>\n",
              "      <th>sulphates</th>\n",
              "      <th>alcohol</th>\n",
              "      <th>quality</th>\n",
              "    </tr>\n",
              "  </thead>\n",
              "  <tbody>\n",
              "    <tr>\n",
              "      <th>0</th>\n",
              "      <td>7.4</td>\n",
              "      <td>0.70</td>\n",
              "      <td>0.00</td>\n",
              "      <td>1.9</td>\n",
              "      <td>0.076</td>\n",
              "      <td>11.0</td>\n",
              "      <td>34.0</td>\n",
              "      <td>0.9978</td>\n",
              "      <td>3.51</td>\n",
              "      <td>0.56</td>\n",
              "      <td>9.4</td>\n",
              "      <td>5</td>\n",
              "    </tr>\n",
              "    <tr>\n",
              "      <th>1</th>\n",
              "      <td>7.8</td>\n",
              "      <td>0.88</td>\n",
              "      <td>0.00</td>\n",
              "      <td>2.6</td>\n",
              "      <td>0.098</td>\n",
              "      <td>25.0</td>\n",
              "      <td>67.0</td>\n",
              "      <td>0.9968</td>\n",
              "      <td>3.20</td>\n",
              "      <td>0.68</td>\n",
              "      <td>9.8</td>\n",
              "      <td>5</td>\n",
              "    </tr>\n",
              "    <tr>\n",
              "      <th>2</th>\n",
              "      <td>7.8</td>\n",
              "      <td>0.76</td>\n",
              "      <td>0.04</td>\n",
              "      <td>2.3</td>\n",
              "      <td>0.092</td>\n",
              "      <td>15.0</td>\n",
              "      <td>54.0</td>\n",
              "      <td>0.9970</td>\n",
              "      <td>3.26</td>\n",
              "      <td>0.65</td>\n",
              "      <td>9.8</td>\n",
              "      <td>5</td>\n",
              "    </tr>\n",
              "    <tr>\n",
              "      <th>3</th>\n",
              "      <td>11.2</td>\n",
              "      <td>0.28</td>\n",
              "      <td>0.56</td>\n",
              "      <td>1.9</td>\n",
              "      <td>0.075</td>\n",
              "      <td>17.0</td>\n",
              "      <td>60.0</td>\n",
              "      <td>0.9980</td>\n",
              "      <td>3.16</td>\n",
              "      <td>0.58</td>\n",
              "      <td>9.8</td>\n",
              "      <td>6</td>\n",
              "    </tr>\n",
              "    <tr>\n",
              "      <th>4</th>\n",
              "      <td>7.4</td>\n",
              "      <td>0.70</td>\n",
              "      <td>0.00</td>\n",
              "      <td>1.9</td>\n",
              "      <td>0.076</td>\n",
              "      <td>11.0</td>\n",
              "      <td>34.0</td>\n",
              "      <td>0.9978</td>\n",
              "      <td>3.51</td>\n",
              "      <td>0.56</td>\n",
              "      <td>9.4</td>\n",
              "      <td>5</td>\n",
              "    </tr>\n",
              "  </tbody>\n",
              "</table>\n",
              "</div>\n",
              "      <button class=\"colab-df-convert\" onclick=\"convertToInteractive('df-cded03eb-ccab-4d9d-aa09-42ee1d4ffb76')\"\n",
              "              title=\"Convert this dataframe to an interactive table.\"\n",
              "              style=\"display:none;\">\n",
              "        \n",
              "  <svg xmlns=\"http://www.w3.org/2000/svg\" height=\"24px\"viewBox=\"0 0 24 24\"\n",
              "       width=\"24px\">\n",
              "    <path d=\"M0 0h24v24H0V0z\" fill=\"none\"/>\n",
              "    <path d=\"M18.56 5.44l.94 2.06.94-2.06 2.06-.94-2.06-.94-.94-2.06-.94 2.06-2.06.94zm-11 1L8.5 8.5l.94-2.06 2.06-.94-2.06-.94L8.5 2.5l-.94 2.06-2.06.94zm10 10l.94 2.06.94-2.06 2.06-.94-2.06-.94-.94-2.06-.94 2.06-2.06.94z\"/><path d=\"M17.41 7.96l-1.37-1.37c-.4-.4-.92-.59-1.43-.59-.52 0-1.04.2-1.43.59L10.3 9.45l-7.72 7.72c-.78.78-.78 2.05 0 2.83L4 21.41c.39.39.9.59 1.41.59.51 0 1.02-.2 1.41-.59l7.78-7.78 2.81-2.81c.8-.78.8-2.07 0-2.86zM5.41 20L4 18.59l7.72-7.72 1.47 1.35L5.41 20z\"/>\n",
              "  </svg>\n",
              "      </button>\n",
              "      \n",
              "  <style>\n",
              "    .colab-df-container {\n",
              "      display:flex;\n",
              "      flex-wrap:wrap;\n",
              "      gap: 12px;\n",
              "    }\n",
              "\n",
              "    .colab-df-convert {\n",
              "      background-color: #E8F0FE;\n",
              "      border: none;\n",
              "      border-radius: 50%;\n",
              "      cursor: pointer;\n",
              "      display: none;\n",
              "      fill: #1967D2;\n",
              "      height: 32px;\n",
              "      padding: 0 0 0 0;\n",
              "      width: 32px;\n",
              "    }\n",
              "\n",
              "    .colab-df-convert:hover {\n",
              "      background-color: #E2EBFA;\n",
              "      box-shadow: 0px 1px 2px rgba(60, 64, 67, 0.3), 0px 1px 3px 1px rgba(60, 64, 67, 0.15);\n",
              "      fill: #174EA6;\n",
              "    }\n",
              "\n",
              "    [theme=dark] .colab-df-convert {\n",
              "      background-color: #3B4455;\n",
              "      fill: #D2E3FC;\n",
              "    }\n",
              "\n",
              "    [theme=dark] .colab-df-convert:hover {\n",
              "      background-color: #434B5C;\n",
              "      box-shadow: 0px 1px 3px 1px rgba(0, 0, 0, 0.15);\n",
              "      filter: drop-shadow(0px 1px 2px rgba(0, 0, 0, 0.3));\n",
              "      fill: #FFFFFF;\n",
              "    }\n",
              "  </style>\n",
              "\n",
              "      <script>\n",
              "        const buttonEl =\n",
              "          document.querySelector('#df-cded03eb-ccab-4d9d-aa09-42ee1d4ffb76 button.colab-df-convert');\n",
              "        buttonEl.style.display =\n",
              "          google.colab.kernel.accessAllowed ? 'block' : 'none';\n",
              "\n",
              "        async function convertToInteractive(key) {\n",
              "          const element = document.querySelector('#df-cded03eb-ccab-4d9d-aa09-42ee1d4ffb76');\n",
              "          const dataTable =\n",
              "            await google.colab.kernel.invokeFunction('convertToInteractive',\n",
              "                                                     [key], {});\n",
              "          if (!dataTable) return;\n",
              "\n",
              "          const docLinkHtml = 'Like what you see? Visit the ' +\n",
              "            '<a target=\"_blank\" href=https://colab.research.google.com/notebooks/data_table.ipynb>data table notebook</a>'\n",
              "            + ' to learn more about interactive tables.';\n",
              "          element.innerHTML = '';\n",
              "          dataTable['output_type'] = 'display_data';\n",
              "          await google.colab.output.renderOutput(dataTable, element);\n",
              "          const docLink = document.createElement('div');\n",
              "          docLink.innerHTML = docLinkHtml;\n",
              "          element.appendChild(docLink);\n",
              "        }\n",
              "      </script>\n",
              "    </div>\n",
              "  </div>\n",
              "  "
            ]
          },
          "metadata": {},
          "execution_count": 22
        }
      ]
    },
    {
      "cell_type": "markdown",
      "source": [
        "##**4.2 Tratamento de MISSING**\n",
        "\n",
        "Verificando os Valores faltantes no Datasets\n"
      ],
      "metadata": {
        "id": "yxlc0uWckrfv"
      }
    },
    {
      "cell_type": "code",
      "source": [
        "dataset.isnull().sum()"
      ],
      "metadata": {
        "colab": {
          "base_uri": "https://localhost:8080/"
        },
        "id": "TawkGRh-j2fr",
        "outputId": "7aed9321-6c7b-461b-e2aa-1d8bf67bde83"
      },
      "execution_count": null,
      "outputs": [
        {
          "output_type": "execute_result",
          "data": {
            "text/plain": [
              "fixed acidity           0\n",
              "volatile acidity        0\n",
              "citric acid             0\n",
              "residual sugar          0\n",
              "chlorides               0\n",
              "free sulfur dioxide     0\n",
              "total sulfur dioxide    0\n",
              "density                 0\n",
              "pH                      0\n",
              "sulphates               0\n",
              "alcohol                 0\n",
              "quality                 0\n",
              "dtype: int64"
            ]
          },
          "metadata": {},
          "execution_count": 32
        }
      ]
    },
    {
      "cell_type": "markdown",
      "source": [
        "Nesta etapa será salvo um novo arquivo, chamado de Dataset em substituição ao original \"Qldvinhos\" para executar o tratamento de MISSING.\n",
        "\n",
        "Observamos na coluna do atributo citric acidity, que existem valores nulos. Este atrubuto deverá sofrer um tratamento na sequencia do pré processamento"
      ],
      "metadata": {
        "id": "A80_IXi6c36k"
      }
    },
    {
      "cell_type": "code",
      "source": [
        "# recuperando os nomes das colunas\n",
        "col = list(dataset.columns)\n",
        "\n",
        "# o novo dataset irá conter todas as colunas do dataset original\n",
        "datasetSemMissings = dataset[col[:]]\n",
        "\n",
        "# substituindo os zeros por NaN\n",
        "datasetSemMissings.replace(0, np.nan, inplace=True)\n",
        "\n",
        "# exibindo visualização matricial da nulidade do dataset\n",
        "ms.matrix(datasetSemMissings)"
      ],
      "metadata": {
        "colab": {
          "base_uri": "https://localhost:8080/",
          "height": 705
        },
        "id": "HW5JyzNBKMzf",
        "outputId": "fc85cbcd-c65c-4849-abf4-b248324a474b"
      },
      "execution_count": null,
      "outputs": [
        {
          "output_type": "execute_result",
          "data": {
            "text/plain": [
              "<Axes: >"
            ]
          },
          "metadata": {},
          "execution_count": 23
        },
        {
          "output_type": "display_data",
          "data": {
            "text/plain": [
              "<Figure size 2500x1000 with 2 Axes>"
            ],
            "image/png": "[encoded data removed]"
          },
          "metadata": {}
        }
      ]
    },
    {
      "cell_type": "markdown",
      "source": [
        "##**4.3 Reverificando o Dataset Apos as Substituições dos Zeros por NaN**"
      ],
      "metadata": {
        "id": "HXHZvwLD_6rC"
      }
    },
    {
      "cell_type": "code",
      "source": [
        "datasetSemMissings.isnull().sum()"
      ],
      "metadata": {
        "colab": {
          "base_uri": "https://localhost:8080/"
        },
        "id": "ucl8RGLoLxfB",
        "outputId": "2ffb8a92-090a-4291-e27b-5619d1dd7d53"
      },
      "execution_count": null,
      "outputs": [
        {
          "output_type": "execute_result",
          "data": {
            "text/plain": [
              "fixed acidity             0\n",
              "volatile acidity          0\n",
              "citric acid             132\n",
              "residual sugar            0\n",
              "chlorides                 0\n",
              "free sulfur dioxide       0\n",
              "total sulfur dioxide      0\n",
              "density                   0\n",
              "pH                        0\n",
              "sulphates                 0\n",
              "alcohol                   0\n",
              "quality                   0\n",
              "dtype: int64"
            ]
          },
          "metadata": {},
          "execution_count": 55
        }
      ]
    },
    {
      "cell_type": "markdown",
      "source": [
        "##**4.4 Tratando O DATASET**"
      ],
      "metadata": {
        "id": "XkI-MKvxYGlm"
      }
    },
    {
      "cell_type": "markdown",
      "source": [
        "Existem 132 valores zerados na coluna do \"citric acid\", como este valor representa apenas 8,2% do total dos valores desta coluna, iremos substituir esses valores faltantes pela mediana da coluna."
      ],
      "metadata": {
        "id": "DuBclNOXRh5Y"
      }
    },
    {
      "cell_type": "markdown",
      "source": [
        "Substituindo os NaN de \"citric acid\" pela mediana do atributo\n",
        "\n",
        "Exibindo a Matriz de nulidade do dataset apos tratamento"
      ],
      "metadata": {
        "id": "c8zDEJmkDKlI"
      }
    },
    {
      "cell_type": "code",
      "source": [
        "datasetSemMissings['citric acid'].fillna(datasetSemMissings['citric acid'].median(), inplace=True)\n",
        "\n",
        "ms.matrix(datasetSemMissings)"
      ],
      "metadata": {
        "id": "HCZIav3PS7QL"
      },
      "execution_count": null,
      "outputs": []
    },
    {
      "cell_type": "markdown",
      "source": [
        "A figura acima , mostra o Dataset tratado preservando as caracteristicas de linhas e colunas do dataset original. Entretanto os zeros na coluna do atributo \"citric acid\" foram substituidos pela mediana desta coluna (0,28), que se observava nas linhas 0 e 1 do dataset original em comparação ao dataset antes do tratamento\n",
        "\n"
      ],
      "metadata": {
        "id": "BPjkVyODX2ZO"
      }
    },
    {
      "cell_type": "markdown",
      "source": [
        "##**4.5 Tabelas Comparativas - Antes e depois do Tratamento**\n",
        "\n",
        "As tabelas abaixo servem de comparação entre o dataset original( Qldvinhos ) e o dataset apos o tratamento (datasetSemMissing ).\n",
        "\n",
        " Observamos que apos o TRATAMENTO, os valores zerados nas duas primeiras linhas do dataframe foram SUBSTITUIDAS PELA MEDIANA DO ATRIBUTO."
      ],
      "metadata": {
        "id": "AFNyhmH8bDpa"
      }
    },
    {
      "cell_type": "code",
      "source": [
        "Qldvinhos.head()"
      ],
      "metadata": {
        "colab": {
          "base_uri": "https://localhost:8080/",
          "height": 206
        },
        "id": "XL0UR9qIavT8",
        "outputId": "f89684a2-1ba8-4a30-e82d-e374548e680a"
      },
      "execution_count": null,
      "outputs": [
        {
          "output_type": "execute_result",
          "data": {
            "text/plain": [
              "   fixed acidity  volatile acidity  citric acid  residual sugar  chlorides  \\\n",
              "0            7.4              0.70         0.00             1.9      0.076   \n",
              "1            7.8              0.88         0.00             2.6      0.098   \n",
              "2            7.8              0.76         0.04             2.3      0.092   \n",
              "3           11.2              0.28         0.56             1.9      0.075   \n",
              "4            7.4              0.70         0.00             1.9      0.076   \n",
              "\n",
              "   free sulfur dioxide  total sulfur dioxide  density    pH  sulphates  \\\n",
              "0                 11.0                  34.0   0.9978  3.51       0.56   \n",
              "1                 25.0                  67.0   0.9968  3.20       0.68   \n",
              "2                 15.0                  54.0   0.9970  3.26       0.65   \n",
              "3                 17.0                  60.0   0.9980  3.16       0.58   \n",
              "4                 11.0                  34.0   0.9978  3.51       0.56   \n",
              "\n",
              "   alcohol  quality  \n",
              "0      9.4        5  \n",
              "1      9.8        5  \n",
              "2      9.8        5  \n",
              "3      9.8        6  \n",
              "4      9.4        5  "
            ],
            "text/html": [
              "\n",
              "  <div id=\"df-cf7fa980-d6c3-478d-9e6e-a51447cdf226\">\n",
              "    <div class=\"colab-df-container\">\n",
              "      <div>\n",
              "<style scoped>\n",
              "    .dataframe tbody tr th:only-of-type {\n",
              "        vertical-align: middle;\n",
              "    }\n",
              "\n",
              "    .dataframe tbody tr th {\n",
              "        vertical-align: top;\n",
              "    }\n",
              "\n",
              "    .dataframe thead th {\n",
              "        text-align: right;\n",
              "    }\n",
              "</style>\n",
              "<table border=\"1\" class=\"dataframe\">\n",
              "  <thead>\n",
              "    <tr style=\"text-align: right;\">\n",
              "      <th></th>\n",
              "      <th>fixed acidity</th>\n",
              "      <th>volatile acidity</th>\n",
              "      <th>citric acid</th>\n",
              "      <th>residual sugar</th>\n",
              "      <th>chlorides</th>\n",
              "      <th>free sulfur dioxide</th>\n",
              "      <th>total sulfur dioxide</th>\n",
              "      <th>density</th>\n",
              "      <th>pH</th>\n",
              "      <th>sulphates</th>\n",
              "      <th>alcohol</th>\n",
              "      <th>quality</th>\n",
              "    </tr>\n",
              "  </thead>\n",
              "  <tbody>\n",
              "    <tr>\n",
              "      <th>0</th>\n",
              "      <td>7.4</td>\n",
              "      <td>0.70</td>\n",
              "      <td>0.00</td>\n",
              "      <td>1.9</td>\n",
              "      <td>0.076</td>\n",
              "      <td>11.0</td>\n",
              "      <td>34.0</td>\n",
              "      <td>0.9978</td>\n",
              "      <td>3.51</td>\n",
              "      <td>0.56</td>\n",
              "      <td>9.4</td>\n",
              "      <td>5</td>\n",
              "    </tr>\n",
              "    <tr>\n",
              "      <th>1</th>\n",
              "      <td>7.8</td>\n",
              "      <td>0.88</td>\n",
              "      <td>0.00</td>\n",
              "      <td>2.6</td>\n",
              "      <td>0.098</td>\n",
              "      <td>25.0</td>\n",
              "      <td>67.0</td>\n",
              "      <td>0.9968</td>\n",
              "      <td>3.20</td>\n",
              "      <td>0.68</td>\n",
              "      <td>9.8</td>\n",
              "      <td>5</td>\n",
              "    </tr>\n",
              "    <tr>\n",
              "      <th>2</th>\n",
              "      <td>7.8</td>\n",
              "      <td>0.76</td>\n",
              "      <td>0.04</td>\n",
              "      <td>2.3</td>\n",
              "      <td>0.092</td>\n",
              "      <td>15.0</td>\n",
              "      <td>54.0</td>\n",
              "      <td>0.9970</td>\n",
              "      <td>3.26</td>\n",
              "      <td>0.65</td>\n",
              "      <td>9.8</td>\n",
              "      <td>5</td>\n",
              "    </tr>\n",
              "    <tr>\n",
              "      <th>3</th>\n",
              "      <td>11.2</td>\n",
              "      <td>0.28</td>\n",
              "      <td>0.56</td>\n",
              "      <td>1.9</td>\n",
              "      <td>0.075</td>\n",
              "      <td>17.0</td>\n",
              "      <td>60.0</td>\n",
              "      <td>0.9980</td>\n",
              "      <td>3.16</td>\n",
              "      <td>0.58</td>\n",
              "      <td>9.8</td>\n",
              "      <td>6</td>\n",
              "    </tr>\n",
              "    <tr>\n",
              "      <th>4</th>\n",
              "      <td>7.4</td>\n",
              "      <td>0.70</td>\n",
              "      <td>0.00</td>\n",
              "      <td>1.9</td>\n",
              "      <td>0.076</td>\n",
              "      <td>11.0</td>\n",
              "      <td>34.0</td>\n",
              "      <td>0.9978</td>\n",
              "      <td>3.51</td>\n",
              "      <td>0.56</td>\n",
              "      <td>9.4</td>\n",
              "      <td>5</td>\n",
              "    </tr>\n",
              "  </tbody>\n",
              "</table>\n",
              "</div>\n",
              "      <button class=\"colab-df-convert\" onclick=\"convertToInteractive('df-cf7fa980-d6c3-478d-9e6e-a51447cdf226')\"\n",
              "              title=\"Convert this dataframe to an interactive table.\"\n",
              "              style=\"display:none;\">\n",
              "        \n",
              "  <svg xmlns=\"http://www.w3.org/2000/svg\" height=\"24px\"viewBox=\"0 0 24 24\"\n",
              "       width=\"24px\">\n",
              "    <path d=\"M0 0h24v24H0V0z\" fill=\"none\"/>\n",
              "    <path d=\"M18.56 5.44l.94 2.06.94-2.06 2.06-.94-2.06-.94-.94-2.06-.94 2.06-2.06.94zm-11 1L8.5 8.5l.94-2.06 2.06-.94-2.06-.94L8.5 2.5l-.94 2.06-2.06.94zm10 10l.94 2.06.94-2.06 2.06-.94-2.06-.94-.94-2.06-.94 2.06-2.06.94z\"/><path d=\"M17.41 7.96l-1.37-1.37c-.4-.4-.92-.59-1.43-.59-.52 0-1.04.2-1.43.59L10.3 9.45l-7.72 7.72c-.78.78-.78 2.05 0 2.83L4 21.41c.39.39.9.59 1.41.59.51 0 1.02-.2 1.41-.59l7.78-7.78 2.81-2.81c.8-.78.8-2.07 0-2.86zM5.41 20L4 18.59l7.72-7.72 1.47 1.35L5.41 20z\"/>\n",
              "  </svg>\n",
              "      </button>\n",
              "      \n",
              "  <style>\n",
              "    .colab-df-container {\n",
              "      display:flex;\n",
              "      flex-wrap:wrap;\n",
              "      gap: 12px;\n",
              "    }\n",
              "\n",
              "    .colab-df-convert {\n",
              "      background-color: #E8F0FE;\n",
              "      border: none;\n",
              "      border-radius: 50%;\n",
              "      cursor: pointer;\n",
              "      display: none;\n",
              "      fill: #1967D2;\n",
              "      height: 32px;\n",
              "      padding: 0 0 0 0;\n",
              "      width: 32px;\n",
              "    }\n",
              "\n",
              "    .colab-df-convert:hover {\n",
              "      background-color: #E2EBFA;\n",
              "      box-shadow: 0px 1px 2px rgba(60, 64, 67, 0.3), 0px 1px 3px 1px rgba(60, 64, 67, 0.15);\n",
              "      fill: #174EA6;\n",
              "    }\n",
              "\n",
              "    [theme=dark] .colab-df-convert {\n",
              "      background-color: #3B4455;\n",
              "      fill: #D2E3FC;\n",
              "    }\n",
              "\n",
              "    [theme=dark] .colab-df-convert:hover {\n",
              "      background-color: #434B5C;\n",
              "      box-shadow: 0px 1px 3px 1px rgba(0, 0, 0, 0.15);\n",
              "      filter: drop-shadow(0px 1px 2px rgba(0, 0, 0, 0.3));\n",
              "      fill: #FFFFFF;\n",
              "    }\n",
              "  </style>\n",
              "\n",
              "      <script>\n",
              "        const buttonEl =\n",
              "          document.querySelector('#df-cf7fa980-d6c3-478d-9e6e-a51447cdf226 button.colab-df-convert');\n",
              "        buttonEl.style.display =\n",
              "          google.colab.kernel.accessAllowed ? 'block' : 'none';\n",
              "\n",
              "        async function convertToInteractive(key) {\n",
              "          const element = document.querySelector('#df-cf7fa980-d6c3-478d-9e6e-a51447cdf226');\n",
              "          const dataTable =\n",
              "            await google.colab.kernel.invokeFunction('convertToInteractive',\n",
              "                                                     [key], {});\n",
              "          if (!dataTable) return;\n",
              "\n",
              "          const docLinkHtml = 'Like what you see? Visit the ' +\n",
              "            '<a target=\"_blank\" href=https://colab.research.google.com/notebooks/data_table.ipynb>data table notebook</a>'\n",
              "            + ' to learn more about interactive tables.';\n",
              "          element.innerHTML = '';\n",
              "          dataTable['output_type'] = 'display_data';\n",
              "          await google.colab.output.renderOutput(dataTable, element);\n",
              "          const docLink = document.createElement('div');\n",
              "          docLink.innerHTML = docLinkHtml;\n",
              "          element.appendChild(docLink);\n",
              "        }\n",
              "      </script>\n",
              "    </div>\n",
              "  </div>\n",
              "  "
            ]
          },
          "metadata": {},
          "execution_count": 14
        }
      ]
    },
    {
      "cell_type": "code",
      "source": [
        "datasetSemMissings.head()"
      ],
      "metadata": {
        "colab": {
          "base_uri": "https://localhost:8080/",
          "height": 206
        },
        "id": "hCf1LR2LXQbk",
        "outputId": "2d0a234e-e5c7-4e29-9402-11a723001588"
      },
      "execution_count": null,
      "outputs": [
        {
          "output_type": "execute_result",
          "data": {
            "text/plain": [
              "   fixed acidity  volatile acidity  citric acid  residual sugar  chlorides  \\\n",
              "0            7.4              0.70         0.28             1.9      0.076   \n",
              "1            7.8              0.88         0.28             2.6      0.098   \n",
              "2            7.8              0.76         0.04             2.3      0.092   \n",
              "3           11.2              0.28         0.56             1.9      0.075   \n",
              "4            7.4              0.70         0.28             1.9      0.076   \n",
              "\n",
              "   free sulfur dioxide  total sulfur dioxide  density    pH  sulphates  \\\n",
              "0                 11.0                  34.0   0.9978  3.51       0.56   \n",
              "1                 25.0                  67.0   0.9968  3.20       0.68   \n",
              "2                 15.0                  54.0   0.9970  3.26       0.65   \n",
              "3                 17.0                  60.0   0.9980  3.16       0.58   \n",
              "4                 11.0                  34.0   0.9978  3.51       0.56   \n",
              "\n",
              "   alcohol  quality  \n",
              "0      9.4        5  \n",
              "1      9.8        5  \n",
              "2      9.8        5  \n",
              "3      9.8        6  \n",
              "4      9.4        5  "
            ],
            "text/html": [
              "\n",
              "  <div id=\"df-a161b6fc-fc8f-4bef-8ceb-e4ccdbbea51a\">\n",
              "    <div class=\"colab-df-container\">\n",
              "      <div>\n",
              "<style scoped>\n",
              "    .dataframe tbody tr th:only-of-type {\n",
              "        vertical-align: middle;\n",
              "    }\n",
              "\n",
              "    .dataframe tbody tr th {\n",
              "        vertical-align: top;\n",
              "    }\n",
              "\n",
              "    .dataframe thead th {\n",
              "        text-align: right;\n",
              "    }\n",
              "</style>\n",
              "<table border=\"1\" class=\"dataframe\">\n",
              "  <thead>\n",
              "    <tr style=\"text-align: right;\">\n",
              "      <th></th>\n",
              "      <th>fixed acidity</th>\n",
              "      <th>volatile acidity</th>\n",
              "      <th>citric acid</th>\n",
              "      <th>residual sugar</th>\n",
              "      <th>chlorides</th>\n",
              "      <th>free sulfur dioxide</th>\n",
              "      <th>total sulfur dioxide</th>\n",
              "      <th>density</th>\n",
              "      <th>pH</th>\n",
              "      <th>sulphates</th>\n",
              "      <th>alcohol</th>\n",
              "      <th>quality</th>\n",
              "    </tr>\n",
              "  </thead>\n",
              "  <tbody>\n",
              "    <tr>\n",
              "      <th>0</th>\n",
              "      <td>7.4</td>\n",
              "      <td>0.70</td>\n",
              "      <td>0.28</td>\n",
              "      <td>1.9</td>\n",
              "      <td>0.076</td>\n",
              "      <td>11.0</td>\n",
              "      <td>34.0</td>\n",
              "      <td>0.9978</td>\n",
              "      <td>3.51</td>\n",
              "      <td>0.56</td>\n",
              "      <td>9.4</td>\n",
              "      <td>5</td>\n",
              "    </tr>\n",
              "    <tr>\n",
              "      <th>1</th>\n",
              "      <td>7.8</td>\n",
              "      <td>0.88</td>\n",
              "      <td>0.28</td>\n",
              "      <td>2.6</td>\n",
              "      <td>0.098</td>\n",
              "      <td>25.0</td>\n",
              "      <td>67.0</td>\n",
              "      <td>0.9968</td>\n",
              "      <td>3.20</td>\n",
              "      <td>0.68</td>\n",
              "      <td>9.8</td>\n",
              "      <td>5</td>\n",
              "    </tr>\n",
              "    <tr>\n",
              "      <th>2</th>\n",
              "      <td>7.8</td>\n",
              "      <td>0.76</td>\n",
              "      <td>0.04</td>\n",
              "      <td>2.3</td>\n",
              "      <td>0.092</td>\n",
              "      <td>15.0</td>\n",
              "      <td>54.0</td>\n",
              "      <td>0.9970</td>\n",
              "      <td>3.26</td>\n",
              "      <td>0.65</td>\n",
              "      <td>9.8</td>\n",
              "      <td>5</td>\n",
              "    </tr>\n",
              "    <tr>\n",
              "      <th>3</th>\n",
              "      <td>11.2</td>\n",
              "      <td>0.28</td>\n",
              "      <td>0.56</td>\n",
              "      <td>1.9</td>\n",
              "      <td>0.075</td>\n",
              "      <td>17.0</td>\n",
              "      <td>60.0</td>\n",
              "      <td>0.9980</td>\n",
              "      <td>3.16</td>\n",
              "      <td>0.58</td>\n",
              "      <td>9.8</td>\n",
              "      <td>6</td>\n",
              "    </tr>\n",
              "    <tr>\n",
              "      <th>4</th>\n",
              "      <td>7.4</td>\n",
              "      <td>0.70</td>\n",
              "      <td>0.28</td>\n",
              "      <td>1.9</td>\n",
              "      <td>0.076</td>\n",
              "      <td>11.0</td>\n",
              "      <td>34.0</td>\n",
              "      <td>0.9978</td>\n",
              "      <td>3.51</td>\n",
              "      <td>0.56</td>\n",
              "      <td>9.4</td>\n",
              "      <td>5</td>\n",
              "    </tr>\n",
              "  </tbody>\n",
              "</table>\n",
              "</div>\n",
              "      <button class=\"colab-df-convert\" onclick=\"convertToInteractive('df-a161b6fc-fc8f-4bef-8ceb-e4ccdbbea51a')\"\n",
              "              title=\"Convert this dataframe to an interactive table.\"\n",
              "              style=\"display:none;\">\n",
              "        \n",
              "  <svg xmlns=\"http://www.w3.org/2000/svg\" height=\"24px\"viewBox=\"0 0 24 24\"\n",
              "       width=\"24px\">\n",
              "    <path d=\"M0 0h24v24H0V0z\" fill=\"none\"/>\n",
              "    <path d=\"M18.56 5.44l.94 2.06.94-2.06 2.06-.94-2.06-.94-.94-2.06-.94 2.06-2.06.94zm-11 1L8.5 8.5l.94-2.06 2.06-.94-2.06-.94L8.5 2.5l-.94 2.06-2.06.94zm10 10l.94 2.06.94-2.06 2.06-.94-2.06-.94-.94-2.06-.94 2.06-2.06.94z\"/><path d=\"M17.41 7.96l-1.37-1.37c-.4-.4-.92-.59-1.43-.59-.52 0-1.04.2-1.43.59L10.3 9.45l-7.72 7.72c-.78.78-.78 2.05 0 2.83L4 21.41c.39.39.9.59 1.41.59.51 0 1.02-.2 1.41-.59l7.78-7.78 2.81-2.81c.8-.78.8-2.07 0-2.86zM5.41 20L4 18.59l7.72-7.72 1.47 1.35L5.41 20z\"/>\n",
              "  </svg>\n",
              "      </button>\n",
              "      \n",
              "  <style>\n",
              "    .colab-df-container {\n",
              "      display:flex;\n",
              "      flex-wrap:wrap;\n",
              "      gap: 12px;\n",
              "    }\n",
              "\n",
              "    .colab-df-convert {\n",
              "      background-color: #E8F0FE;\n",
              "      border: none;\n",
              "      border-radius: 50%;\n",
              "      cursor: pointer;\n",
              "      display: none;\n",
              "      fill: #1967D2;\n",
              "      height: 32px;\n",
              "      padding: 0 0 0 0;\n",
              "      width: 32px;\n",
              "    }\n",
              "\n",
              "    .colab-df-convert:hover {\n",
              "      background-color: #E2EBFA;\n",
              "      box-shadow: 0px 1px 2px rgba(60, 64, 67, 0.3), 0px 1px 3px 1px rgba(60, 64, 67, 0.15);\n",
              "      fill: #174EA6;\n",
              "    }\n",
              "\n",
              "    [theme=dark] .colab-df-convert {\n",
              "      background-color: #3B4455;\n",
              "      fill: #D2E3FC;\n",
              "    }\n",
              "\n",
              "    [theme=dark] .colab-df-convert:hover {\n",
              "      background-color: #434B5C;\n",
              "      box-shadow: 0px 1px 3px 1px rgba(0, 0, 0, 0.15);\n",
              "      filter: drop-shadow(0px 1px 2px rgba(0, 0, 0, 0.3));\n",
              "      fill: #FFFFFF;\n",
              "    }\n",
              "  </style>\n",
              "\n",
              "      <script>\n",
              "        const buttonEl =\n",
              "          document.querySelector('#df-a161b6fc-fc8f-4bef-8ceb-e4ccdbbea51a button.colab-df-convert');\n",
              "        buttonEl.style.display =\n",
              "          google.colab.kernel.accessAllowed ? 'block' : 'none';\n",
              "\n",
              "        async function convertToInteractive(key) {\n",
              "          const element = document.querySelector('#df-a161b6fc-fc8f-4bef-8ceb-e4ccdbbea51a');\n",
              "          const dataTable =\n",
              "            await google.colab.kernel.invokeFunction('convertToInteractive',\n",
              "                                                     [key], {});\n",
              "          if (!dataTable) return;\n",
              "\n",
              "          const docLinkHtml = 'Like what you see? Visit the ' +\n",
              "            '<a target=\"_blank\" href=https://colab.research.google.com/notebooks/data_table.ipynb>data table notebook</a>'\n",
              "            + ' to learn more about interactive tables.';\n",
              "          element.innerHTML = '';\n",
              "          dataTable['output_type'] = 'display_data';\n",
              "          await google.colab.output.renderOutput(dataTable, element);\n",
              "          const docLink = document.createElement('div');\n",
              "          docLink.innerHTML = docLinkHtml;\n",
              "          element.appendChild(docLink);\n",
              "        }\n",
              "      </script>\n",
              "    </div>\n",
              "  </div>\n",
              "  "
            ]
          },
          "metadata": {},
          "execution_count": 15
        }
      ]
    },
    {
      "cell_type": "markdown",
      "source": [
        "As duas tabelas abaixo, servem apenas de CONFIRMAÇÃO do tratamento realizado.\n",
        "\n",
        "A PRIMEIRA tabela mostra que nenhuma linha desceu por NÃO apresentar MISSING em TODAS linhas ou colunas.\n",
        "\n",
        "\n",
        "A SEGUNDA tabela constata que nenhuma linha desceu por NÃO apresentar MISSING em ALGUMAS linhas ou colunas.\n",
        "\n"
      ],
      "metadata": {
        "id": "v65XcKlKZLC8"
      }
    },
    {
      "cell_type": "code",
      "source": [
        "datasetSemMissings=datasetSemMissings.dropna(how='all')\n",
        "dataset.tail()"
      ],
      "metadata": {
        "colab": {
          "base_uri": "https://localhost:8080/",
          "height": 206
        },
        "id": "w3Fcg6W-bNd7",
        "outputId": "4e2450d0-30c9-4dca-cfa8-39fccd28b306"
      },
      "execution_count": null,
      "outputs": [
        {
          "output_type": "execute_result",
          "data": {
            "text/plain": [
              "      fixed acidity  volatile acidity  citric acid  residual sugar  chlorides  \\\n",
              "1594            6.2             0.600         0.08             2.0      0.090   \n",
              "1595            5.9             0.550         0.10             2.2      0.062   \n",
              "1596            6.3             0.510         0.13             2.3      0.076   \n",
              "1597            5.9             0.645         0.12             2.0      0.075   \n",
              "1598            6.0             0.310         0.47             3.6      0.067   \n",
              "\n",
              "      free sulfur dioxide  total sulfur dioxide  density    pH  sulphates  \\\n",
              "1594                 32.0                  44.0  0.99490  3.45       0.58   \n",
              "1595                 39.0                  51.0  0.99512  3.52       0.76   \n",
              "1596                 29.0                  40.0  0.99574  3.42       0.75   \n",
              "1597                 32.0                  44.0  0.99547  3.57       0.71   \n",
              "1598                 18.0                  42.0  0.99549  3.39       0.66   \n",
              "\n",
              "      alcohol  quality  \n",
              "1594     10.5        5  \n",
              "1595     11.2        6  \n",
              "1596     11.0        6  \n",
              "1597     10.2        5  \n",
              "1598     11.0        6  "
            ],
            "text/html": [
              "\n",
              "  <div id=\"df-0687a864-4af7-4232-8ac5-2dd8fecf1b9e\">\n",
              "    <div class=\"colab-df-container\">\n",
              "      <div>\n",
              "<style scoped>\n",
              "    .dataframe tbody tr th:only-of-type {\n",
              "        vertical-align: middle;\n",
              "    }\n",
              "\n",
              "    .dataframe tbody tr th {\n",
              "        vertical-align: top;\n",
              "    }\n",
              "\n",
              "    .dataframe thead th {\n",
              "        text-align: right;\n",
              "    }\n",
              "</style>\n",
              "<table border=\"1\" class=\"dataframe\">\n",
              "  <thead>\n",
              "    <tr style=\"text-align: right;\">\n",
              "      <th></th>\n",
              "      <th>fixed acidity</th>\n",
              "      <th>volatile acidity</th>\n",
              "      <th>citric acid</th>\n",
              "      <th>residual sugar</th>\n",
              "      <th>chlorides</th>\n",
              "      <th>free sulfur dioxide</th>\n",
              "      <th>total sulfur dioxide</th>\n",
              "      <th>density</th>\n",
              "      <th>pH</th>\n",
              "      <th>sulphates</th>\n",
              "      <th>alcohol</th>\n",
              "      <th>quality</th>\n",
              "    </tr>\n",
              "  </thead>\n",
              "  <tbody>\n",
              "    <tr>\n",
              "      <th>1594</th>\n",
              "      <td>6.2</td>\n",
              "      <td>0.600</td>\n",
              "      <td>0.08</td>\n",
              "      <td>2.0</td>\n",
              "      <td>0.090</td>\n",
              "      <td>32.0</td>\n",
              "      <td>44.0</td>\n",
              "      <td>0.99490</td>\n",
              "      <td>3.45</td>\n",
              "      <td>0.58</td>\n",
              "      <td>10.5</td>\n",
              "      <td>5</td>\n",
              "    </tr>\n",
              "    <tr>\n",
              "      <th>1595</th>\n",
              "      <td>5.9</td>\n",
              "      <td>0.550</td>\n",
              "      <td>0.10</td>\n",
              "      <td>2.2</td>\n",
              "      <td>0.062</td>\n",
              "      <td>39.0</td>\n",
              "      <td>51.0</td>\n",
              "      <td>0.99512</td>\n",
              "      <td>3.52</td>\n",
              "      <td>0.76</td>\n",
              "      <td>11.2</td>\n",
              "      <td>6</td>\n",
              "    </tr>\n",
              "    <tr>\n",
              "      <th>1596</th>\n",
              "      <td>6.3</td>\n",
              "      <td>0.510</td>\n",
              "      <td>0.13</td>\n",
              "      <td>2.3</td>\n",
              "      <td>0.076</td>\n",
              "      <td>29.0</td>\n",
              "      <td>40.0</td>\n",
              "      <td>0.99574</td>\n",
              "      <td>3.42</td>\n",
              "      <td>0.75</td>\n",
              "      <td>11.0</td>\n",
              "      <td>6</td>\n",
              "    </tr>\n",
              "    <tr>\n",
              "      <th>1597</th>\n",
              "      <td>5.9</td>\n",
              "      <td>0.645</td>\n",
              "      <td>0.12</td>\n",
              "      <td>2.0</td>\n",
              "      <td>0.075</td>\n",
              "      <td>32.0</td>\n",
              "      <td>44.0</td>\n",
              "      <td>0.99547</td>\n",
              "      <td>3.57</td>\n",
              "      <td>0.71</td>\n",
              "      <td>10.2</td>\n",
              "      <td>5</td>\n",
              "    </tr>\n",
              "    <tr>\n",
              "      <th>1598</th>\n",
              "      <td>6.0</td>\n",
              "      <td>0.310</td>\n",
              "      <td>0.47</td>\n",
              "      <td>3.6</td>\n",
              "      <td>0.067</td>\n",
              "      <td>18.0</td>\n",
              "      <td>42.0</td>\n",
              "      <td>0.99549</td>\n",
              "      <td>3.39</td>\n",
              "      <td>0.66</td>\n",
              "      <td>11.0</td>\n",
              "      <td>6</td>\n",
              "    </tr>\n",
              "  </tbody>\n",
              "</table>\n",
              "</div>\n",
              "      <button class=\"colab-df-convert\" onclick=\"convertToInteractive('df-0687a864-4af7-4232-8ac5-2dd8fecf1b9e')\"\n",
              "              title=\"Convert this dataframe to an interactive table.\"\n",
              "              style=\"display:none;\">\n",
              "        \n",
              "  <svg xmlns=\"http://www.w3.org/2000/svg\" height=\"24px\"viewBox=\"0 0 24 24\"\n",
              "       width=\"24px\">\n",
              "    <path d=\"M0 0h24v24H0V0z\" fill=\"none\"/>\n",
              "    <path d=\"M18.56 5.44l.94 2.06.94-2.06 2.06-.94-2.06-.94-.94-2.06-.94 2.06-2.06.94zm-11 1L8.5 8.5l.94-2.06 2.06-.94-2.06-.94L8.5 2.5l-.94 2.06-2.06.94zm10 10l.94 2.06.94-2.06 2.06-.94-2.06-.94-.94-2.06-.94 2.06-2.06.94z\"/><path d=\"M17.41 7.96l-1.37-1.37c-.4-.4-.92-.59-1.43-.59-.52 0-1.04.2-1.43.59L10.3 9.45l-7.72 7.72c-.78.78-.78 2.05 0 2.83L4 21.41c.39.39.9.59 1.41.59.51 0 1.02-.2 1.41-.59l7.78-7.78 2.81-2.81c.8-.78.8-2.07 0-2.86zM5.41 20L4 18.59l7.72-7.72 1.47 1.35L5.41 20z\"/>\n",
              "  </svg>\n",
              "      </button>\n",
              "      \n",
              "  <style>\n",
              "    .colab-df-container {\n",
              "      display:flex;\n",
              "      flex-wrap:wrap;\n",
              "      gap: 12px;\n",
              "    }\n",
              "\n",
              "    .colab-df-convert {\n",
              "      background-color: #E8F0FE;\n",
              "      border: none;\n",
              "      border-radius: 50%;\n",
              "      cursor: pointer;\n",
              "      display: none;\n",
              "      fill: #1967D2;\n",
              "      height: 32px;\n",
              "      padding: 0 0 0 0;\n",
              "      width: 32px;\n",
              "    }\n",
              "\n",
              "    .colab-df-convert:hover {\n",
              "      background-color: #E2EBFA;\n",
              "      box-shadow: 0px 1px 2px rgba(60, 64, 67, 0.3), 0px 1px 3px 1px rgba(60, 64, 67, 0.15);\n",
              "      fill: #174EA6;\n",
              "    }\n",
              "\n",
              "    [theme=dark] .colab-df-convert {\n",
              "      background-color: #3B4455;\n",
              "      fill: #D2E3FC;\n",
              "    }\n",
              "\n",
              "    [theme=dark] .colab-df-convert:hover {\n",
              "      background-color: #434B5C;\n",
              "      box-shadow: 0px 1px 3px 1px rgba(0, 0, 0, 0.15);\n",
              "      filter: drop-shadow(0px 1px 2px rgba(0, 0, 0, 0.3));\n",
              "      fill: #FFFFFF;\n",
              "    }\n",
              "  </style>\n",
              "\n",
              "      <script>\n",
              "        const buttonEl =\n",
              "          document.querySelector('#df-0687a864-4af7-4232-8ac5-2dd8fecf1b9e button.colab-df-convert');\n",
              "        buttonEl.style.display =\n",
              "          google.colab.kernel.accessAllowed ? 'block' : 'none';\n",
              "\n",
              "        async function convertToInteractive(key) {\n",
              "          const element = document.querySelector('#df-0687a864-4af7-4232-8ac5-2dd8fecf1b9e');\n",
              "          const dataTable =\n",
              "            await google.colab.kernel.invokeFunction('convertToInteractive',\n",
              "                                                     [key], {});\n",
              "          if (!dataTable) return;\n",
              "\n",
              "          const docLinkHtml = 'Like what you see? Visit the ' +\n",
              "            '<a target=\"_blank\" href=https://colab.research.google.com/notebooks/data_table.ipynb>data table notebook</a>'\n",
              "            + ' to learn more about interactive tables.';\n",
              "          element.innerHTML = '';\n",
              "          dataTable['output_type'] = 'display_data';\n",
              "          await google.colab.output.renderOutput(dataTable, element);\n",
              "          const docLink = document.createElement('div');\n",
              "          docLink.innerHTML = docLinkHtml;\n",
              "          element.appendChild(docLink);\n",
              "        }\n",
              "      </script>\n",
              "    </div>\n",
              "  </div>\n",
              "  "
            ]
          },
          "metadata": {},
          "execution_count": 18
        }
      ]
    },
    {
      "cell_type": "code",
      "source": [
        "datasetSemMissings=datasetSemMissings.dropna(how='any')\n",
        "dataset.tail()"
      ],
      "metadata": {
        "colab": {
          "base_uri": "https://localhost:8080/",
          "height": 206
        },
        "id": "hxsPO-yYdzWw",
        "outputId": "ab8fce0c-b2fa-4f48-936b-17d3411248c2"
      },
      "execution_count": null,
      "outputs": [
        {
          "output_type": "execute_result",
          "data": {
            "text/plain": [
              "      fixed acidity  volatile acidity  citric acid  residual sugar  chlorides  \\\n",
              "1594            6.2             0.600         0.08             2.0      0.090   \n",
              "1595            5.9             0.550         0.10             2.2      0.062   \n",
              "1596            6.3             0.510         0.13             2.3      0.076   \n",
              "1597            5.9             0.645         0.12             2.0      0.075   \n",
              "1598            6.0             0.310         0.47             3.6      0.067   \n",
              "\n",
              "      free sulfur dioxide  total sulfur dioxide  density    pH  sulphates  \\\n",
              "1594                 32.0                  44.0  0.99490  3.45       0.58   \n",
              "1595                 39.0                  51.0  0.99512  3.52       0.76   \n",
              "1596                 29.0                  40.0  0.99574  3.42       0.75   \n",
              "1597                 32.0                  44.0  0.99547  3.57       0.71   \n",
              "1598                 18.0                  42.0  0.99549  3.39       0.66   \n",
              "\n",
              "      alcohol  quality  \n",
              "1594     10.5        5  \n",
              "1595     11.2        6  \n",
              "1596     11.0        6  \n",
              "1597     10.2        5  \n",
              "1598     11.0        6  "
            ],
            "text/html": [
              "\n",
              "  <div id=\"df-f7c420e6-63f4-4eac-abc3-fc3b97c63063\">\n",
              "    <div class=\"colab-df-container\">\n",
              "      <div>\n",
              "<style scoped>\n",
              "    .dataframe tbody tr th:only-of-type {\n",
              "        vertical-align: middle;\n",
              "    }\n",
              "\n",
              "    .dataframe tbody tr th {\n",
              "        vertical-align: top;\n",
              "    }\n",
              "\n",
              "    .dataframe thead th {\n",
              "        text-align: right;\n",
              "    }\n",
              "</style>\n",
              "<table border=\"1\" class=\"dataframe\">\n",
              "  <thead>\n",
              "    <tr style=\"text-align: right;\">\n",
              "      <th></th>\n",
              "      <th>fixed acidity</th>\n",
              "      <th>volatile acidity</th>\n",
              "      <th>citric acid</th>\n",
              "      <th>residual sugar</th>\n",
              "      <th>chlorides</th>\n",
              "      <th>free sulfur dioxide</th>\n",
              "      <th>total sulfur dioxide</th>\n",
              "      <th>density</th>\n",
              "      <th>pH</th>\n",
              "      <th>sulphates</th>\n",
              "      <th>alcohol</th>\n",
              "      <th>quality</th>\n",
              "    </tr>\n",
              "  </thead>\n",
              "  <tbody>\n",
              "    <tr>\n",
              "      <th>1594</th>\n",
              "      <td>6.2</td>\n",
              "      <td>0.600</td>\n",
              "      <td>0.08</td>\n",
              "      <td>2.0</td>\n",
              "      <td>0.090</td>\n",
              "      <td>32.0</td>\n",
              "      <td>44.0</td>\n",
              "      <td>0.99490</td>\n",
              "      <td>3.45</td>\n",
              "      <td>0.58</td>\n",
              "      <td>10.5</td>\n",
              "      <td>5</td>\n",
              "    </tr>\n",
              "    <tr>\n",
              "      <th>1595</th>\n",
              "      <td>5.9</td>\n",
              "      <td>0.550</td>\n",
              "      <td>0.10</td>\n",
              "      <td>2.2</td>\n",
              "      <td>0.062</td>\n",
              "      <td>39.0</td>\n",
              "      <td>51.0</td>\n",
              "      <td>0.99512</td>\n",
              "      <td>3.52</td>\n",
              "      <td>0.76</td>\n",
              "      <td>11.2</td>\n",
              "      <td>6</td>\n",
              "    </tr>\n",
              "    <tr>\n",
              "      <th>1596</th>\n",
              "      <td>6.3</td>\n",
              "      <td>0.510</td>\n",
              "      <td>0.13</td>\n",
              "      <td>2.3</td>\n",
              "      <td>0.076</td>\n",
              "      <td>29.0</td>\n",
              "      <td>40.0</td>\n",
              "      <td>0.99574</td>\n",
              "      <td>3.42</td>\n",
              "      <td>0.75</td>\n",
              "      <td>11.0</td>\n",
              "      <td>6</td>\n",
              "    </tr>\n",
              "    <tr>\n",
              "      <th>1597</th>\n",
              "      <td>5.9</td>\n",
              "      <td>0.645</td>\n",
              "      <td>0.12</td>\n",
              "      <td>2.0</td>\n",
              "      <td>0.075</td>\n",
              "      <td>32.0</td>\n",
              "      <td>44.0</td>\n",
              "      <td>0.99547</td>\n",
              "      <td>3.57</td>\n",
              "      <td>0.71</td>\n",
              "      <td>10.2</td>\n",
              "      <td>5</td>\n",
              "    </tr>\n",
              "    <tr>\n",
              "      <th>1598</th>\n",
              "      <td>6.0</td>\n",
              "      <td>0.310</td>\n",
              "      <td>0.47</td>\n",
              "      <td>3.6</td>\n",
              "      <td>0.067</td>\n",
              "      <td>18.0</td>\n",
              "      <td>42.0</td>\n",
              "      <td>0.99549</td>\n",
              "      <td>3.39</td>\n",
              "      <td>0.66</td>\n",
              "      <td>11.0</td>\n",
              "      <td>6</td>\n",
              "    </tr>\n",
              "  </tbody>\n",
              "</table>\n",
              "</div>\n",
              "      <button class=\"colab-df-convert\" onclick=\"convertToInteractive('df-f7c420e6-63f4-4eac-abc3-fc3b97c63063')\"\n",
              "              title=\"Convert this dataframe to an interactive table.\"\n",
              "              style=\"display:none;\">\n",
              "        \n",
              "  <svg xmlns=\"http://www.w3.org/2000/svg\" height=\"24px\"viewBox=\"0 0 24 24\"\n",
              "       width=\"24px\">\n",
              "    <path d=\"M0 0h24v24H0V0z\" fill=\"none\"/>\n",
              "    <path d=\"M18.56 5.44l.94 2.06.94-2.06 2.06-.94-2.06-.94-.94-2.06-.94 2.06-2.06.94zm-11 1L8.5 8.5l.94-2.06 2.06-.94-2.06-.94L8.5 2.5l-.94 2.06-2.06.94zm10 10l.94 2.06.94-2.06 2.06-.94-2.06-.94-.94-2.06-.94 2.06-2.06.94z\"/><path d=\"M17.41 7.96l-1.37-1.37c-.4-.4-.92-.59-1.43-.59-.52 0-1.04.2-1.43.59L10.3 9.45l-7.72 7.72c-.78.78-.78 2.05 0 2.83L4 21.41c.39.39.9.59 1.41.59.51 0 1.02-.2 1.41-.59l7.78-7.78 2.81-2.81c.8-.78.8-2.07 0-2.86zM5.41 20L4 18.59l7.72-7.72 1.47 1.35L5.41 20z\"/>\n",
              "  </svg>\n",
              "      </button>\n",
              "      \n",
              "  <style>\n",
              "    .colab-df-container {\n",
              "      display:flex;\n",
              "      flex-wrap:wrap;\n",
              "      gap: 12px;\n",
              "    }\n",
              "\n",
              "    .colab-df-convert {\n",
              "      background-color: #E8F0FE;\n",
              "      border: none;\n",
              "      border-radius: 50%;\n",
              "      cursor: pointer;\n",
              "      display: none;\n",
              "      fill: #1967D2;\n",
              "      height: 32px;\n",
              "      padding: 0 0 0 0;\n",
              "      width: 32px;\n",
              "    }\n",
              "\n",
              "    .colab-df-convert:hover {\n",
              "      background-color: #E2EBFA;\n",
              "      box-shadow: 0px 1px 2px rgba(60, 64, 67, 0.3), 0px 1px 3px 1px rgba(60, 64, 67, 0.15);\n",
              "      fill: #174EA6;\n",
              "    }\n",
              "\n",
              "    [theme=dark] .colab-df-convert {\n",
              "      background-color: #3B4455;\n",
              "      fill: #D2E3FC;\n",
              "    }\n",
              "\n",
              "    [theme=dark] .colab-df-convert:hover {\n",
              "      background-color: #434B5C;\n",
              "      box-shadow: 0px 1px 3px 1px rgba(0, 0, 0, 0.15);\n",
              "      filter: drop-shadow(0px 1px 2px rgba(0, 0, 0, 0.3));\n",
              "      fill: #FFFFFF;\n",
              "    }\n",
              "  </style>\n",
              "\n",
              "      <script>\n",
              "        const buttonEl =\n",
              "          document.querySelector('#df-f7c420e6-63f4-4eac-abc3-fc3b97c63063 button.colab-df-convert');\n",
              "        buttonEl.style.display =\n",
              "          google.colab.kernel.accessAllowed ? 'block' : 'none';\n",
              "\n",
              "        async function convertToInteractive(key) {\n",
              "          const element = document.querySelector('#df-f7c420e6-63f4-4eac-abc3-fc3b97c63063');\n",
              "          const dataTable =\n",
              "            await google.colab.kernel.invokeFunction('convertToInteractive',\n",
              "                                                     [key], {});\n",
              "          if (!dataTable) return;\n",
              "\n",
              "          const docLinkHtml = 'Like what you see? Visit the ' +\n",
              "            '<a target=\"_blank\" href=https://colab.research.google.com/notebooks/data_table.ipynb>data table notebook</a>'\n",
              "            + ' to learn more about interactive tables.';\n",
              "          element.innerHTML = '';\n",
              "          dataTable['output_type'] = 'display_data';\n",
              "          await google.colab.output.renderOutput(dataTable, element);\n",
              "          const docLink = document.createElement('div');\n",
              "          docLink.innerHTML = docLinkHtml;\n",
              "          element.appendChild(docLink);\n",
              "        }\n",
              "      </script>\n",
              "    </div>\n",
              "  </div>\n",
              "  "
            ]
          },
          "metadata": {},
          "execution_count": 16
        }
      ]
    },
    {
      "cell_type": "markdown",
      "source": [
        "##**4.6 Vereificando os NULLS do Dataset Tratado**"
      ],
      "metadata": {
        "id": "ouDolvI7b0ee"
      }
    },
    {
      "cell_type": "code",
      "source": [
        "datasetSemMissings.isnull().sum()"
      ],
      "metadata": {
        "colab": {
          "base_uri": "https://localhost:8080/"
        },
        "id": "B8QldclEbvX3",
        "outputId": "54d909ca-ee36-4925-cbd7-2c8cbcb3082e"
      },
      "execution_count": null,
      "outputs": [
        {
          "output_type": "execute_result",
          "data": {
            "text/plain": [
              "fixed acidity           0\n",
              "volatile acidity        0\n",
              "citric acid             0\n",
              "residual sugar          0\n",
              "chlorides               0\n",
              "free sulfur dioxide     0\n",
              "total sulfur dioxide    0\n",
              "density                 0\n",
              "pH                      0\n",
              "sulphates               0\n",
              "alcohol                 0\n",
              "quality                 0\n",
              "dtype: int64"
            ]
          },
          "metadata": {},
          "execution_count": 20
        }
      ]
    },
    {
      "cell_type": "markdown",
      "source": [
        "##**4.7 TRANSFORMAÇÃO NUMERICA**"
      ],
      "metadata": {
        "id": "j3Sqn7S7UJY3"
      }
    },
    {
      "cell_type": "markdown",
      "source": [
        "##**4.7.1 Etapa de Normalização dos Dados**"
      ],
      "metadata": {
        "id": "anlz3UjSWCSX"
      }
    },
    {
      "cell_type": "code",
      "source": [
        "\n",
        "# Separandop os componentes do dataset em X (imput) e y (output)\n",
        "x= Qldvinhos.values[:,0:8]\n",
        "y= Qldvinhos.values[:,8]\n",
        "\n",
        "# Normalizando os dados\n",
        "rescaledX=MinMaxScaler().fit_transform(x)\n",
        "print('qldvinhos:\\n\\n', datasetSemMissings.values)\n",
        "print('datasetSemMissing:\\n\\n', rescaledX)\n",
        "\n"
      ],
      "metadata": {
        "colab": {
          "base_uri": "https://localhost:8080/"
        },
        "id": "1jyasx1QhU4i",
        "outputId": "96c41bf5-ceb6-4bd8-c114-89042ab31b9b"
      },
      "execution_count": null,
      "outputs": [
        {
          "output_type": "stream",
          "name": "stdout",
          "text": [
            "qldvinhos:\n",
            "\n",
            " [[ 7.4    0.7      nan ...  0.56   9.4    5.   ]\n",
            " [ 7.8    0.88     nan ...  0.68   9.8    5.   ]\n",
            " [ 7.8    0.76   0.04  ...  0.65   9.8    5.   ]\n",
            " ...\n",
            " [ 6.3    0.51   0.13  ...  0.75  11.     6.   ]\n",
            " [ 5.9    0.645  0.12  ...  0.71  10.2    5.   ]\n",
            " [ 6.     0.31   0.47  ...  0.66  11.     6.   ]]\n",
            "datasetSemMissing:\n",
            "\n",
            " [[0.24778761 0.39726027 0.         ... 0.14084507 0.09893993 0.56754772]\n",
            " [0.28318584 0.52054795 0.         ... 0.33802817 0.2155477  0.49412628]\n",
            " [0.28318584 0.43835616 0.04       ... 0.1971831  0.16961131 0.50881057]\n",
            " ...\n",
            " [0.15044248 0.26712329 0.13       ... 0.3943662  0.12014134 0.41629956]\n",
            " [0.11504425 0.35958904 0.12       ... 0.43661972 0.13427562 0.39647577]\n",
            " [0.12389381 0.13013699 0.47       ... 0.23943662 0.12720848 0.3979442 ]]\n"
          ]
        }
      ]
    },
    {
      "cell_type": "markdown",
      "source": [
        "##**4.7.2 Etapa de Padronização dos Dados**"
      ],
      "metadata": {
        "id": "YVnB1aiBoT5X"
      }
    },
    {
      "cell_type": "code",
      "source": [
        "rescaledX=StandardScaler().fit_transform(x)\n",
        "print('qldvinhos:\\n\\n', datasetSemMissings.values)\n",
        "print('datasetSemMissing:\\n\\n', rescaledX)"
      ],
      "metadata": {
        "colab": {
          "base_uri": "https://localhost:8080/"
        },
        "id": "nncf7DFvm-0K",
        "outputId": "ac439d79-2839-48ba-8b01-fff55d0bbaca"
      },
      "execution_count": null,
      "outputs": [
        {
          "output_type": "stream",
          "name": "stdout",
          "text": [
            "qldvinhos:\n",
            "\n",
            " [[ 7.4    0.7      nan ...  0.56   9.4    5.   ]\n",
            " [ 7.8    0.88     nan ...  0.68   9.8    5.   ]\n",
            " [ 7.8    0.76   0.04  ...  0.65   9.8    5.   ]\n",
            " ...\n",
            " [ 6.3    0.51   0.13  ...  0.75  11.     6.   ]\n",
            " [ 5.9    0.645  0.12  ...  0.71  10.2    5.   ]\n",
            " [ 6.     0.31   0.47  ...  0.66  11.     6.   ]]\n",
            "datasetSemMissing:\n",
            "\n",
            " [[-0.52835961  0.96187667 -1.39147228 ... -0.46619252 -0.37913269\n",
            "   0.55827446]\n",
            " [-0.29854743  1.96744245 -1.39147228 ...  0.87263823  0.62436323\n",
            "   0.02826077]\n",
            " [-0.29854743  1.29706527 -1.18607043 ... -0.08366945  0.22904665\n",
            "   0.13426351]\n",
            " ...\n",
            " [-1.1603431  -0.09955388 -0.72391627 ...  1.2551613  -0.19667889\n",
            "  -0.53355375]\n",
            " [-1.39015528  0.65462046 -0.77526673 ...  1.54205361 -0.07504302\n",
            "  -0.67665745]\n",
            " [-1.33270223 -1.21684919  1.02199944 ...  0.20322286 -0.13586095\n",
            "  -0.66605717]]\n"
          ]
        }
      ]
    },
    {
      "cell_type": "markdown",
      "source": [
        "##**8. ANALISE ESTATISTICA**"
      ],
      "metadata": {
        "id": "WqmbbgdKptIY"
      }
    },
    {
      "cell_type": "markdown",
      "source": [
        "##**8.1 Sumário Estatistico do Datasets Tratado**\n",
        "\n",
        "Assim como no sumario estatistico antes do tratamento, manteremos os atributos com pequenos desvio padrão fora das analises individuais deles.\n",
        "\t\t"
      ],
      "metadata": {
        "id": "S8ujUayAsygP"
      }
    },
    {
      "cell_type": "code",
      "source": [
        "datasetSemMissings.describe()"
      ],
      "metadata": {
        "colab": {
          "base_uri": "https://localhost:8080/",
          "height": 361
        },
        "id": "sJXtOXI77r4L",
        "outputId": "0f9df8a0-14a3-4aee-8560-7181da121840"
      },
      "execution_count": null,
      "outputs": [
        {
          "output_type": "execute_result",
          "data": {
            "text/plain": [
              "       fixed acidity  volatile acidity  citric acid  residual sugar  \\\n",
              "count    1599.000000       1599.000000  1467.000000     1599.000000   \n",
              "mean        8.319637          0.527821     0.295358        2.538806   \n",
              "std         1.741096          0.179060     0.184819        1.409928   \n",
              "min         4.600000          0.120000     0.010000        0.900000   \n",
              "25%         7.100000          0.390000     0.140000        1.900000   \n",
              "50%         7.900000          0.520000     0.280000        2.200000   \n",
              "75%         9.200000          0.640000     0.440000        2.600000   \n",
              "max        15.900000          1.580000     1.000000       15.500000   \n",
              "\n",
              "         chlorides  free sulfur dioxide  total sulfur dioxide      density  \\\n",
              "count  1599.000000          1599.000000           1599.000000  1599.000000   \n",
              "mean      0.087467            15.874922             46.467792     0.996747   \n",
              "std       0.047065            10.460157             32.895324     0.001887   \n",
              "min       0.012000             1.000000              6.000000     0.990070   \n",
              "25%       0.070000             7.000000             22.000000     0.995600   \n",
              "50%       0.079000            14.000000             38.000000     0.996750   \n",
              "75%       0.090000            21.000000             62.000000     0.997835   \n",
              "max       0.611000            72.000000            289.000000     1.003690   \n",
              "\n",
              "                pH    sulphates      alcohol      quality  \n",
              "count  1599.000000  1599.000000  1599.000000  1599.000000  \n",
              "mean      3.311113     0.658149    10.422983     5.636023  \n",
              "std       0.154386     0.169507     1.065668     0.807569  \n",
              "min       2.740000     0.330000     8.400000     3.000000  \n",
              "25%       3.210000     0.550000     9.500000     5.000000  \n",
              "50%       3.310000     0.620000    10.200000     6.000000  \n",
              "75%       3.400000     0.730000    11.100000     6.000000  \n",
              "max       4.010000     2.000000    14.900000     8.000000  "
            ],
            "text/html": [
              "\n",
              "  <div id=\"df-be707c00-2550-48f2-9401-db9a25d7ecf5\">\n",
              "    <div class=\"colab-df-container\">\n",
              "      <div>\n",
              "<style scoped>\n",
              "    .dataframe tbody tr th:only-of-type {\n",
              "        vertical-align: middle;\n",
              "    }\n",
              "\n",
              "    .dataframe tbody tr th {\n",
              "        vertical-align: top;\n",
              "    }\n",
              "\n",
              "    .dataframe thead th {\n",
              "        text-align: right;\n",
              "    }\n",
              "</style>\n",
              "<table border=\"1\" class=\"dataframe\">\n",
              "  <thead>\n",
              "    <tr style=\"text-align: right;\">\n",
              "      <th></th>\n",
              "      <th>fixed acidity</th>\n",
              "      <th>volatile acidity</th>\n",
              "      <th>citric acid</th>\n",
              "      <th>residual sugar</th>\n",
              "      <th>chlorides</th>\n",
              "      <th>free sulfur dioxide</th>\n",
              "      <th>total sulfur dioxide</th>\n",
              "      <th>density</th>\n",
              "      <th>pH</th>\n",
              "      <th>sulphates</th>\n",
              "      <th>alcohol</th>\n",
              "      <th>quality</th>\n",
              "    </tr>\n",
              "  </thead>\n",
              "  <tbody>\n",
              "    <tr>\n",
              "      <th>count</th>\n",
              "      <td>1599.000000</td>\n",
              "      <td>1599.000000</td>\n",
              "      <td>1467.000000</td>\n",
              "      <td>1599.000000</td>\n",
              "      <td>1599.000000</td>\n",
              "      <td>1599.000000</td>\n",
              "      <td>1599.000000</td>\n",
              "      <td>1599.000000</td>\n",
              "      <td>1599.000000</td>\n",
              "      <td>1599.000000</td>\n",
              "      <td>1599.000000</td>\n",
              "      <td>1599.000000</td>\n",
              "    </tr>\n",
              "    <tr>\n",
              "      <th>mean</th>\n",
              "      <td>8.319637</td>\n",
              "      <td>0.527821</td>\n",
              "      <td>0.295358</td>\n",
              "      <td>2.538806</td>\n",
              "      <td>0.087467</td>\n",
              "      <td>15.874922</td>\n",
              "      <td>46.467792</td>\n",
              "      <td>0.996747</td>\n",
              "      <td>3.311113</td>\n",
              "      <td>0.658149</td>\n",
              "      <td>10.422983</td>\n",
              "      <td>5.636023</td>\n",
              "    </tr>\n",
              "    <tr>\n",
              "      <th>std</th>\n",
              "      <td>1.741096</td>\n",
              "      <td>0.179060</td>\n",
              "      <td>0.184819</td>\n",
              "      <td>1.409928</td>\n",
              "      <td>0.047065</td>\n",
              "      <td>10.460157</td>\n",
              "      <td>32.895324</td>\n",
              "      <td>0.001887</td>\n",
              "      <td>0.154386</td>\n",
              "      <td>0.169507</td>\n",
              "      <td>1.065668</td>\n",
              "      <td>0.807569</td>\n",
              "    </tr>\n",
              "    <tr>\n",
              "      <th>min</th>\n",
              "      <td>4.600000</td>\n",
              "      <td>0.120000</td>\n",
              "      <td>0.010000</td>\n",
              "      <td>0.900000</td>\n",
              "      <td>0.012000</td>\n",
              "      <td>1.000000</td>\n",
              "      <td>6.000000</td>\n",
              "      <td>0.990070</td>\n",
              "      <td>2.740000</td>\n",
              "      <td>0.330000</td>\n",
              "      <td>8.400000</td>\n",
              "      <td>3.000000</td>\n",
              "    </tr>\n",
              "    <tr>\n",
              "      <th>25%</th>\n",
              "      <td>7.100000</td>\n",
              "      <td>0.390000</td>\n",
              "      <td>0.140000</td>\n",
              "      <td>1.900000</td>\n",
              "      <td>0.070000</td>\n",
              "      <td>7.000000</td>\n",
              "      <td>22.000000</td>\n",
              "      <td>0.995600</td>\n",
              "      <td>3.210000</td>\n",
              "      <td>0.550000</td>\n",
              "      <td>9.500000</td>\n",
              "      <td>5.000000</td>\n",
              "    </tr>\n",
              "    <tr>\n",
              "      <th>50%</th>\n",
              "      <td>7.900000</td>\n",
              "      <td>0.520000</td>\n",
              "      <td>0.280000</td>\n",
              "      <td>2.200000</td>\n",
              "      <td>0.079000</td>\n",
              "      <td>14.000000</td>\n",
              "      <td>38.000000</td>\n",
              "      <td>0.996750</td>\n",
              "      <td>3.310000</td>\n",
              "      <td>0.620000</td>\n",
              "      <td>10.200000</td>\n",
              "      <td>6.000000</td>\n",
              "    </tr>\n",
              "    <tr>\n",
              "      <th>75%</th>\n",
              "      <td>9.200000</td>\n",
              "      <td>0.640000</td>\n",
              "      <td>0.440000</td>\n",
              "      <td>2.600000</td>\n",
              "      <td>0.090000</td>\n",
              "      <td>21.000000</td>\n",
              "      <td>62.000000</td>\n",
              "      <td>0.997835</td>\n",
              "      <td>3.400000</td>\n",
              "      <td>0.730000</td>\n",
              "      <td>11.100000</td>\n",
              "      <td>6.000000</td>\n",
              "    </tr>\n",
              "    <tr>\n",
              "      <th>max</th>\n",
              "      <td>15.900000</td>\n",
              "      <td>1.580000</td>\n",
              "      <td>1.000000</td>\n",
              "      <td>15.500000</td>\n",
              "      <td>0.611000</td>\n",
              "      <td>72.000000</td>\n",
              "      <td>289.000000</td>\n",
              "      <td>1.003690</td>\n",
              "      <td>4.010000</td>\n",
              "      <td>2.000000</td>\n",
              "      <td>14.900000</td>\n",
              "      <td>8.000000</td>\n",
              "    </tr>\n",
              "  </tbody>\n",
              "</table>\n",
              "</div>\n",
              "      <button class=\"colab-df-convert\" onclick=\"convertToInteractive('df-be707c00-2550-48f2-9401-db9a25d7ecf5')\"\n",
              "              title=\"Convert this dataframe to an interactive table.\"\n",
              "              style=\"display:none;\">\n",
              "        \n",
              "  <svg xmlns=\"http://www.w3.org/2000/svg\" height=\"24px\"viewBox=\"0 0 24 24\"\n",
              "       width=\"24px\">\n",
              "    <path d=\"M0 0h24v24H0V0z\" fill=\"none\"/>\n",
              "    <path d=\"M18.56 5.44l.94 2.06.94-2.06 2.06-.94-2.06-.94-.94-2.06-.94 2.06-2.06.94zm-11 1L8.5 8.5l.94-2.06 2.06-.94-2.06-.94L8.5 2.5l-.94 2.06-2.06.94zm10 10l.94 2.06.94-2.06 2.06-.94-2.06-.94-.94-2.06-.94 2.06-2.06.94z\"/><path d=\"M17.41 7.96l-1.37-1.37c-.4-.4-.92-.59-1.43-.59-.52 0-1.04.2-1.43.59L10.3 9.45l-7.72 7.72c-.78.78-.78 2.05 0 2.83L4 21.41c.39.39.9.59 1.41.59.51 0 1.02-.2 1.41-.59l7.78-7.78 2.81-2.81c.8-.78.8-2.07 0-2.86zM5.41 20L4 18.59l7.72-7.72 1.47 1.35L5.41 20z\"/>\n",
              "  </svg>\n",
              "      </button>\n",
              "      \n",
              "  <style>\n",
              "    .colab-df-container {\n",
              "      display:flex;\n",
              "      flex-wrap:wrap;\n",
              "      gap: 12px;\n",
              "    }\n",
              "\n",
              "    .colab-df-convert {\n",
              "      background-color: #E8F0FE;\n",
              "      border: none;\n",
              "      border-radius: 50%;\n",
              "      cursor: pointer;\n",
              "      display: none;\n",
              "      fill: #1967D2;\n",
              "      height: 32px;\n",
              "      padding: 0 0 0 0;\n",
              "      width: 32px;\n",
              "    }\n",
              "\n",
              "    .colab-df-convert:hover {\n",
              "      background-color: #E2EBFA;\n",
              "      box-shadow: 0px 1px 2px rgba(60, 64, 67, 0.3), 0px 1px 3px 1px rgba(60, 64, 67, 0.15);\n",
              "      fill: #174EA6;\n",
              "    }\n",
              "\n",
              "    [theme=dark] .colab-df-convert {\n",
              "      background-color: #3B4455;\n",
              "      fill: #D2E3FC;\n",
              "    }\n",
              "\n",
              "    [theme=dark] .colab-df-convert:hover {\n",
              "      background-color: #434B5C;\n",
              "      box-shadow: 0px 1px 3px 1px rgba(0, 0, 0, 0.15);\n",
              "      filter: drop-shadow(0px 1px 2px rgba(0, 0, 0, 0.3));\n",
              "      fill: #FFFFFF;\n",
              "    }\n",
              "  </style>\n",
              "\n",
              "      <script>\n",
              "        const buttonEl =\n",
              "          document.querySelector('#df-be707c00-2550-48f2-9401-db9a25d7ecf5 button.colab-df-convert');\n",
              "        buttonEl.style.display =\n",
              "          google.colab.kernel.accessAllowed ? 'block' : 'none';\n",
              "\n",
              "        async function convertToInteractive(key) {\n",
              "          const element = document.querySelector('#df-be707c00-2550-48f2-9401-db9a25d7ecf5');\n",
              "          const dataTable =\n",
              "            await google.colab.kernel.invokeFunction('convertToInteractive',\n",
              "                                                     [key], {});\n",
              "          if (!dataTable) return;\n",
              "\n",
              "          const docLinkHtml = 'Like what you see? Visit the ' +\n",
              "            '<a target=\"_blank\" href=https://colab.research.google.com/notebooks/data_table.ipynb>data table notebook</a>'\n",
              "            + ' to learn more about interactive tables.';\n",
              "          element.innerHTML = '';\n",
              "          dataTable['output_type'] = 'display_data';\n",
              "          await google.colab.output.renderOutput(dataTable, element);\n",
              "          const docLink = document.createElement('div');\n",
              "          docLink.innerHTML = docLinkHtml;\n",
              "          element.appendChild(docLink);\n",
              "        }\n",
              "      </script>\n",
              "    </div>\n",
              "  </div>\n",
              "  "
            ]
          },
          "metadata": {},
          "execution_count": 58
        }
      ]
    },
    {
      "cell_type": "markdown",
      "source": [
        "##**8.2 Verificando Ausencia de Valores no Dataset Tratado por Atributo**\n",
        "\n",
        "Observamos que NÃO existem valores não nulos "
      ],
      "metadata": {
        "id": "cv7ZDYa6XC-g"
      }
    },
    {
      "cell_type": "code",
      "source": [
        "datasetSemMissings.info()"
      ],
      "metadata": {
        "colab": {
          "base_uri": "https://localhost:8080/"
        },
        "id": "twFMK6SzW5i4",
        "outputId": "746423ec-d795-4046-c744-9558e290c472"
      },
      "execution_count": null,
      "outputs": [
        {
          "output_type": "stream",
          "name": "stdout",
          "text": [
            "<class 'pandas.core.frame.DataFrame'>\n",
            "RangeIndex: 1599 entries, 0 to 1598\n",
            "Data columns (total 12 columns):\n",
            " #   Column                Non-Null Count  Dtype  \n",
            "---  ------                --------------  -----  \n",
            " 0   fixed acidity         1599 non-null   float64\n",
            " 1   volatile acidity      1599 non-null   float64\n",
            " 2   citric acid           1599 non-null   float64\n",
            " 3   residual sugar        1599 non-null   float64\n",
            " 4   chlorides             1599 non-null   float64\n",
            " 5   free sulfur dioxide   1599 non-null   float64\n",
            " 6   total sulfur dioxide  1599 non-null   float64\n",
            " 7   density               1599 non-null   float64\n",
            " 8   pH                    1599 non-null   float64\n",
            " 9   sulphates             1599 non-null   float64\n",
            " 10  alcohol               1599 non-null   float64\n",
            " 11  quality               1599 non-null   int64  \n",
            "dtypes: float64(11), int64(1)\n",
            "memory usage: 150.0 KB\n"
          ]
        }
      ]
    },
    {
      "cell_type": "markdown",
      "source": [
        "##**8.3 CALCULO ESTATISTICO POR ATRIBUTO** \n",
        "\n",
        "Os atributos mencionados, no sumário estatistico , que possuem baixo desvio padrão estam fora das analises individuais deles.\n",
        "\n",
        "Como estes atributos possuem pequenas variações dentro do daframe. Iremos desconsidera los"
      ],
      "metadata": {
        "id": "kR7W52un5tQI"
      }
    },
    {
      "cell_type": "markdown",
      "source": [
        "##**8.3.1 Analise Estatistica do Atributo Qualidade**\n"
      ],
      "metadata": {
        "id": "EQTdhKLIg_YX"
      }
    },
    {
      "cell_type": "code",
      "source": [
        "#Calculo da Variancia\n",
        "variancia = datasetSemMissings.loc[:,'quality'].var(ddof=0)\n",
        "# Calculo do desvio padrão\n",
        "desviopd= datasetSemMissings.loc[:,'quality'].std(ddof=0)\n",
        "# Calculo da media\n",
        "media= datasetSemMissings.loc[:,'quality']. mean()\n",
        "# calculo da Mediana\n",
        "median= datasetSemMissings.loc[:,'quality']. median()\n",
        "# Calculo da Moda\n",
        "mode= datasetSemMissings.loc[:,'quality']. mode()\n",
        "# calculo da Maxima\n",
        "max= datasetSemMissings.loc[:,'quality']. max()\n",
        "# calculo do Minimo\n",
        "min= datasetSemMissings.loc[:,'quality']. min()\n",
        "\n",
        "print(\"variancia quality = \" + str(variancia))\n",
        "print(\"desviopd quality = \" + str(desviopd))\n",
        "print(\"media quality = \" + str(media))\n",
        "print(\"median quality = \" + str(median))\n",
        "print(\"mode quality = \" + str(mode))\n",
        "print(\"max quality = \" + str(max))\n",
        "print(\"min quality = \" + str(min))"
      ],
      "metadata": {
        "colab": {
          "base_uri": "https://localhost:8080/"
        },
        "id": "YNc56Sq9Rc-4",
        "outputId": "026e3efb-d476-4ce4-f6ec-886a16d003ab"
      },
      "execution_count": null,
      "outputs": [
        {
          "output_type": "stream",
          "name": "stdout",
          "text": [
            "variancia quality = 0.6517605398308277\n",
            "desviopd quality = 0.8073168769639513\n",
            "media quality = 5.6360225140712945\n",
            "median quality = 6.0\n",
            "mode quality = 0    5\n",
            "Name: quality, dtype: int64\n",
            "max quality = 8\n",
            "min quality = 3\n"
          ]
        }
      ]
    },
    {
      "cell_type": "code",
      "source": [
        "sns.boxplot(x=datasetSemMissings['quality'])"
      ],
      "metadata": {
        "id": "SZ-NJ6ktULP3"
      },
      "execution_count": null,
      "outputs": []
    },
    {
      "cell_type": "markdown",
      "source": [
        "A qualidade é o atributo que nos aponta os vinhos de melhores peculiaridades. Na analise estatistica deste atributo, observamos a maior frequencia os vinhos pontuados por 5, mostrado pela MODA . Podemos classificar estes vinhos como de qualidade media, o que tambem é provado no calculo estatistico da qualidade. Onde se aponta a media no valor de 5.6. \n",
        "\n",
        "Tendo como objetivo , selecionar os vinhos com caracteristicas dentro de valores fornecidos pelo especialista do cliente. Classificamos os vinhos com qualidade 6 e 7 como os vinhos a serem selecionados.\n"
      ],
      "metadata": {
        "id": "ZDe7n1dWgXpp"
      }
    },
    {
      "cell_type": "code",
      "source": [
        "sns.histplot(datasetSemMissings['quality'], bins=6);"
      ],
      "metadata": {
        "id": "K3CZ3ybKUlKF"
      },
      "execution_count": null,
      "outputs": []
    },
    {
      "cell_type": "markdown",
      "source": [
        "Conforme claculo estatistico desta variável, confirmamos que os vinhos pontuados por 5 aparecem em maior frequencia em nossos dados(Moda). Entretanto, como a meta são vinhos de maior qualidade, confirma se a escolha dos vinhos pontuados por 6 e 7. \n",
        "\n",
        "Observa se a existência de uma quantidade proxima a 837 tipos diferentes de vinhos na soma destas categoria de qualidade.\n",
        "\n",
        "Esta etapa é o principal filtro para a escolha dos fabricantes que deverão ser futuros parceiros da referida distribuidora. Entretanto as proximas analises, os outros atributos, deverá estar contida, conforme valores referências de cada atributo, nestes 837 tipos de vinhos, conforme tabela abaixo.\n",
        "\n",
        "Serão avaliados 52,34% do total de diferentes  tipos de vinhos do dataframe."
      ],
      "metadata": {
        "id": "kc47qJ1ThWuX"
      }
    },
    {
      "cell_type": "code",
      "source": [
        "dfqualidade = datasetSemMissings[(datasetSemMissings['quality']>=6) & (datasetSemMissings['quality']<=7)] \n",
        "dfqualidade['quality']"
      ],
      "metadata": {
        "colab": {
          "base_uri": "https://localhost:8080/"
        },
        "id": "M5KeyLlPjdoS",
        "outputId": "412a6879-acce-4d75-be00-8f77068fd92e"
      },
      "execution_count": null,
      "outputs": [
        {
          "output_type": "execute_result",
          "data": {
            "text/plain": [
              "3       6\n",
              "7       7\n",
              "8       7\n",
              "16      7\n",
              "19      6\n",
              "       ..\n",
              "1592    6\n",
              "1593    6\n",
              "1595    6\n",
              "1596    6\n",
              "1598    6\n",
              "Name: quality, Length: 837, dtype: int64"
            ]
          },
          "metadata": {},
          "execution_count": 28
        }
      ]
    },
    {
      "cell_type": "markdown",
      "source": [
        "##**8.3.2 Analise Estatística do Atributo - fixed acidity**\n",
        "\n",
        "\n",
        "\n"
      ],
      "metadata": {
        "id": "vhItQjMSA4uv"
      }
    },
    {
      "cell_type": "code",
      "source": [
        "# Calculo da Variancia\n",
        "variancia = datasetSemMissings.loc[:,'fixed acidity'].var(ddof=0)\n",
        "# Calculo do desvio padrão\n",
        "desviopd= datasetSemMissings.loc[:,'fixed acidity'].std(ddof=0)\n",
        "# Calculo da media\n",
        "media= datasetSemMissings.loc[:,'fixed acidity']. mean()\n",
        "# calculo da Mediana\n",
        "median= datasetSemMissings.loc[:,'fixed acidity']. median()\n",
        "# Calculo da Moda\n",
        "mode= datasetSemMissings.loc[:,'fixed acidity']. mode()\n",
        "# calculo da Maxima\n",
        "max= datasetSemMissings.loc[:,'fixed acidity']. max()\n",
        "# calculo do Minimo\n",
        "min= datasetSemMissings.loc[:,'fixed acidity']. min()\n",
        "\n",
        "print(\"variancia fixed acidity = \" + str(variancia))\n",
        "print(\"desviopd fixed acidity = \" + str(desviopd))\n",
        "print(\"media fixed acidity = \" + str(media))\n",
        "print(\"median fixed acidity = \" + str(median))\n",
        "print(\"mode fixed acidity = \" + str(mode))\n",
        "print(\"max fixed acidity = \" + str(max))\n",
        "print(\"min fixed acidity = \" + str(min))"
      ],
      "metadata": {
        "colab": {
          "base_uri": "https://localhost:8080/"
        },
        "id": "2ifBp66AD22r",
        "outputId": "035a81ad-1f73-41a2-e5ec-15c5c1976911"
      },
      "execution_count": null,
      "outputs": [
        {
          "output_type": "stream",
          "name": "stdout",
          "text": [
            "variancia fixed acidity = 3.0295205688671114\n",
            "desviopd fixed acidity = 1.7405518001102729\n",
            "media fixed acidity = 8.31963727329581\n",
            "median fixed acidity = 7.9\n",
            "mode fixed acidity = 0    7.2\n",
            "Name: fixed acidity, dtype: float64\n",
            "max fixed acidity = 15.9\n",
            "min fixed acidity = 4.6\n"
          ]
        }
      ]
    },
    {
      "cell_type": "code",
      "source": [
        "sns.boxplot(x=datasetSemMissings['fixed acidity'])"
      ],
      "metadata": {
        "id": "BdOyK2f9Mabp"
      },
      "execution_count": null,
      "outputs": []
    },
    {
      "cell_type": "markdown",
      "source": [
        "No grafico acima percebemos a dispersão dos dados com sua simetria a direita. O valor maximo distribuito no dataframe deste atributo é 15,9 g/l. Entretanto podemos observar que valores acima de aproximadamente 12 g/l são considerados outliers.\n",
        "\n",
        "Os valores aceitáveis deste atributo, fornecido pelo especialista, são de 5.8 g/l a 8.9 g/l. Esta faixa de valores correspondem a pelo menos 50% dos diferentes tipos de vinhos deste dataframe, pois Q2 (Mediana) tem seu valor em  7.9 g/l."
      ],
      "metadata": {
        "id": "b1lCZ0CusJK9"
      }
    },
    {
      "cell_type": "code",
      "source": [
        "sns.histplot(datasetSemMissings['fixed acidity'], bins=7);"
      ],
      "metadata": {
        "id": "QS7PSWU6HV8Z"
      },
      "execution_count": null,
      "outputs": []
    },
    {
      "cell_type": "markdown",
      "source": [
        "o histograma mostra que os valores de acidez fixa desejado pelo cliente estão presente em 1087 diferentes tipos desta bebida, conforme os dados apontam na tabela abaixo.\n",
        "\n",
        "1087 diferentes tipos de vinhos se limitam dentro dos valores referencias."
      ],
      "metadata": {
        "id": "-pL8WG6-w-2v"
      }
    },
    {
      "cell_type": "code",
      "source": [
        "dfacidezfixa= datasetSemMissings[(datasetSemMissings['fixed acidity']>=5.8) & (datasetSemMissings['fixed acidity']<=8.9)]\n",
        "dfacidezfixa['fixed acidity']"
      ],
      "metadata": {
        "colab": {
          "base_uri": "https://localhost:8080/"
        },
        "id": "ePa0WgezjVgW",
        "outputId": "7f1f8dcc-9877-43d8-f808-1d4e287b6837"
      },
      "execution_count": null,
      "outputs": [
        {
          "output_type": "execute_result",
          "data": {
            "text/plain": [
              "0       7.4\n",
              "1       7.8\n",
              "2       7.8\n",
              "4       7.4\n",
              "5       7.4\n",
              "       ... \n",
              "1594    6.2\n",
              "1595    5.9\n",
              "1596    6.3\n",
              "1597    5.9\n",
              "1598    6.0\n",
              "Name: fixed acidity, Length: 1087, dtype: float64"
            ]
          },
          "metadata": {},
          "execution_count": 47
        }
      ]
    },
    {
      "cell_type": "markdown",
      "source": [
        "##**8.3.3 Analise Estatística do Atributo - Residual Sugar** \n",
        "\n"
      ],
      "metadata": {
        "id": "VCiXyr7Ne0-d"
      }
    },
    {
      "cell_type": "code",
      "source": [
        "#Calculo da Variancia\n",
        "variancia = datasetSemMissings.loc[:,'residual sugar'].var(ddof=0)\n",
        "# Calculo do desvio padrão\n",
        "desviopd= datasetSemMissings.loc[:,'residual sugar'].std(ddof=0)\n",
        "# Calculo da media\n",
        "media= datasetSemMissings.loc[:,'residual sugar']. mean()\n",
        "# calculo da Mediana\n",
        "median= datasetSemMissings.loc[:,'residual sugar']. median()\n",
        "# Calculo da Moda\n",
        "mode= datasetSemMissings.loc[:,'residual sugar']. mode()\n",
        "# calculo da Maxima\n",
        "max= datasetSemMissings.loc[:,'residual sugar']. max()\n",
        "# calculo do Minimo\n",
        "min= datasetSemMissings.loc[:,'residual sugar']. min()\n",
        "\n",
        "print(\"variancia residual sugar = \" + str(variancia))\n",
        "print(\"desviopd residual sugar = \" + str(desviopd))\n",
        "print(\"media residual sugar = \" + str(media))\n",
        "print(\"median residual sugar = \" + str(median))\n",
        "print(\"mode residual sugar = \" + str(mode))\n",
        "print(\"max residual sugar = \" + str(max))\n",
        "print(\"min residual sugar = \" + str(min))"
      ],
      "metadata": {
        "colab": {
          "base_uri": "https://localhost:8080/"
        },
        "id": "Ct_UxdrcUhbx",
        "outputId": "97738293-e386-48c4-b2c0-bc4193772cee"
      },
      "execution_count": null,
      "outputs": [
        {
          "output_type": "stream",
          "name": "stdout",
          "text": [
            "variancia residual sugar = 1.9866539202698996\n",
            "desviopd residual sugar = 1.4094871124880495\n",
            "media residual sugar = 2.53880550343965\n",
            "median residual sugar = 2.2\n",
            "mode residual sugar = 0    2.0\n",
            "Name: residual sugar, dtype: float64\n",
            "max residual sugar = 15.5\n",
            "min residual sugar = 0.9\n"
          ]
        }
      ]
    },
    {
      "cell_type": "code",
      "source": [
        "sns.boxplot(x=datasetSemMissings['residual sugar'])"
      ],
      "metadata": {
        "id": "1cnIWaolevHR"
      },
      "execution_count": null,
      "outputs": []
    },
    {
      "cell_type": "markdown",
      "source": [
        "Observando o grafico de caixa, identificamos os limites minimo  e máximo de aproximadamente 0,9 g/l e 3.8 g/l. O valor máximo dentro do dataframe é 15,5 g/l . Entretanto este valor é considerado outliers, assim como quaisquer valor acima de aproximadamente 3.8 g/l. \n",
        "\n",
        "Os valores referencia são entre 2.0 a 3.7 g/l. trata se de um gráfico com uma assimetria a direta. \n",
        "\n",
        "A MODA = 2.0 , MEDIA= 2.5 e a MEDIANA = 2.2, existe a possibilidade de uma grande quantidade de diferentes tipos de vinhos estarem dentro dos valores referencias. "
      ],
      "metadata": {
        "id": "U7CdQUDWzl90"
      }
    },
    {
      "cell_type": "code",
      "source": [
        "sns.histplot(datasetSemMissings['residual sugar'], bins=5);"
      ],
      "metadata": {
        "id": "kU09akD1gQkK"
      },
      "execution_count": null,
      "outputs": []
    },
    {
      "cell_type": "markdown",
      "source": [
        "Analisando o histograma observamos que os valores referencias estam presentes em grande quantidade neste atributo.\n",
        "\n",
        "Averiguando o df abaixo, identificamos 984 diferentes tipos de vinhos que obedecem aos valores referencias."
      ],
      "metadata": {
        "id": "keVGk24n2Csx"
      }
    },
    {
      "cell_type": "code",
      "source": [
        "dfacucarresidual= datasetSemMissings[(datasetSemMissings['residual sugar']>=2.0) & (datasetSemMissings['residual sugar']<=3.7)]\n",
        "dfacucarresidual['residual sugar']"
      ],
      "metadata": {
        "colab": {
          "base_uri": "https://localhost:8080/"
        },
        "id": "Txe0YVEmynH7",
        "outputId": "21da203f-6a06-4ae1-f69d-e7e2214bb6ff"
      },
      "execution_count": null,
      "outputs": [
        {
          "output_type": "execute_result",
          "data": {
            "text/plain": [
              "1       2.6\n",
              "2       2.3\n",
              "8       2.0\n",
              "21      2.3\n",
              "23      2.3\n",
              "       ... \n",
              "1594    2.0\n",
              "1595    2.2\n",
              "1596    2.3\n",
              "1597    2.0\n",
              "1598    3.6\n",
              "Name: residual sugar, Length: 984, dtype: float64"
            ]
          },
          "metadata": {},
          "execution_count": 46
        }
      ]
    },
    {
      "cell_type": "markdown",
      "source": [
        "##**8.3.4 Analise Estatistica do Atibuto - free sulfur dioxide**\n"
      ],
      "metadata": {
        "id": "wHpGd7S9sCM0"
      }
    },
    {
      "cell_type": "code",
      "source": [
        "#Calculo da Variancia\n",
        "variancia = datasetSemMissings.loc[:,'free sulfur dioxide'].var(ddof=0)\n",
        "# Calculo do desvio padrão\n",
        "desviopd= datasetSemMissings.loc[:,'free sulfur dioxide'].std(ddof=0)\n",
        "# Calculo da media\n",
        "media= datasetSemMissings.loc[:,'free sulfur dioxide']. mean()\n",
        "# calculo da Mediana\n",
        "median= datasetSemMissings.loc[:,'free sulfur dioxide']. median()\n",
        "# Calculo da Moda\n",
        "mode= datasetSemMissings.loc[:,'free sulfur dioxide']. mode()\n",
        "# calculo da Maxima\n",
        "max= datasetSemMissings.loc[:,'free sulfur dioxide']. max()\n",
        "# calculo do Minimo\n",
        "min= datasetSemMissings.loc[:,'free sulfur dioxide']. min()\n",
        "\n",
        "print(\"variancia free sulfur dioxide = \" + str(variancia))\n",
        "print(\"desviopd free sulfur dioxide = \" + str(desviopd))\n",
        "print(\"media free sulfur dioxide = \" + str(media))\n",
        "print(\"median free sulfur dioxide = \" + str(median))\n",
        "print(\"mode free sulfur dioxide = \" + str(mode))\n",
        "print(\"max free sulfur dioxide = \" + str(max))\n",
        "print(\"min free sulfur dioxide = \" + str(min))"
      ],
      "metadata": {
        "colab": {
          "base_uri": "https://localhost:8080/"
        },
        "id": "habpda6ksQRW",
        "outputId": "62b91c1e-4a4d-48f9-c1bc-a0d18ac8ecb5"
      },
      "execution_count": null,
      "outputs": [
        {
          "output_type": "stream",
          "name": "stdout",
          "text": [
            "variancia free sulfur dioxide = 109.34645676374501\n",
            "desviopd free sulfur dioxide = 10.45688561493072\n",
            "media free sulfur dioxide = 15.874921826141339\n",
            "median free sulfur dioxide = 14.0\n",
            "mode free sulfur dioxide = 0    6.0\n",
            "Name: free sulfur dioxide, dtype: float64\n",
            "max free sulfur dioxide = 72.0\n",
            "min free sulfur dioxide = 1.0\n"
          ]
        }
      ]
    },
    {
      "cell_type": "code",
      "source": [
        "sns.boxplot(x=datasetSemMissings['free sulfur dioxide'])"
      ],
      "metadata": {
        "id": "KXzlQ0_ftlDL"
      },
      "execution_count": null,
      "outputs": []
    },
    {
      "cell_type": "markdown",
      "source": [
        "Grafico com Assimetrica a direita, observamos que o valor maximo é 40 mg/l e que os valores acima são considerados dispersões. A MODA = 6, valor abaixo do minimo do valor referencia, que é 8.5 mg/l. \n",
        "\n",
        "Levando em consideração que Q2 = 14.000 mg/l e  Q3 = 21.000 mg/l. Existem grandes possibilidades de se possuir uma quantidade razoável de diferentes tipos de vinhos para serem classificados"
      ],
      "metadata": {
        "id": "Xrcu1M_y1VNf"
      }
    },
    {
      "cell_type": "code",
      "source": [
        "sns.histplot(datasetSemMissings['free sulfur dioxide'], bins=14);"
      ],
      "metadata": {
        "id": "7QX6X2_HtmLT"
      },
      "execution_count": null,
      "outputs": []
    },
    {
      "cell_type": "markdown",
      "source": [
        "8.5 mg/l a 19.3 mg/l são os valores referencias fornecidos pelo especialista. Analisando o histograma observamos a presença destes valores na segunda e terceira barra do histograma. O somatório destas barras resulta nos diferentes tipos de vinhos com seus padrões de referencia aceitáveis.\n",
        "\n",
        "O df abaixo, nos permite conhecer com precisão o quantitativo disponivel no df que atendem a os valores referencias deste atributo. No caso deste atributo, possem 666 diferentes tipos de vinhos."
      ],
      "metadata": {
        "id": "pd8bvkHv2ZHf"
      }
    },
    {
      "cell_type": "code",
      "source": [
        "dfdioxidolivre= datasetSemMissings[(datasetSemMissings['free sulfur dioxide']>=8.5) & (datasetSemMissings['free sulfur dioxide']<=19.3)]\n",
        "dfdioxidolivre['free sulfur dioxide']"
      ],
      "metadata": {
        "colab": {
          "base_uri": "https://localhost:8080/"
        },
        "id": "ga4a-lvZwU3q",
        "outputId": "a78d2199-cd15-4c44-a530-912ae77086a7"
      },
      "execution_count": null,
      "outputs": [
        {
          "output_type": "execute_result",
          "data": {
            "text/plain": [
              "0       11.0\n",
              "2       15.0\n",
              "3       17.0\n",
              "4       11.0\n",
              "5       13.0\n",
              "        ... \n",
              "1580     9.0\n",
              "1582    13.0\n",
              "1587    18.0\n",
              "1591    16.0\n",
              "1598    18.0\n",
              "Name: free sulfur dioxide, Length: 666, dtype: float64"
            ]
          },
          "metadata": {},
          "execution_count": 41
        }
      ]
    },
    {
      "cell_type": "markdown",
      "source": [
        "##**8.3.5 Analise Estatística do Atibuto - total sulfur dioxide**"
      ],
      "metadata": {
        "id": "Uj2Mx0F7ve0y"
      }
    },
    {
      "cell_type": "code",
      "source": [
        "#Calculo da Variancia\n",
        "variancia = datasetSemMissings.loc[:,'total sulfur dioxide'].var(ddof=0)\n",
        "# Calculo do desvio padrão\n",
        "desviopd= datasetSemMissings.loc[:,'total sulfur dioxide'].std(ddof=0)\n",
        "# Calculo da media\n",
        "media= datasetSemMissings.loc[:,'total sulfur dioxide']. mean()\n",
        "# calculo da Mediana\n",
        "median= datasetSemMissings.loc[:,'total sulfur dioxide']. median()\n",
        "# Calculo da Moda\n",
        "mode= datasetSemMissings.loc[:,'total sulfur dioxide']. mode()\n",
        "# calculo da Maxima\n",
        "max= datasetSemMissings.loc[:,'total sulfur dioxide']. max()\n",
        "# calculo do Minimo\n",
        "min= datasetSemMissings.loc[:,'total sulfur dioxide']. min()\n",
        "\n",
        "print(\"variancia total sulfur dioxide = \" + str(variancia))\n",
        "print(\"desviopd total sulfur dioxide = \" + str(desviopd))\n",
        "print(\"media total sulfur dioxide = \" + str(media))\n",
        "print(\"median total sulfur dioxide = \" + str(median))\n",
        "print(\"mode total sulfur dioxide = \" + str(mode))\n",
        "print(\"max total sulfur dioxide = \" + str(max))\n",
        "print(\"min total sulfur dioxide = \" + str(min))"
      ],
      "metadata": {
        "colab": {
          "base_uri": "https://localhost:8080/"
        },
        "id": "n_PktdIcvv68",
        "outputId": "1edf29ad-6c7f-41fe-86a0-f2c59f94a8fa"
      },
      "execution_count": null,
      "outputs": [
        {
          "output_type": "stream",
          "name": "stdout",
          "text": [
            "variancia total sulfur dioxide = 1081.42563558916\n",
            "desviopd total sulfur dioxide = 32.88503665178374\n",
            "media total sulfur dioxide = 46.46779237023139\n",
            "median total sulfur dioxide = 38.0\n",
            "mode total sulfur dioxide = 0    28.0\n",
            "Name: total sulfur dioxide, dtype: float64\n",
            "max total sulfur dioxide = 289.0\n",
            "min total sulfur dioxide = 6.0\n"
          ]
        }
      ]
    },
    {
      "cell_type": "code",
      "source": [
        "sns.boxplot(x=datasetSemMissings['total sulfur dioxide'])"
      ],
      "metadata": {
        "id": "Xcjc9FbQwfqD"
      },
      "execution_count": null,
      "outputs": []
    },
    {
      "cell_type": "markdown",
      "source": [
        "Observamos uma alta dispersão dos dados deste atributo. A maxima aponta para 125 mg/l. Este valor atende a maxima do valor referencia que é  98.2 mg/l do dioxido de enxofre total. A MEDIANA = 38.000 mg/l e a MODA = 28.000 mg/l. Estes valores estatisticos, apontam para uma pequena quantidade de vinhos, que atendem a os valores referencias, que são 55.7 mg/l a 98.2 mg/l.  A MODA < que o valor minimo referencia, confirma um indicio de pequena quantidade de vinhos dentro do padrao de referencia.\n",
        "\n",
        "Um valor baixo de opção nos restringe em todos os outros atributos, ainda que estes atendam aos valores referências"
      ],
      "metadata": {
        "id": "O6ZQH5eT755X"
      }
    },
    {
      "cell_type": "code",
      "source": [
        "sns.histplot(datasetSemMissings['total sulfur dioxide'], bins=10);"
      ],
      "metadata": {
        "id": "Ec0BTkM6xOtg"
      },
      "execution_count": null,
      "outputs": []
    },
    {
      "cell_type": "markdown",
      "source": [
        "Investigando o histograma acima observando a terceira coluna do grafico, que nos remetem ao valor maximo referencia, 98.2 mg/l. Esta coluna possue um pouco mais de 200  unidades de vinhos nos valores referências.\n",
        "\n",
        "Observando o df abaixo, podemos quantificar com precisão quantos tipos de vinhos o df possue , atendendo aos valores referências. são exatos 337 unidades."
      ],
      "metadata": {
        "id": "IDflMb_r9mLZ"
      }
    },
    {
      "cell_type": "code",
      "source": [
        "dfdioxidototal= datasetSemMissings[(datasetSemMissings['total sulfur dioxide']>=55.7) & (datasetSemMissings['total sulfur dioxide']<=98.2)]\n",
        "dfdioxidototal['total sulfur dioxide']"
      ],
      "metadata": {
        "colab": {
          "base_uri": "https://localhost:8080/"
        },
        "id": "so5Q2YndOn7m",
        "outputId": "94e52bed-f3d1-4153-946e-c4aadc7ae2ff"
      },
      "execution_count": null,
      "outputs": [
        {
          "output_type": "execute_result",
          "data": {
            "text/plain": [
              "1       67.0\n",
              "3       60.0\n",
              "6       59.0\n",
              "10      65.0\n",
              "12      59.0\n",
              "        ... \n",
              "1539    60.0\n",
              "1574    92.0\n",
              "1583    98.0\n",
              "1586    60.0\n",
              "1589    79.0\n",
              "Name: total sulfur dioxide, Length: 337, dtype: float64"
            ]
          },
          "metadata": {},
          "execution_count": 63
        }
      ]
    },
    {
      "cell_type": "markdown",
      "source": [
        "##**8.3.6 Analise Estatística do Atibuto - alcohol**"
      ],
      "metadata": {
        "id": "dJrvkzsj5dac"
      }
    },
    {
      "cell_type": "code",
      "source": [
        "#Calculo da Variancia\n",
        "variancia = datasetSemMissings.loc[:,'alcohol'].var(ddof=0)\n",
        "# Calculo do desvio padrão\n",
        "desviopd= datasetSemMissings.loc[:,'alcohol'].std(ddof=0)\n",
        "# Calculo da media\n",
        "media= datasetSemMissings.loc[:,'alcohol']. mean()\n",
        "# calculo da Mediana\n",
        "median= datasetSemMissings.loc[:,'alcohol']. median()\n",
        "# Calculo da Moda\n",
        "mode= datasetSemMissings.loc[:,'alcohol']. mode()\n",
        "# calculo da Maxima\n",
        "max= datasetSemMissings.loc[:,'alcohol']. max()\n",
        "# calculo do Minimo\n",
        "min= datasetSemMissings.loc[:,'alcohol']. min()\n",
        "\n",
        "print(\"variancia alcohol = \" + str(variancia))\n",
        "print(\"desviopd alcohol = \" + str(desviopd))\n",
        "print(\"media alcohol = \" + str(media))\n",
        "print(\"median alcohol = \" + str(median))\n",
        "print(\"mode alcohol = \" + str(mode))\n",
        "print(\"max alcohol = \" + str(max))\n",
        "print(\"min alcohol = \" + str(min))"
      ],
      "metadata": {
        "colab": {
          "base_uri": "https://localhost:8080/"
        },
        "id": "1tz0dAe45lM_",
        "outputId": "a81598f2-d8e5-42a9-f97b-b52c38a4b916"
      },
      "execution_count": null,
      "outputs": [
        {
          "output_type": "stream",
          "name": "stdout",
          "text": [
            "variancia alcohol = 1.1349371714889036\n",
            "desviopd alcohol = 1.0653343003437483\n",
            "media alcohol = 10.422983114446529\n",
            "median alcohol = 10.2\n",
            "mode alcohol = 0    9.5\n",
            "Name: alcohol, dtype: float64\n",
            "max alcohol = 14.9\n",
            "min alcohol = 8.4\n"
          ]
        }
      ]
    },
    {
      "cell_type": "code",
      "source": [
        "sns.boxplot(x=datasetSemMissings['alcohol'])"
      ],
      "metadata": {
        "id": "IvU42Zkv6Rz-"
      },
      "execution_count": null,
      "outputs": []
    },
    {
      "cell_type": "markdown",
      "source": [
        "O grafico de caixa, Assimetrico a direita, com desvio padrão pequeno, 1.065, e pequena amplitude. \n",
        "A MODA deste atibuto é = 9.5 GL, o mesmo valor da minima dos valores de referencias. A MODA tendo o mesmo valor do valor minimo de referencia, nos permitem acreditar que teremos um valor razoável de diferentes tipos de vinhos dentro desta faixa de referencia."
      ],
      "metadata": {
        "id": "Zwx7QWgDBGt0"
      }
    },
    {
      "cell_type": "code",
      "source": [
        "sns.histplot(datasetSemMissings['alcohol'], bins=10);"
      ],
      "metadata": {
        "id": "8VqTJPDV6cIS"
      },
      "execution_count": null,
      "outputs": []
    },
    {
      "cell_type": "markdown",
      "source": [
        "Explorando o histograma acima, observamos no minimo 500 diferentes tipos de vinhos dentro da faixa que contem os valores referências que podem estar disponiveis, favorecidos pelo fato de a MODA = ao valor minimo referencia.\n",
        "\n",
        "Observando a tabela abaixo constata se que 545 tipos diferentes de vinhos estão disponiveis dentro dos valores referencias."
      ],
      "metadata": {
        "id": "aU9K12IAG8OM"
      }
    },
    {
      "cell_type": "code",
      "source": [
        "dfalcool= datasetSemMissings[(datasetSemMissings['alcohol']>=9.50) & (datasetSemMissings['alcohol']<=10.20)]\n",
        "dfalcool['alcohol']"
      ],
      "metadata": {
        "colab": {
          "base_uri": "https://localhost:8080/"
        },
        "id": "YaV_v-I1PIKz",
        "outputId": "86fb8b7d-e83b-4359-90ee-6541e2ce0f0c"
      },
      "execution_count": null,
      "outputs": [
        {
          "output_type": "execute_result",
          "data": {
            "text/plain": [
              "1        9.8\n",
              "2        9.8\n",
              "3        9.8\n",
              "7       10.0\n",
              "8        9.5\n",
              "        ... \n",
              "1567    10.1\n",
              "1572     9.5\n",
              "1583     9.8\n",
              "1593     9.5\n",
              "1597    10.2\n",
              "Name: alcohol, Length: 545, dtype: float64"
            ]
          },
          "metadata": {},
          "execution_count": 22
        }
      ]
    },
    {
      "cell_type": "markdown",
      "source": [
        "##**9. RENOMEANDO O DATASET**\n",
        "\n",
        "De datasetSemMissing para dataframe final (dffinal)"
      ],
      "metadata": {
        "id": "FxW_OhkSHcO3"
      }
    },
    {
      "cell_type": "code",
      "source": [
        "dffinal=datasetSemMissings\n",
        "dffinal.head()"
      ],
      "metadata": {
        "colab": {
          "base_uri": "https://localhost:8080/",
          "height": 206
        },
        "id": "txVZPMq05YsD",
        "outputId": "870bdb0c-08fa-4fec-92a1-8b1b73e2c976"
      },
      "execution_count": null,
      "outputs": [
        {
          "output_type": "execute_result",
          "data": {
            "text/plain": [
              "   fixed acidity  volatile acidity  citric acid  residual sugar  chlorides  \\\n",
              "0            7.4              0.70          NaN             1.9      0.076   \n",
              "1            7.8              0.88          NaN             2.6      0.098   \n",
              "2            7.8              0.76         0.04             2.3      0.092   \n",
              "3           11.2              0.28         0.56             1.9      0.075   \n",
              "4            7.4              0.70          NaN             1.9      0.076   \n",
              "\n",
              "   free sulfur dioxide  total sulfur dioxide  density    pH  sulphates  \\\n",
              "0                 11.0                  34.0   0.9978  3.51       0.56   \n",
              "1                 25.0                  67.0   0.9968  3.20       0.68   \n",
              "2                 15.0                  54.0   0.9970  3.26       0.65   \n",
              "3                 17.0                  60.0   0.9980  3.16       0.58   \n",
              "4                 11.0                  34.0   0.9978  3.51       0.56   \n",
              "\n",
              "   alcohol  quality  \n",
              "0      9.4        5  \n",
              "1      9.8        5  \n",
              "2      9.8        5  \n",
              "3      9.8        6  \n",
              "4      9.4        5  "
            ],
            "text/html": [
              "\n",
              "  <div id=\"df-b9c151ea-808a-4095-9a47-b29ec596b824\">\n",
              "    <div class=\"colab-df-container\">\n",
              "      <div>\n",
              "<style scoped>\n",
              "    .dataframe tbody tr th:only-of-type {\n",
              "        vertical-align: middle;\n",
              "    }\n",
              "\n",
              "    .dataframe tbody tr th {\n",
              "        vertical-align: top;\n",
              "    }\n",
              "\n",
              "    .dataframe thead th {\n",
              "        text-align: right;\n",
              "    }\n",
              "</style>\n",
              "<table border=\"1\" class=\"dataframe\">\n",
              "  <thead>\n",
              "    <tr style=\"text-align: right;\">\n",
              "      <th></th>\n",
              "      <th>fixed acidity</th>\n",
              "      <th>volatile acidity</th>\n",
              "      <th>citric acid</th>\n",
              "      <th>residual sugar</th>\n",
              "      <th>chlorides</th>\n",
              "      <th>free sulfur dioxide</th>\n",
              "      <th>total sulfur dioxide</th>\n",
              "      <th>density</th>\n",
              "      <th>pH</th>\n",
              "      <th>sulphates</th>\n",
              "      <th>alcohol</th>\n",
              "      <th>quality</th>\n",
              "    </tr>\n",
              "  </thead>\n",
              "  <tbody>\n",
              "    <tr>\n",
              "      <th>0</th>\n",
              "      <td>7.4</td>\n",
              "      <td>0.70</td>\n",
              "      <td>NaN</td>\n",
              "      <td>1.9</td>\n",
              "      <td>0.076</td>\n",
              "      <td>11.0</td>\n",
              "      <td>34.0</td>\n",
              "      <td>0.9978</td>\n",
              "      <td>3.51</td>\n",
              "      <td>0.56</td>\n",
              "      <td>9.4</td>\n",
              "      <td>5</td>\n",
              "    </tr>\n",
              "    <tr>\n",
              "      <th>1</th>\n",
              "      <td>7.8</td>\n",
              "      <td>0.88</td>\n",
              "      <td>NaN</td>\n",
              "      <td>2.6</td>\n",
              "      <td>0.098</td>\n",
              "      <td>25.0</td>\n",
              "      <td>67.0</td>\n",
              "      <td>0.9968</td>\n",
              "      <td>3.20</td>\n",
              "      <td>0.68</td>\n",
              "      <td>9.8</td>\n",
              "      <td>5</td>\n",
              "    </tr>\n",
              "    <tr>\n",
              "      <th>2</th>\n",
              "      <td>7.8</td>\n",
              "      <td>0.76</td>\n",
              "      <td>0.04</td>\n",
              "      <td>2.3</td>\n",
              "      <td>0.092</td>\n",
              "      <td>15.0</td>\n",
              "      <td>54.0</td>\n",
              "      <td>0.9970</td>\n",
              "      <td>3.26</td>\n",
              "      <td>0.65</td>\n",
              "      <td>9.8</td>\n",
              "      <td>5</td>\n",
              "    </tr>\n",
              "    <tr>\n",
              "      <th>3</th>\n",
              "      <td>11.2</td>\n",
              "      <td>0.28</td>\n",
              "      <td>0.56</td>\n",
              "      <td>1.9</td>\n",
              "      <td>0.075</td>\n",
              "      <td>17.0</td>\n",
              "      <td>60.0</td>\n",
              "      <td>0.9980</td>\n",
              "      <td>3.16</td>\n",
              "      <td>0.58</td>\n",
              "      <td>9.8</td>\n",
              "      <td>6</td>\n",
              "    </tr>\n",
              "    <tr>\n",
              "      <th>4</th>\n",
              "      <td>7.4</td>\n",
              "      <td>0.70</td>\n",
              "      <td>NaN</td>\n",
              "      <td>1.9</td>\n",
              "      <td>0.076</td>\n",
              "      <td>11.0</td>\n",
              "      <td>34.0</td>\n",
              "      <td>0.9978</td>\n",
              "      <td>3.51</td>\n",
              "      <td>0.56</td>\n",
              "      <td>9.4</td>\n",
              "      <td>5</td>\n",
              "    </tr>\n",
              "  </tbody>\n",
              "</table>\n",
              "</div>\n",
              "      <button class=\"colab-df-convert\" onclick=\"convertToInteractive('df-b9c151ea-808a-4095-9a47-b29ec596b824')\"\n",
              "              title=\"Convert this dataframe to an interactive table.\"\n",
              "              style=\"display:none;\">\n",
              "        \n",
              "  <svg xmlns=\"http://www.w3.org/2000/svg\" height=\"24px\"viewBox=\"0 0 24 24\"\n",
              "       width=\"24px\">\n",
              "    <path d=\"M0 0h24v24H0V0z\" fill=\"none\"/>\n",
              "    <path d=\"M18.56 5.44l.94 2.06.94-2.06 2.06-.94-2.06-.94-.94-2.06-.94 2.06-2.06.94zm-11 1L8.5 8.5l.94-2.06 2.06-.94-2.06-.94L8.5 2.5l-.94 2.06-2.06.94zm10 10l.94 2.06.94-2.06 2.06-.94-2.06-.94-.94-2.06-.94 2.06-2.06.94z\"/><path d=\"M17.41 7.96l-1.37-1.37c-.4-.4-.92-.59-1.43-.59-.52 0-1.04.2-1.43.59L10.3 9.45l-7.72 7.72c-.78.78-.78 2.05 0 2.83L4 21.41c.39.39.9.59 1.41.59.51 0 1.02-.2 1.41-.59l7.78-7.78 2.81-2.81c.8-.78.8-2.07 0-2.86zM5.41 20L4 18.59l7.72-7.72 1.47 1.35L5.41 20z\"/>\n",
              "  </svg>\n",
              "      </button>\n",
              "      \n",
              "  <style>\n",
              "    .colab-df-container {\n",
              "      display:flex;\n",
              "      flex-wrap:wrap;\n",
              "      gap: 12px;\n",
              "    }\n",
              "\n",
              "    .colab-df-convert {\n",
              "      background-color: #E8F0FE;\n",
              "      border: none;\n",
              "      border-radius: 50%;\n",
              "      cursor: pointer;\n",
              "      display: none;\n",
              "      fill: #1967D2;\n",
              "      height: 32px;\n",
              "      padding: 0 0 0 0;\n",
              "      width: 32px;\n",
              "    }\n",
              "\n",
              "    .colab-df-convert:hover {\n",
              "      background-color: #E2EBFA;\n",
              "      box-shadow: 0px 1px 2px rgba(60, 64, 67, 0.3), 0px 1px 3px 1px rgba(60, 64, 67, 0.15);\n",
              "      fill: #174EA6;\n",
              "    }\n",
              "\n",
              "    [theme=dark] .colab-df-convert {\n",
              "      background-color: #3B4455;\n",
              "      fill: #D2E3FC;\n",
              "    }\n",
              "\n",
              "    [theme=dark] .colab-df-convert:hover {\n",
              "      background-color: #434B5C;\n",
              "      box-shadow: 0px 1px 3px 1px rgba(0, 0, 0, 0.15);\n",
              "      filter: drop-shadow(0px 1px 2px rgba(0, 0, 0, 0.3));\n",
              "      fill: #FFFFFF;\n",
              "    }\n",
              "  </style>\n",
              "\n",
              "      <script>\n",
              "        const buttonEl =\n",
              "          document.querySelector('#df-b9c151ea-808a-4095-9a47-b29ec596b824 button.colab-df-convert');\n",
              "        buttonEl.style.display =\n",
              "          google.colab.kernel.accessAllowed ? 'block' : 'none';\n",
              "\n",
              "        async function convertToInteractive(key) {\n",
              "          const element = document.querySelector('#df-b9c151ea-808a-4095-9a47-b29ec596b824');\n",
              "          const dataTable =\n",
              "            await google.colab.kernel.invokeFunction('convertToInteractive',\n",
              "                                                     [key], {});\n",
              "          if (!dataTable) return;\n",
              "\n",
              "          const docLinkHtml = 'Like what you see? Visit the ' +\n",
              "            '<a target=\"_blank\" href=https://colab.research.google.com/notebooks/data_table.ipynb>data table notebook</a>'\n",
              "            + ' to learn more about interactive tables.';\n",
              "          element.innerHTML = '';\n",
              "          dataTable['output_type'] = 'display_data';\n",
              "          await google.colab.output.renderOutput(dataTable, element);\n",
              "          const docLink = document.createElement('div');\n",
              "          docLink.innerHTML = docLinkHtml;\n",
              "          element.appendChild(docLink);\n",
              "        }\n",
              "      </script>\n",
              "    </div>\n",
              "  </div>\n",
              "  "
            ]
          },
          "metadata": {},
          "execution_count": 65
        }
      ]
    },
    {
      "cell_type": "markdown",
      "source": [
        "##**10. Definição dos Vinhos Selecionados** \n",
        "\n",
        "\n",
        "TABELA FINAL COM A SELEÇÃO DOS VINHOS DE ALTA QUALIDADE\n",
        "\n",
        "Esta tabela define os diferentes tipos de vinhos selecionados para o cliente.\n",
        "\n",
        "Estes vinhos respeitam as caracteristicas fisica-quimica fornecida pelo especialista do distribuidor.\n",
        "\n",
        "Dos 1599 tipos diferentes de vinhos analisados, somente 17 tipos atendem aos pré requisitos do especialista do  distribuidor."
      ],
      "metadata": {
        "id": "thRGS5VTIELM"
      }
    },
    {
      "cell_type": "code",
      "source": [
        "dffinal[(dffinal['quality']>=6) &\n",
        "                    (dffinal['quality']<=7) &\n",
        "                    (dffinal['fixed acidity']>=5.8) &\n",
        "                    (dffinal['fixed acidity']<=8.9) &\n",
        "                    (dffinal['residual sugar']>=2) & \n",
        "                    (dffinal['residual sugar']<=3.7) &\n",
        "                    (dffinal['free sulfur dioxide']>=8.5) & \n",
        "                    (dffinal['free sulfur dioxide']<=19.3) & \n",
        "                    (dffinal['total sulfur dioxide']>=55.7) & \n",
        "                    (dffinal['total sulfur dioxide']<=98.2) &\n",
        "                    (dffinal['alcohol']>=9.5) &\n",
        "                    (dffinal['alcohol']<=10.2)] "
      ],
      "metadata": {
        "colab": {
          "base_uri": "https://localhost:8080/",
          "height": 582
        },
        "id": "w8AIjsh1GQT8",
        "outputId": "3ea06878-3d9a-48df-aca1-57635754b363"
      },
      "execution_count": null,
      "outputs": [
        {
          "output_type": "execute_result",
          "data": {
            "text/plain": [
              "      fixed acidity  volatile acidity  citric acid  residual sugar  chlorides  \\\n",
              "108             8.0             0.330         0.53             2.5      0.091   \n",
              "211             8.0             0.725         0.24             2.8      0.083   \n",
              "232             8.5             0.370         0.20             2.8      0.090   \n",
              "790             7.4             0.370         0.43             2.6      0.082   \n",
              "792             7.1             0.610         0.02             2.5      0.081   \n",
              "894             7.2             0.630         0.03             2.2      0.080   \n",
              "1139            8.2             0.510         0.24             2.0      0.079   \n",
              "1216            7.9             0.570         0.31             2.0      0.079   \n",
              "1275            8.0             0.715         0.22             2.3      0.075   \n",
              "1278            8.0             0.715         0.22             2.3      0.075   \n",
              "1283            8.7             0.630         0.28             2.7      0.096   \n",
              "1315            7.5             0.630         0.27             2.0      0.083   \n",
              "1318            7.5             0.630         0.27             2.0      0.083   \n",
              "1329            7.4             0.600         0.26             2.1      0.083   \n",
              "1330            7.4             0.600         0.26             2.1      0.083   \n",
              "1368            8.0             0.770         0.32             2.1      0.079   \n",
              "1431            7.6             0.430         0.31             2.1      0.069   \n",
              "\n",
              "      free sulfur dioxide  total sulfur dioxide  density    pH  sulphates  \\\n",
              "108                  18.0                  80.0  0.99760  3.37       0.80   \n",
              "211                  10.0                  62.0  0.99685  3.35       0.56   \n",
              "232                  18.0                  58.0  0.99800  3.34       0.70   \n",
              "790                  18.0                  82.0  0.99708  3.33       0.68   \n",
              "792                  17.0                  87.0  0.99745  3.48       0.60   \n",
              "894                  17.0                  88.0  0.99745  3.53       0.58   \n",
              "1139                 16.0                  86.0  0.99764  3.34       0.64   \n",
              "1216                 10.0                  79.0  0.99677  3.29       0.69   \n",
              "1275                 13.0                  81.0  0.99688  3.24       0.54   \n",
              "1278                 13.0                  81.0  0.99688  3.24       0.54   \n",
              "1283                 17.0                  69.0  0.99734  3.26       0.63   \n",
              "1315                 17.0                  91.0  0.99616  3.26       0.58   \n",
              "1318                 17.0                  91.0  0.99616  3.26       0.58   \n",
              "1329                 17.0                  91.0  0.99616  3.29       0.56   \n",
              "1330                 17.0                  91.0  0.99616  3.29       0.56   \n",
              "1368                 16.0                  74.0  0.99656  3.27       0.50   \n",
              "1431                 13.0                  74.0  0.99580  3.26       0.54   \n",
              "\n",
              "      alcohol  quality  \n",
              "108       9.6        6  \n",
              "211      10.0        6  \n",
              "232       9.6        6  \n",
              "790       9.7        6  \n",
              "792       9.7        6  \n",
              "894       9.8        6  \n",
              "1139      9.5        6  \n",
              "1216      9.5        6  \n",
              "1275      9.5        6  \n",
              "1278      9.5        6  \n",
              "1283     10.2        6  \n",
              "1315      9.8        6  \n",
              "1318      9.8        6  \n",
              "1329      9.8        6  \n",
              "1330      9.8        6  \n",
              "1368      9.8        6  \n",
              "1431      9.9        6  "
            ],
            "text/html": [
              "\n",
              "  <div id=\"df-e4ba7ca7-9814-4819-9cc0-9bd33d4c5f2b\">\n",
              "    <div class=\"colab-df-container\">\n",
              "      <div>\n",
              "<style scoped>\n",
              "    .dataframe tbody tr th:only-of-type {\n",
              "        vertical-align: middle;\n",
              "    }\n",
              "\n",
              "    .dataframe tbody tr th {\n",
              "        vertical-align: top;\n",
              "    }\n",
              "\n",
              "    .dataframe thead th {\n",
              "        text-align: right;\n",
              "    }\n",
              "</style>\n",
              "<table border=\"1\" class=\"dataframe\">\n",
              "  <thead>\n",
              "    <tr style=\"text-align: right;\">\n",
              "      <th></th>\n",
              "      <th>fixed acidity</th>\n",
              "      <th>volatile acidity</th>\n",
              "      <th>citric acid</th>\n",
              "      <th>residual sugar</th>\n",
              "      <th>chlorides</th>\n",
              "      <th>free sulfur dioxide</th>\n",
              "      <th>total sulfur dioxide</th>\n",
              "      <th>density</th>\n",
              "      <th>pH</th>\n",
              "      <th>sulphates</th>\n",
              "      <th>alcohol</th>\n",
              "      <th>quality</th>\n",
              "    </tr>\n",
              "  </thead>\n",
              "  <tbody>\n",
              "    <tr>\n",
              "      <th>108</th>\n",
              "      <td>8.0</td>\n",
              "      <td>0.330</td>\n",
              "      <td>0.53</td>\n",
              "      <td>2.5</td>\n",
              "      <td>0.091</td>\n",
              "      <td>18.0</td>\n",
              "      <td>80.0</td>\n",
              "      <td>0.99760</td>\n",
              "      <td>3.37</td>\n",
              "      <td>0.80</td>\n",
              "      <td>9.6</td>\n",
              "      <td>6</td>\n",
              "    </tr>\n",
              "    <tr>\n",
              "      <th>211</th>\n",
              "      <td>8.0</td>\n",
              "      <td>0.725</td>\n",
              "      <td>0.24</td>\n",
              "      <td>2.8</td>\n",
              "      <td>0.083</td>\n",
              "      <td>10.0</td>\n",
              "      <td>62.0</td>\n",
              "      <td>0.99685</td>\n",
              "      <td>3.35</td>\n",
              "      <td>0.56</td>\n",
              "      <td>10.0</td>\n",
              "      <td>6</td>\n",
              "    </tr>\n",
              "    <tr>\n",
              "      <th>232</th>\n",
              "      <td>8.5</td>\n",
              "      <td>0.370</td>\n",
              "      <td>0.20</td>\n",
              "      <td>2.8</td>\n",
              "      <td>0.090</td>\n",
              "      <td>18.0</td>\n",
              "      <td>58.0</td>\n",
              "      <td>0.99800</td>\n",
              "      <td>3.34</td>\n",
              "      <td>0.70</td>\n",
              "      <td>9.6</td>\n",
              "      <td>6</td>\n",
              "    </tr>\n",
              "    <tr>\n",
              "      <th>790</th>\n",
              "      <td>7.4</td>\n",
              "      <td>0.370</td>\n",
              "      <td>0.43</td>\n",
              "      <td>2.6</td>\n",
              "      <td>0.082</td>\n",
              "      <td>18.0</td>\n",
              "      <td>82.0</td>\n",
              "      <td>0.99708</td>\n",
              "      <td>3.33</td>\n",
              "      <td>0.68</td>\n",
              "      <td>9.7</td>\n",
              "      <td>6</td>\n",
              "    </tr>\n",
              "    <tr>\n",
              "      <th>792</th>\n",
              "      <td>7.1</td>\n",
              "      <td>0.610</td>\n",
              "      <td>0.02</td>\n",
              "      <td>2.5</td>\n",
              "      <td>0.081</td>\n",
              "      <td>17.0</td>\n",
              "      <td>87.0</td>\n",
              "      <td>0.99745</td>\n",
              "      <td>3.48</td>\n",
              "      <td>0.60</td>\n",
              "      <td>9.7</td>\n",
              "      <td>6</td>\n",
              "    </tr>\n",
              "    <tr>\n",
              "      <th>894</th>\n",
              "      <td>7.2</td>\n",
              "      <td>0.630</td>\n",
              "      <td>0.03</td>\n",
              "      <td>2.2</td>\n",
              "      <td>0.080</td>\n",
              "      <td>17.0</td>\n",
              "      <td>88.0</td>\n",
              "      <td>0.99745</td>\n",
              "      <td>3.53</td>\n",
              "      <td>0.58</td>\n",
              "      <td>9.8</td>\n",
              "      <td>6</td>\n",
              "    </tr>\n",
              "    <tr>\n",
              "      <th>1139</th>\n",
              "      <td>8.2</td>\n",
              "      <td>0.510</td>\n",
              "      <td>0.24</td>\n",
              "      <td>2.0</td>\n",
              "      <td>0.079</td>\n",
              "      <td>16.0</td>\n",
              "      <td>86.0</td>\n",
              "      <td>0.99764</td>\n",
              "      <td>3.34</td>\n",
              "      <td>0.64</td>\n",
              "      <td>9.5</td>\n",
              "      <td>6</td>\n",
              "    </tr>\n",
              "    <tr>\n",
              "      <th>1216</th>\n",
              "      <td>7.9</td>\n",
              "      <td>0.570</td>\n",
              "      <td>0.31</td>\n",
              "      <td>2.0</td>\n",
              "      <td>0.079</td>\n",
              "      <td>10.0</td>\n",
              "      <td>79.0</td>\n",
              "      <td>0.99677</td>\n",
              "      <td>3.29</td>\n",
              "      <td>0.69</td>\n",
              "      <td>9.5</td>\n",
              "      <td>6</td>\n",
              "    </tr>\n",
              "    <tr>\n",
              "      <th>1275</th>\n",
              "      <td>8.0</td>\n",
              "      <td>0.715</td>\n",
              "      <td>0.22</td>\n",
              "      <td>2.3</td>\n",
              "      <td>0.075</td>\n",
              "      <td>13.0</td>\n",
              "      <td>81.0</td>\n",
              "      <td>0.99688</td>\n",
              "      <td>3.24</td>\n",
              "      <td>0.54</td>\n",
              "      <td>9.5</td>\n",
              "      <td>6</td>\n",
              "    </tr>\n",
              "    <tr>\n",
              "      <th>1278</th>\n",
              "      <td>8.0</td>\n",
              "      <td>0.715</td>\n",
              "      <td>0.22</td>\n",
              "      <td>2.3</td>\n",
              "      <td>0.075</td>\n",
              "      <td>13.0</td>\n",
              "      <td>81.0</td>\n",
              "      <td>0.99688</td>\n",
              "      <td>3.24</td>\n",
              "      <td>0.54</td>\n",
              "      <td>9.5</td>\n",
              "      <td>6</td>\n",
              "    </tr>\n",
              "    <tr>\n",
              "      <th>1283</th>\n",
              "      <td>8.7</td>\n",
              "      <td>0.630</td>\n",
              "      <td>0.28</td>\n",
              "      <td>2.7</td>\n",
              "      <td>0.096</td>\n",
              "      <td>17.0</td>\n",
              "      <td>69.0</td>\n",
              "      <td>0.99734</td>\n",
              "      <td>3.26</td>\n",
              "      <td>0.63</td>\n",
              "      <td>10.2</td>\n",
              "      <td>6</td>\n",
              "    </tr>\n",
              "    <tr>\n",
              "      <th>1315</th>\n",
              "      <td>7.5</td>\n",
              "      <td>0.630</td>\n",
              "      <td>0.27</td>\n",
              "      <td>2.0</td>\n",
              "      <td>0.083</td>\n",
              "      <td>17.0</td>\n",
              "      <td>91.0</td>\n",
              "      <td>0.99616</td>\n",
              "      <td>3.26</td>\n",
              "      <td>0.58</td>\n",
              "      <td>9.8</td>\n",
              "      <td>6</td>\n",
              "    </tr>\n",
              "    <tr>\n",
              "      <th>1318</th>\n",
              "      <td>7.5</td>\n",
              "      <td>0.630</td>\n",
              "      <td>0.27</td>\n",
              "      <td>2.0</td>\n",
              "      <td>0.083</td>\n",
              "      <td>17.0</td>\n",
              "      <td>91.0</td>\n",
              "      <td>0.99616</td>\n",
              "      <td>3.26</td>\n",
              "      <td>0.58</td>\n",
              "      <td>9.8</td>\n",
              "      <td>6</td>\n",
              "    </tr>\n",
              "    <tr>\n",
              "      <th>1329</th>\n",
              "      <td>7.4</td>\n",
              "      <td>0.600</td>\n",
              "      <td>0.26</td>\n",
              "      <td>2.1</td>\n",
              "      <td>0.083</td>\n",
              "      <td>17.0</td>\n",
              "      <td>91.0</td>\n",
              "      <td>0.99616</td>\n",
              "      <td>3.29</td>\n",
              "      <td>0.56</td>\n",
              "      <td>9.8</td>\n",
              "      <td>6</td>\n",
              "    </tr>\n",
              "    <tr>\n",
              "      <th>1330</th>\n",
              "      <td>7.4</td>\n",
              "      <td>0.600</td>\n",
              "      <td>0.26</td>\n",
              "      <td>2.1</td>\n",
              "      <td>0.083</td>\n",
              "      <td>17.0</td>\n",
              "      <td>91.0</td>\n",
              "      <td>0.99616</td>\n",
              "      <td>3.29</td>\n",
              "      <td>0.56</td>\n",
              "      <td>9.8</td>\n",
              "      <td>6</td>\n",
              "    </tr>\n",
              "    <tr>\n",
              "      <th>1368</th>\n",
              "      <td>8.0</td>\n",
              "      <td>0.770</td>\n",
              "      <td>0.32</td>\n",
              "      <td>2.1</td>\n",
              "      <td>0.079</td>\n",
              "      <td>16.0</td>\n",
              "      <td>74.0</td>\n",
              "      <td>0.99656</td>\n",
              "      <td>3.27</td>\n",
              "      <td>0.50</td>\n",
              "      <td>9.8</td>\n",
              "      <td>6</td>\n",
              "    </tr>\n",
              "    <tr>\n",
              "      <th>1431</th>\n",
              "      <td>7.6</td>\n",
              "      <td>0.430</td>\n",
              "      <td>0.31</td>\n",
              "      <td>2.1</td>\n",
              "      <td>0.069</td>\n",
              "      <td>13.0</td>\n",
              "      <td>74.0</td>\n",
              "      <td>0.99580</td>\n",
              "      <td>3.26</td>\n",
              "      <td>0.54</td>\n",
              "      <td>9.9</td>\n",
              "      <td>6</td>\n",
              "    </tr>\n",
              "  </tbody>\n",
              "</table>\n",
              "</div>\n",
              "      <button class=\"colab-df-convert\" onclick=\"convertToInteractive('df-e4ba7ca7-9814-4819-9cc0-9bd33d4c5f2b')\"\n",
              "              title=\"Convert this dataframe to an interactive table.\"\n",
              "              style=\"display:none;\">\n",
              "        \n",
              "  <svg xmlns=\"http://www.w3.org/2000/svg\" height=\"24px\"viewBox=\"0 0 24 24\"\n",
              "       width=\"24px\">\n",
              "    <path d=\"M0 0h24v24H0V0z\" fill=\"none\"/>\n",
              "    <path d=\"M18.56 5.44l.94 2.06.94-2.06 2.06-.94-2.06-.94-.94-2.06-.94 2.06-2.06.94zm-11 1L8.5 8.5l.94-2.06 2.06-.94-2.06-.94L8.5 2.5l-.94 2.06-2.06.94zm10 10l.94 2.06.94-2.06 2.06-.94-2.06-.94-.94-2.06-.94 2.06-2.06.94z\"/><path d=\"M17.41 7.96l-1.37-1.37c-.4-.4-.92-.59-1.43-.59-.52 0-1.04.2-1.43.59L10.3 9.45l-7.72 7.72c-.78.78-.78 2.05 0 2.83L4 21.41c.39.39.9.59 1.41.59.51 0 1.02-.2 1.41-.59l7.78-7.78 2.81-2.81c.8-.78.8-2.07 0-2.86zM5.41 20L4 18.59l7.72-7.72 1.47 1.35L5.41 20z\"/>\n",
              "  </svg>\n",
              "      </button>\n",
              "      \n",
              "  <style>\n",
              "    .colab-df-container {\n",
              "      display:flex;\n",
              "      flex-wrap:wrap;\n",
              "      gap: 12px;\n",
              "    }\n",
              "\n",
              "    .colab-df-convert {\n",
              "      background-color: #E8F0FE;\n",
              "      border: none;\n",
              "      border-radius: 50%;\n",
              "      cursor: pointer;\n",
              "      display: none;\n",
              "      fill: #1967D2;\n",
              "      height: 32px;\n",
              "      padding: 0 0 0 0;\n",
              "      width: 32px;\n",
              "    }\n",
              "\n",
              "    .colab-df-convert:hover {\n",
              "      background-color: #E2EBFA;\n",
              "      box-shadow: 0px 1px 2px rgba(60, 64, 67, 0.3), 0px 1px 3px 1px rgba(60, 64, 67, 0.15);\n",
              "      fill: #174EA6;\n",
              "    }\n",
              "\n",
              "    [theme=dark] .colab-df-convert {\n",
              "      background-color: #3B4455;\n",
              "      fill: #D2E3FC;\n",
              "    }\n",
              "\n",
              "    [theme=dark] .colab-df-convert:hover {\n",
              "      background-color: #434B5C;\n",
              "      box-shadow: 0px 1px 3px 1px rgba(0, 0, 0, 0.15);\n",
              "      filter: drop-shadow(0px 1px 2px rgba(0, 0, 0, 0.3));\n",
              "      fill: #FFFFFF;\n",
              "    }\n",
              "  </style>\n",
              "\n",
              "      <script>\n",
              "        const buttonEl =\n",
              "          document.querySelector('#df-e4ba7ca7-9814-4819-9cc0-9bd33d4c5f2b button.colab-df-convert');\n",
              "        buttonEl.style.display =\n",
              "          google.colab.kernel.accessAllowed ? 'block' : 'none';\n",
              "\n",
              "        async function convertToInteractive(key) {\n",
              "          const element = document.querySelector('#df-e4ba7ca7-9814-4819-9cc0-9bd33d4c5f2b');\n",
              "          const dataTable =\n",
              "            await google.colab.kernel.invokeFunction('convertToInteractive',\n",
              "                                                     [key], {});\n",
              "          if (!dataTable) return;\n",
              "\n",
              "          const docLinkHtml = 'Like what you see? Visit the ' +\n",
              "            '<a target=\"_blank\" href=https://colab.research.google.com/notebooks/data_table.ipynb>data table notebook</a>'\n",
              "            + ' to learn more about interactive tables.';\n",
              "          element.innerHTML = '';\n",
              "          dataTable['output_type'] = 'display_data';\n",
              "          await google.colab.output.renderOutput(dataTable, element);\n",
              "          const docLink = document.createElement('div');\n",
              "          docLink.innerHTML = docLinkHtml;\n",
              "          element.appendChild(docLink);\n",
              "        }\n",
              "      </script>\n",
              "    </div>\n",
              "  </div>\n",
              "  "
            ]
          },
          "metadata": {},
          "execution_count": 66
        }
      ]
    },
    {
      "cell_type": "markdown",
      "source": [
        "##**11. VISUALIZAÇÕES**\n",
        "\n",
        "Utilizando-se da visualização dos graficos, junstificamos nessa etapa ao cliente final os reais motivos pelo qual desconsideramos as variáveis com baixo desvio padrão na analise da Ciencia de Dados\n",
        "\n",
        "Os graficos abaixo, referem-se as informações genericas complementares e que ajudam aos cientistas de dados quantificarem aos especialistas parametros por eles muitas vezes não entendidos e que são pertinentes dentro das areas afins."
      ],
      "metadata": {
        "id": "9IBOiJ_YNoPY"
      }
    },
    {
      "cell_type": "markdown",
      "source": [
        "Durante o entendimento do problema levantado pelos especialistas, percebemos uma grande preocupação entre o pH e a densidade do vinho. Como exemplo demonstramos essa relação entre os 1599  tipos diferentes de vinhos, descritos no dataframe, entre pares destas variaveis.\n"
      ],
      "metadata": {
        "id": "lVZKTZ6x56_g"
      }
    },
    {
      "cell_type": "markdown",
      "source": [
        "O pH e a densidade são duas variáveis com pequeno desvio padrão. Isto é mostrado pela alta densidade de dados, dentro de uma area do gráfico. \n"
      ],
      "metadata": {
        "id": "pv2w-rZNR632"
      }
    },
    {
      "cell_type": "code",
      "source": [
        "sns.scatterplot(x='pH', y='density', data=dffinal)"
      ],
      "metadata": {
        "id": "A5T72L3j7JGw"
      },
      "execution_count": null,
      "outputs": []
    },
    {
      "cell_type": "markdown",
      "source": [
        "Observando o grafico abaixo, inversamente entre o que foi apresentado anteriormenteos, os atributos dioxido de enxofre livers e dioxido de enxofre total possuem altissimo desvio padrão em ambas as variáveis. \n",
        "\n",
        "Observa se uma tendencia de dispersão linear positiva e a formação de pontos de outliers entre essas variáveis.\n",
        "\n",
        " "
      ],
      "metadata": {
        "id": "3BqfCcDk8dXs"
      }
    },
    {
      "cell_type": "code",
      "source": [
        "sns.scatterplot(x='free sulfur dioxide', y='total sulfur dioxide', data=dffinal)"
      ],
      "metadata": {
        "id": "6Q-B3BuP8UEf"
      },
      "execution_count": null,
      "outputs": []
    },
    {
      "cell_type": "markdown",
      "source": [
        "##**12. Considerações Finais**"
      ],
      "metadata": {
        "id": "noA2_i9Uopjj"
      }
    },
    {
      "cell_type": "markdown",
      "source": [
        "A ciência de dados permite mostrar para efeito de analise, independente da especialidade , as relações entre os pares de  atributos de um dataframe. No caso do cliente, o distribuidor de vinhos e seus especialistas, foi disponibilizado toda a relação entre  os pares de atributos apresentados nesta analise.\n",
        "\n",
        "Mostra-se toda a relação fisica-quimica  entre todas as variáveis disponivel neste dataframe. Estes graficos irão orientar os especialistas de uma forma mais assertiva quando da escolha da aquisição de vinhos para vendas em seus estabelecimentos.\n",
        "\n",
        "Um dos facilitadores para analise, ainda que nao sejam cientistas de dados, são os histogramas na diagonal dos conjuntos de dados. Eles permitem verificar a frequencia de cada metrica da composição quimica, de cada par de atributo analisado. Facilitando o entendimento dos especialistas."
      ],
      "metadata": {
        "id": "Xp1dqXQcHUn6"
      }
    },
    {
      "cell_type": "code",
      "source": [
        "sns.pairplot(dffinal);"
      ],
      "metadata": {
        "id": "yhFD5RjHaPyT"
      },
      "execution_count": null,
      "outputs": []
    },
    {
      "cell_type": "markdown",
      "source": [
        "**REGRESSÃO**"
      ],
      "metadata": {
        "id": "Ckdm2wIONIPt"
      }
    },
    {
      "cell_type": "markdown",
      "source": [
        "**Preparação Treino e Teste**\n"
      ],
      "metadata": {
        "id": "tZRm7eEyKRtu"
      }
    },
    {
      "cell_type": "code",
      "source": [
        "#Preparação dos dados\n",
        "\n",
        "# Separação em bases de treino e teste (holdout)\n",
        "array = Qldvinhos.values\n",
        "X = array[:,0:11] # atributos\n",
        "y = array[:,11] # classe (target)\n",
        "\n",
        "X_train, X_test, y_train, y_test = train_test_split(X, y, test_size=0.20, random_state=7) # faz a divisão\n",
        "\n",
        "# Criando os folds para a validação cruzada\n",
        "num_particoes = 10 # número de folds da validação cruzada\n",
        "kfold = KFold(n_splits=num_particoes, shuffle=True, random_state=7) # faz o particionamento em 10 folds"
      ],
      "metadata": {
        "id": "pvSOUzgcKizC"
      },
      "execution_count": null,
      "outputs": []
    },
    {
      "cell_type": "markdown",
      "source": [
        "**Modelagem**"
      ],
      "metadata": {
        "id": "ykKr6NjyLCw2"
      }
    },
    {
      "cell_type": "code",
      "source": [
        "# Modelagem\n",
        "\n",
        "# Definindo uma seed global para esta célula de código\n",
        "np.random.seed(7) \n",
        "\n",
        "# Listas para armazenar os modelos, os resultados e os nomes dos modelos\n",
        "models = []\n",
        "results = []\n",
        "names = []\n",
        "\n",
        "# Preparando os modelos e adicionando-os em uma lista\n",
        "models.append(('LR', LinearRegression()))\n",
        "models.append(('Ridge', Ridge()))\n",
        "models.append(('Lasso', Lasso()))\n",
        "models.append(('KNN', KNeighborsRegressor()))\n",
        "models.append(('CART', DecisionTreeRegressor()))\n",
        "models.append(('SVM', SVR()))\n",
        "\n",
        "# Avaliando um modelo por vez\n",
        "for name, model in models:\n",
        "  cv_results = cross_val_score(model, X_train, y_train, cv=kfold, scoring='neg_mean_squared_error')\n",
        "  results.append(cv_results)\n",
        "  names.append(name)\n",
        "  # imprime MSE, desvio padrão do MSE e RMSE dos 10 resultados da validação cruzada\n",
        "  msg = \"%s: MSE %0.2f (%0.2f) - RMSE %0.2f\" % (name, abs(cv_results.mean()), cv_results.std(), np.sqrt(abs(cv_results.mean())))\n",
        "  print(msg)\n",
        "\n",
        "# Boxplot de comparação dos modelos\n",
        "fig = plt.figure() \n",
        "fig.suptitle('Comparação do MSE dos Modelos') \n",
        "ax = fig.add_subplot(111) \n",
        "plt.boxplot(results) \n",
        "ax.set_xticklabels(names) \n",
        "plt.show()"
      ],
      "metadata": {
        "colab": {
          "base_uri": "https://localhost:8080/",
          "height": 582
        },
        "id": "z8xLZXBtLBRq",
        "outputId": "62ba27e4-ac1c-4447-8985-1983efc7872b"
      },
      "execution_count": null,
      "outputs": [
        {
          "output_type": "stream",
          "name": "stdout",
          "text": [
            "LR: MSE 0.44 (0.07) - RMSE 0.66\n",
            "Ridge: MSE 0.44 (0.07) - RMSE 0.66\n",
            "Lasso: MSE 0.65 (0.11) - RMSE 0.81\n",
            "KNN: MSE 0.60 (0.11) - RMSE 0.77\n",
            "CART: MSE 0.68 (0.12) - RMSE 0.83\n",
            "SVM: MSE 0.57 (0.11) - RMSE 0.75\n"
          ]
        },
        {
          "output_type": "display_data",
          "data": {
            "text/plain": [
              "<Figure size 640x480 with 1 Axes>"
            ],
            "image/png": "[encoded data removed]"
          },
          "metadata": {}
        }
      ]
    },
    {
      "cell_type": "code",
      "source": [
        "# Criando um modelo com todo o conjunto de treino\n",
        "model = LinearRegression()\n",
        "model.fit(X_train, y_train)\n",
        "\n",
        "# Fazendo as predições com o conjunto de teste\n",
        "predictions = model.predict(X_test) \n",
        "\n",
        "# Estimando o MSE e o RMSE no conjunto de teste\n",
        "mse = mean_squared_error(y_test, predictions)\n",
        "print(\"MSE %0.2f\" % mse)\n",
        "print(\"RMSE %0.2f\" % np.sqrt(abs(mse)))"
      ],
      "metadata": {
        "colab": {
          "base_uri": "https://localhost:8080/"
        },
        "id": "icRj7hiWLTna",
        "outputId": "4fba92d6-a855-4353-9c12-5283c9cc396b"
      },
      "execution_count": null,
      "outputs": [
        {
          "output_type": "stream",
          "name": "stdout",
          "text": [
            "MSE 0.38\n",
            "RMSE 0.62\n"
          ]
        }
      ]
    }
  ]
}