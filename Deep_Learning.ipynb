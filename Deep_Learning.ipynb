{
  "nbformat": 4,
  "nbformat_minor": 0,
  "metadata": {
    "colab": {
      "provenance": [],
      "include_colab_link": true
    },
    "kernelspec": {
      "name": "python3",
      "display_name": "Python 3"
    }
  },
  "cells": [
    {
      "cell_type": "markdown",
      "metadata": {
        "id": "view-in-github",
        "colab_type": "text"
      },
      "source": [
        "<a href=\"https://colab.research.google.com/github/salimNabbout/Qualidade_Vinhos_Norte_Portugal/blob/main/Deep_Learning.ipynb\" target=\"_parent\"><img src=\"https://colab.research.google.com/assets/colab-badge.svg\" alt=\"Open In Colab\"/></a>"
      ]
    },
    {
      "metadata": {
        "id": "sNc3NouWYrN7"
      },
      "cell_type": "markdown",
      "source": [
        "Imports"
      ]
    },
    {
      "cell_type": "markdown",
      "source": [
        "##POS GRADUAÇÃO EM CIÊNCIAS DE DADOS - PUC RIO\n",
        "\n",
        "##MVP SPRINT 2\n",
        "\n",
        "##PROJETO - Deep Learning\n",
        "\n",
        "##ALUNO: SALIM JORGE NABBOUT\n",
        "\n"
      ],
      "metadata": {
        "id": "Z9n-KE8wfuXx"
      }
    },
    {
      "cell_type": "markdown",
      "source": [
        "# 1.0 Justificativa do Projeto\n",
        "\n",
        "\n",
        "O projeto consiste modelo baseado em Deep Learning para a identificação de imagens oriundas de uma determinado Banco de dados.\n",
        "\n",
        "para este projeto foi utilizado o dataset CIFAR 10\n",
        "\n",
        "O conjunto de dados CIFAR-10 consiste em 60.000 imagens coloridas 32x32 em 10 classes, com 6.000 imagens por classe. Existem 50.000 imagens de treinamento e 10.000 imagens de teste.\n",
        "\n",
        "Premissas:\n",
        "\n",
        "As classes são completamente mutuamente exclusivas. Não há sobreposição entre automóveis e caminhões. \"Automóvel\" inclui sedans, SUVs, coisas desse tipo. \"Caminhão\" inclui apenas caminhões grandes.\n",
        "\n",
        "\n"
      ],
      "metadata": {
        "id": "XFpMGSYYsL2c"
      }
    },
    {
      "cell_type": "markdown",
      "source": [
        "# 2.0 Importanto Bibliotecas"
      ],
      "metadata": {
        "id": "u3Yk_VwQf-nB"
      }
    },
    {
      "metadata": {
        "id": "4bQCahYjYdUB"
      },
      "cell_type": "code",
      "source": [
        "import tensorflow\n",
        "import tensorflow as tf\n",
        "from tensorflow import keras\n",
        "import matplotlib.pyplot as plt\n",
        "import numpy as np\n",
        "from tensorflow.keras.models import load_model\n",
        "import tensorflow as keras\n",
        "\n",
        "\n"
      ],
      "execution_count": 46,
      "outputs": []
    },
    {
      "cell_type": "markdown",
      "source": [
        "# 3.0 Carregando Dataset"
      ],
      "metadata": {
        "id": "1l-KhqOYgXBx"
      }
    },
    {
      "metadata": {
        "id": "QoIys3wMYirH"
      },
      "cell_type": "code",
      "source": [
        "dataset = tf.keras.datasets.cifar10\n",
        "((imagens_treino, identificacoes_treino), (imagens_teste, identificacoes_teste)) = dataset.load_data()\n"
      ],
      "execution_count": 47,
      "outputs": []
    },
    {
      "cell_type": "markdown",
      "source": [
        "# 3.1 Detalhando DATASET\n",
        "\n",
        "0 - Avião\n",
        "\n",
        "1 - Automóvel\n",
        "\n",
        "2 - Passaro\n",
        "\n",
        "3 - Gato\n",
        "\n",
        "4 - Cervo\n",
        "\n",
        "5 - Cachorro\n",
        "\n",
        "6 - Sapo\n",
        "\n",
        "7 - Cavalo\n",
        "\n",
        "8 - Enviar\n",
        "\n",
        "9 - Caminhão"
      ],
      "metadata": {
        "id": "ICU5ddufuuif"
      }
    },
    {
      "cell_type": "markdown",
      "source": [
        "#4.0 Explorando os dados"
      ],
      "metadata": {
        "id": "s1TjcqqyghCh"
      }
    },
    {
      "metadata": {
        "id": "fPIT36hpYl5A",
        "colab": {
          "base_uri": "https://localhost:8080/"
        },
        "outputId": "f757ce39-b23d-46ed-8263-74138acd5113"
      },
      "cell_type": "code",
      "source": [
        "len(imagens_treino)\n",
        "imagens_treino.shape\n",
        "imagens_teste.shape\n",
        "len(identificacoes_teste)\n",
        "identificacoes_treino.min()\n",
        "identificacoes_treino.max()"
      ],
      "execution_count": 48,
      "outputs": [
        {
          "output_type": "execute_result",
          "data": {
            "text/plain": [
              "9"
            ]
          },
          "metadata": {},
          "execution_count": 48
        }
      ]
    },
    {
      "cell_type": "markdown",
      "source": [
        "# 5.0 Explorando os dados\n",
        "\n",
        "\n",
        "Observou se inconsistencia entre os nomes das classificações, oriundas do dataset e a imagem processada pelo plt.colorbar.\n",
        "\n",
        "As imagens treinos declaradas não conferem com as do dataset"
      ],
      "metadata": {
        "id": "GpiNq9_IgprJ"
      }
    },
    {
      "metadata": {
        "id": "bGESm49JVahh",
        "colab": {
          "base_uri": "https://localhost:8080/",
          "height": 447
        },
        "outputId": "2b179440-51ff-4664-868b-44a42e3a2d3f"
      },
      "cell_type": "code",
      "source": [
        "total_de_classificacoes = 10\n",
        "nomes_de_classificacoes = ['Avião', 'Automóvel', 'Passaro',\n",
        "                           'Gato', 'Cervo', 'Cachorro', 'Sapo',\n",
        "                           'Cavalo', 'Enviar', 'Caminhão']\n",
        "\n",
        "plt.imshow(imagens_treino[1])\n",
        "plt.colorbar()"
      ],
      "execution_count": 72,
      "outputs": [
        {
          "output_type": "execute_result",
          "data": {
            "text/plain": [
              "<matplotlib.colorbar.Colorbar at 0x79e333462620>"
            ]
          },
          "metadata": {},
          "execution_count": 72
        },
        {
          "output_type": "display_data",
          "data": {
            "text/plain": [
              "<Figure size 640x480 with 2 Axes>"
            ],
            "image/png": "[encoded data removed]"
          },
          "metadata": {}
        }
      ]
    },
    {
      "metadata": {
        "id": "uU6ZySpIcoc5"
      },
      "cell_type": "markdown",
      "source": [
        "Normalizando as imagens"
      ]
    },
    {
      "cell_type": "markdown",
      "source": [
        "# 6.0 Normalizando Imagens"
      ],
      "metadata": {
        "id": "_1ycZZAcgvO4"
      }
    },
    {
      "metadata": {
        "id": "Ral_hdl9ulGG"
      },
      "cell_type": "code",
      "source": [
        "imagens_treino = imagens_treino/float(255)"
      ],
      "execution_count": 73,
      "outputs": []
    },
    {
      "cell_type": "markdown",
      "source": [
        "# 7.0 Criando - Compilando - Treinando e Normalizando o Modelo"
      ],
      "metadata": {
        "id": "GVt7JZ72g9-Q"
      }
    },
    {
      "cell_type": "code",
      "source": [
        "import tensorflow as tf\n",
        "from tensorflow import keras\n",
        "\n",
        "# Carregando o dataset do CIFAR 10\n",
        "(train_images, train_labels), (test_images, test_labels) = keras.datasets.cifar10.load_data()\n",
        "\n",
        "# Normalizando os valores de pixel para o intervalo [0, 1]\n",
        "train_images, test_images = train_images / 255.0, test_images / 255.0\n",
        "\n",
        "# Criando os Modelo\n",
        "modelo = keras.Sequential([\n",
        "    keras.layers.Flatten(input_shape=(32, 32, 3)),\n",
        "    keras.layers.Dense(256, activation=tf.nn.relu),\n",
        "    keras.layers.Dropout(0.2),\n",
        "    keras.layers.Dense(10, activation=tf.nn.softmax)\n",
        "])\n",
        "\n",
        "adam = keras.optimizers.Adam(lr=0.005)\n",
        "\n",
        "parando_cedo = [\n",
        "    keras.callbacks.EarlyStopping(monitor='val_loss'),\n",
        "    keras.callbacks.ModelCheckpoint(filepath='melhor_modelo.hdf5',\n",
        "                                    monitor='val_loss', save_best_only=True)\n",
        "]\n",
        "\n",
        "modelo.compile(optimizer=adam,\n",
        "               loss='sparse_categorical_crossentropy',\n",
        "               metrics=['accuracy'])\n",
        "\n",
        "# Variando Parametros - Melhora da Performance\n",
        "# Batch_Size\n",
        "# Epochs\n",
        "\n",
        "historico = modelo.fit(train_images, train_labels,\n",
        "                       batch_size=380,\n",
        "                       epochs=10,\n",
        "                       validation_split=0.2,\n",
        "                       callbacks=parando_cedo)\n"
      ],
      "metadata": {
        "id": "WEUyHe6UnVSb",
        "outputId": "bb2c913f-aead-4fa6-fbe3-1bacaadfc51e",
        "colab": {
          "base_uri": "https://localhost:8080/"
        }
      },
      "execution_count": 74,
      "outputs": [
        {
          "output_type": "stream",
          "name": "stderr",
          "text": [
            "WARNING:absl:`lr` is deprecated in Keras optimizer, please use `learning_rate` or use the legacy optimizer, e.g.,tf.keras.optimizers.legacy.Adam.\n"
          ]
        },
        {
          "output_type": "stream",
          "name": "stdout",
          "text": [
            "Epoch 1/10\n",
            "106/106 [==============================] - 4s 35ms/step - loss: 2.2123 - accuracy: 0.2259 - val_loss: 1.9258 - val_accuracy: 0.3188\n",
            "Epoch 2/10\n",
            "106/106 [==============================] - 4s 39ms/step - loss: 1.9100 - accuracy: 0.3089 - val_loss: 1.8278 - val_accuracy: 0.3520\n",
            "Epoch 3/10\n",
            "106/106 [==============================] - 3s 32ms/step - loss: 1.8469 - accuracy: 0.3370 - val_loss: 1.8109 - val_accuracy: 0.3521\n",
            "Epoch 4/10\n",
            "106/106 [==============================] - 3s 33ms/step - loss: 1.8115 - accuracy: 0.3503 - val_loss: 1.7689 - val_accuracy: 0.3707\n",
            "Epoch 5/10\n",
            "106/106 [==============================] - 4s 38ms/step - loss: 1.7859 - accuracy: 0.3609 - val_loss: 1.7610 - val_accuracy: 0.3730\n",
            "Epoch 6/10\n",
            "106/106 [==============================] - 3s 33ms/step - loss: 1.7709 - accuracy: 0.3636 - val_loss: 1.7464 - val_accuracy: 0.3788\n",
            "Epoch 7/10\n",
            "106/106 [==============================] - 3s 33ms/step - loss: 1.7563 - accuracy: 0.3697 - val_loss: 1.7083 - val_accuracy: 0.3929\n",
            "Epoch 8/10\n",
            "106/106 [==============================] - 4s 36ms/step - loss: 1.7314 - accuracy: 0.3802 - val_loss: 1.6918 - val_accuracy: 0.4026\n",
            "Epoch 9/10\n",
            "106/106 [==============================] - 4s 36ms/step - loss: 1.7229 - accuracy: 0.3823 - val_loss: 1.6856 - val_accuracy: 0.3996\n",
            "Epoch 10/10\n",
            "106/106 [==============================] - 3s 32ms/step - loss: 1.7151 - accuracy: 0.3864 - val_loss: 1.6708 - val_accuracy: 0.4123\n"
          ]
        }
      ]
    },
    {
      "cell_type": "markdown",
      "source": [
        "# 8.0 Sumário do Modelo"
      ],
      "metadata": {
        "id": "insLKnWkhyKh"
      }
    },
    {
      "cell_type": "code",
      "source": [
        "sumario_do_modelo = modelo.summary()"
      ],
      "metadata": {
        "id": "No4U-UPDxzl9",
        "outputId": "8e69b995-5eea-4d89-b4f5-fd8afd47407c",
        "colab": {
          "base_uri": "https://localhost:8080/"
        }
      },
      "execution_count": 75,
      "outputs": [
        {
          "output_type": "stream",
          "name": "stdout",
          "text": [
            "Model: \"sequential_4\"\n",
            "_________________________________________________________________\n",
            " Layer (type)                Output Shape              Param #   \n",
            "=================================================================\n",
            " flatten_4 (Flatten)         (None, 3072)              0         \n",
            "                                                                 \n",
            " dense_8 (Dense)             (None, 256)               786688    \n",
            "                                                                 \n",
            " dropout_4 (Dropout)         (None, 256)               0         \n",
            "                                                                 \n",
            " dense_9 (Dense)             (None, 10)                2570      \n",
            "                                                                 \n",
            "=================================================================\n",
            "Total params: 789,258\n",
            "Trainable params: 789,258\n",
            "Non-trainable params: 0\n",
            "_________________________________________________________________\n"
          ]
        }
      ]
    },
    {
      "cell_type": "markdown",
      "source": [
        "# 9.0 Pesos da primeira camada DENSE - Processamento"
      ],
      "metadata": {
        "id": "TwuANSA2icf5"
      }
    },
    {
      "cell_type": "code",
      "source": [
        "pesos_camada_dense = modelo.layers[1].get_weights()[0]\n",
        "pesos_camada_dense"
      ],
      "metadata": {
        "id": "gszwaw3VyHUz",
        "outputId": "4c4685d7-ab2d-48dc-e204-0e204726b8f8",
        "colab": {
          "base_uri": "https://localhost:8080/"
        }
      },
      "execution_count": 76,
      "outputs": [
        {
          "output_type": "execute_result",
          "data": {
            "text/plain": [
              "array([[ 0.02792927, -0.00373939,  0.02032336, ...,  0.00971599,\n",
              "         0.00063605, -0.06021225],\n",
              "       [ 0.03567228, -0.05280499, -0.00902198, ...,  0.02659422,\n",
              "        -0.00750391, -0.02976294],\n",
              "       [ 0.02331997,  0.01466603, -0.02981322, ..., -0.0407236 ,\n",
              "         0.02940797, -0.05292826],\n",
              "       ...,\n",
              "       [-0.01128103, -0.05090598, -0.01610743, ..., -0.02693106,\n",
              "        -0.03179347,  0.04658198],\n",
              "       [-0.01129008, -0.02135096, -0.01395089, ..., -0.011921  ,\n",
              "         0.02133067, -0.01956587],\n",
              "       [ 0.03093136, -0.01011061, -0.04170971, ...,  0.00297252,\n",
              "        -0.00697012,  0.03805938]], dtype=float32)"
            ]
          },
          "metadata": {},
          "execution_count": 76
        }
      ]
    },
    {
      "cell_type": "markdown",
      "source": [
        "# 10.0 Vies na Camada de Processamento - DENSE"
      ],
      "metadata": {
        "id": "GPIMkDl3kU71"
      }
    },
    {
      "cell_type": "code",
      "source": [
        "vieses_camada_dense = modelo.layers[1].get_weights()[1]\n",
        "vieses_camada_dense.shape"
      ],
      "metadata": {
        "id": "0kmz-ddpeHBU",
        "outputId": "fd306c84-fdbf-4e6d-ff24-297d42e1fa61",
        "colab": {
          "base_uri": "https://localhost:8080/"
        }
      },
      "execution_count": 77,
      "outputs": [
        {
          "output_type": "execute_result",
          "data": {
            "text/plain": [
              "(256,)"
            ]
          },
          "metadata": {},
          "execution_count": 77
        }
      ]
    },
    {
      "cell_type": "markdown",
      "source": [],
      "metadata": {
        "id": "gO8MTnzen-IQ"
      }
    },
    {
      "cell_type": "markdown",
      "source": [
        "# 11 Configuração dos Pesos da camada DENSE"
      ],
      "metadata": {
        "id": "70M5y2cin-oI"
      }
    },
    {
      "cell_type": "code",
      "source": [
        "pesos_camada_dense.shape\n",
        "pesos_camada_dense_zerados = np.zeros((3072, 256))\n",
        "\n",
        "pesos_camada_dense_aleatorios = np.random.rand(3072, 256)\n",
        "\n",
        "modelo.layers[1].set_weights(\n",
        "    [pesos_camada_dense_aleatorios, vieses_camada_dense]\n",
        ")\n",
        "\n",
        "modelo.layers[1].get_weights()"
      ],
      "metadata": {
        "id": "wg6d-oO-yPa8",
        "outputId": "91709efb-1cf3-49f4-d818-5b9cbb542381",
        "colab": {
          "base_uri": "https://localhost:8080/"
        }
      },
      "execution_count": 78,
      "outputs": [
        {
          "output_type": "execute_result",
          "data": {
            "text/plain": [
              "[array([[0.25728577, 0.30497184, 0.661966  , ..., 0.77765423, 0.56938595,\n",
              "         0.06881054],\n",
              "        [0.34735072, 0.07548431, 0.8775067 , ..., 0.23060061, 0.6718545 ,\n",
              "         0.8325026 ],\n",
              "        [0.52872247, 0.18342587, 0.34149158, ..., 0.24032448, 0.67609227,\n",
              "         0.8024342 ],\n",
              "        ...,\n",
              "        [0.5705026 , 0.03690592, 0.87130123, ..., 0.7497586 , 0.12091012,\n",
              "         0.56237906],\n",
              "        [0.726661  , 0.86635876, 0.97118086, ..., 0.9831608 , 0.9889816 ,\n",
              "         0.27027482],\n",
              "        [0.46930966, 0.0354552 , 0.79516315, ..., 0.42381358, 0.01893902,\n",
              "         0.07200956]], dtype=float32),\n",
              " array([-0.00177983,  0.00490083, -0.00503956,  0.08778966,  0.24927288,\n",
              "        -0.00600217, -0.00600179, -0.00593143, -0.00651192, -0.00830725,\n",
              "        -0.00585748, -0.00552653, -0.00599461, -0.00717515, -0.0059841 ,\n",
              "        -0.00600412, -0.03029884, -0.00486894, -0.00275492, -0.00277288,\n",
              "        -0.00600469, -0.00441474, -0.00600466, -0.00286387, -0.00598939,\n",
              "        -0.00246761, -0.00600282, -0.00598886, -0.0043462 , -0.00679471,\n",
              "        -0.0064493 , -0.00496619, -0.02262495, -0.00644174, -0.00566366,\n",
              "         0.08013612, -0.1711026 , -0.00436232, -0.00510273, -0.00637011,\n",
              "        -0.00599483, -0.00598948, -0.00582642, -0.00610833, -0.00600456,\n",
              "        -0.00206918, -0.00528856, -0.00493828, -0.00514407, -0.00288341,\n",
              "        -0.00330492, -0.00557155, -0.00555663, -0.00594513, -0.00372839,\n",
              "         0.09442173, -0.00601003, -0.00613088, -0.04419461, -0.0044862 ,\n",
              "        -0.00600435, -0.00621067, -0.00600436, -0.00599972, -0.03826758,\n",
              "        -0.00374525, -0.00603931, -0.00564271, -0.0020413 , -0.00194668,\n",
              "        -0.00526205, -0.00583025, -0.00361226, -0.00449884, -0.00594855,\n",
              "        -0.00600168, -0.00539327, -0.00469251, -0.0063765 , -0.00500058,\n",
              "        -0.00779929,  0.        , -0.00663871, -0.00597891, -0.00608955,\n",
              "        -0.00600385, -0.08423001, -0.00489067, -0.00646218, -0.00600472,\n",
              "        -0.00600491, -0.00584063, -0.00528414, -0.00600398, -0.00439464,\n",
              "        -0.00785678, -0.00293918, -0.00600206, -0.00611847, -0.00600283,\n",
              "        -0.00601701, -0.00599101, -0.00319811, -0.0078978 , -0.00653568,\n",
              "        -0.00622585, -0.0013631 , -0.00674131, -0.00715098, -0.00598079,\n",
              "        -0.00597835, -0.0072668 , -0.00642691, -0.00530639, -0.00445001,\n",
              "        -0.0059853 , -0.00600488, -0.00655495, -0.00599751, -0.00510276,\n",
              "        -0.00358025, -0.00405048, -0.00677911, -0.00178175, -0.00311672,\n",
              "        -0.00618831, -0.00386064, -0.00485291, -0.04487478, -0.00604116,\n",
              "        -0.00417653, -0.00600243, -0.00598819, -0.00600319, -0.00600398,\n",
              "        -0.00527056, -0.00639609, -0.00676062, -0.00489461, -0.00495014,\n",
              "        -0.0054673 , -0.00527351, -0.00663157, -0.00355361, -0.00592715,\n",
              "        -0.00405748, -0.00600443, -0.00611046, -0.00499519, -0.00599144,\n",
              "        -0.00547869, -0.00600474, -0.00598178, -0.00396592, -0.00595759,\n",
              "        -0.0052636 , -0.00783657, -0.11388279, -0.0041121 , -0.00575867,\n",
              "        -0.00413607, -0.00447365, -0.00598984, -0.00206618, -0.00420425,\n",
              "        -0.00248836, -0.00028756, -0.00423837, -0.0029212 , -0.00582687,\n",
              "        -0.00337642, -0.07064746, -0.00572595, -0.00669784, -0.0060642 ,\n",
              "        -0.00147613, -0.00249326, -0.00191636, -0.005995  , -0.00600431,\n",
              "        -0.00626066, -0.00413959, -0.001866  , -0.00429457, -0.03237718,\n",
              "        -0.00366084, -0.00580962, -0.00421491, -0.0011801 , -0.00481214,\n",
              "        -0.00437633, -0.00438731, -0.00600628, -0.12287337, -0.00544733,\n",
              "        -0.00240907, -0.00593488, -0.00815526, -0.00426976, -0.00600161,\n",
              "        -0.00529949, -0.00226776, -0.00269026,  0.08888385, -0.00484188,\n",
              "        -0.00460505, -0.00474433, -0.00598659, -0.00152929, -0.00599911,\n",
              "         0.15111496, -0.00151572, -0.00607411, -0.00325098, -0.00457714,\n",
              "        -0.00599681, -0.00597614, -0.00600249, -0.00598086, -0.00598532,\n",
              "        -0.0036263 , -0.12339149, -0.00443338, -0.00605946, -0.00601695,\n",
              "        -0.00376562, -0.0059052 , -0.0060009 , -0.00426915, -0.00598313,\n",
              "        -0.00353126, -0.00734376, -0.21044268, -0.17464711, -0.00578335,\n",
              "        -0.00653324, -0.00582117, -0.07906517, -0.00509349, -0.00415593,\n",
              "        -0.00371449, -0.00580035, -0.0059974 , -0.00613201, -0.00596652,\n",
              "        -0.00577623, -0.00177619, -0.00578587, -0.00599169, -0.00578556,\n",
              "        -0.00524483,  0.04750657, -0.00466689, -0.00599199, -0.00600463,\n",
              "         0.21661104], dtype=float32)]"
            ]
          },
          "metadata": {},
          "execution_count": 78
        }
      ]
    },
    {
      "cell_type": "markdown",
      "source": [
        "# 12 Compilando Modelo\n"
      ],
      "metadata": {
        "id": "4PSlx1eJpfDg"
      }
    },
    {
      "cell_type": "code",
      "source": [
        "modelo.compile(optimizer='adam',\n",
        "               loss='sparse_categorical_crossentropy',\n",
        "               metrics=['accuracy'])\n",
        "\n",
        "historico = modelo.fit(imagens_treino, identificacoes_treino, epochs=5, validation_split=0.2)"
      ],
      "metadata": {
        "id": "dqjj1Ic3F59_",
        "outputId": "9a7b660a-7cc6-42b6-db0d-e361482ec3f0",
        "colab": {
          "base_uri": "https://localhost:8080/"
        }
      },
      "execution_count": 79,
      "outputs": [
        {
          "output_type": "stream",
          "name": "stdout",
          "text": [
            "Epoch 1/5\n",
            "1250/1250 [==============================] - 14s 11ms/step - loss: 470.2994 - accuracy: 0.1204 - val_loss: 52.0548 - val_accuracy: 0.2297\n",
            "Epoch 2/5\n",
            "1250/1250 [==============================] - 13s 10ms/step - loss: 98.5726 - accuracy: 0.1521 - val_loss: 37.9460 - val_accuracy: 0.1234\n",
            "Epoch 3/5\n",
            "1250/1250 [==============================] - 12s 10ms/step - loss: 28.3025 - accuracy: 0.1491 - val_loss: 14.8625 - val_accuracy: 0.1402\n",
            "Epoch 4/5\n",
            "1250/1250 [==============================] - 14s 11ms/step - loss: 15.9095 - accuracy: 0.1577 - val_loss: 8.5839 - val_accuracy: 0.1895\n",
            "Epoch 5/5\n",
            "1250/1250 [==============================] - 11s 9ms/step - loss: 7.0336 - accuracy: 0.1798 - val_loss: 3.2304 - val_accuracy: 0.2116\n"
          ]
        }
      ]
    },
    {
      "cell_type": "markdown",
      "source": [
        "# 13 Plotando Grafico Acurácia X Épocas\n",
        "\n",
        "\n",
        "o Modelo apresenta problema de OVERFITTING"
      ],
      "metadata": {
        "id": "U52iDjHlpeVP"
      }
    },
    {
      "cell_type": "code",
      "source": [
        "plt.plot(historico.history['accuracy'])\n",
        "plt.plot(historico.history['val_accuracy'])\n",
        "plt.title('Acurácia por épocas')\n",
        "plt.xlabel('épocas')\n",
        "plt.ylabel('acurácia')\n",
        "plt.legend(['treino', 'validação'])\n"
      ],
      "metadata": {
        "id": "yP6n_O0wGhtI",
        "outputId": "189c0c10-3a4c-47f2-ec09-fee4065ade44",
        "colab": {
          "base_uri": "https://localhost:8080/",
          "height": 490
        }
      },
      "execution_count": 80,
      "outputs": [
        {
          "output_type": "execute_result",
          "data": {
            "text/plain": [
              "<matplotlib.legend.Legend at 0x79e3313617e0>"
            ]
          },
          "metadata": {},
          "execution_count": 80
        },
        {
          "output_type": "display_data",
          "data": {
            "text/plain": [
              "<Figure size 640x480 with 1 Axes>"
            ],
            "image/png": "[encoded data removed]"
          },
          "metadata": {}
        }
      ]
    },
    {
      "cell_type": "markdown",
      "source": [
        "# 14 Plotando Grafico Perdas X ÉpocasNova seção"
      ],
      "metadata": {
        "id": "FJuh2vUIrcLX"
      }
    },
    {
      "cell_type": "code",
      "source": [
        "plt.plot(historico.history['loss'])\n",
        "plt.plot(historico.history['val_loss'])\n",
        "plt.title('Perda por épocas')\n",
        "plt.xlabel('épocas')\n",
        "plt.ylabel('perda')\n",
        "plt.legend(['treino', 'validação'])"
      ],
      "metadata": {
        "id": "8fIFMVuuHOCQ",
        "outputId": "dbaa1503-22bc-4fa4-d1e0-06dde3ea1111",
        "colab": {
          "base_uri": "https://localhost:8080/",
          "height": 490
        }
      },
      "execution_count": 82,
      "outputs": [
        {
          "output_type": "execute_result",
          "data": {
            "text/plain": [
              "<matplotlib.legend.Legend at 0x79e31ddfda50>"
            ]
          },
          "metadata": {},
          "execution_count": 82
        },
        {
          "output_type": "display_data",
          "data": {
            "text/plain": [
              "<Figure size 640x480 with 1 Axes>"
            ],
            "image/png": "[encoded data removed]"
          },
          "metadata": {}
        }
      ]
    },
    {
      "metadata": {
        "id": "4-RqzS88dgk_"
      },
      "cell_type": "markdown",
      "source": [
        "# 15 Salvando e carregando o modelo treinado"
      ]
    },
    {
      "metadata": {
        "id": "SVjmU41IELzX"
      },
      "cell_type": "code",
      "source": [
        "modelo.save('modelo.h5')\n",
        "modelo_salvo = load_model('modelo.h5')"
      ],
      "execution_count": 83,
      "outputs": []
    },
    {
      "metadata": {
        "id": "JFXG1oibd8E8"
      },
      "cell_type": "markdown",
      "source": [
        "# 16 Testando o modelo salvo"
      ]
    },
    {
      "metadata": {
        "id": "I2kLEHPYUdhd",
        "colab": {
          "base_uri": "https://localhost:8080/"
        },
        "outputId": "bda3b242-f1d1-4359-8fb4-a12efc39279b"
      },
      "cell_type": "code",
      "source": [
        "testes = modelo.predict(imagens_teste)\n",
        "print('resultado teste:', np.argmax(testes[1]))\n",
        "print('número da imagem de teste:', identificacoes_teste[1])\n",
        "\n",
        "testes_modelo_salvo = modelo_salvo.predict(imagens_teste)\n",
        "print('resultado teste modelo salvo:', np.argmax(testes_modelo_salvo[1]))\n",
        "print('número da imagem de teste:', identificacoes_teste[1])"
      ],
      "execution_count": 84,
      "outputs": [
        {
          "output_type": "stream",
          "name": "stdout",
          "text": [
            "313/313 [==============================] - 1s 3ms/step\n",
            "resultado teste: 9\n",
            "número da imagem de teste: [8]\n",
            "313/313 [==============================] - 1s 4ms/step\n",
            "resultado teste modelo salvo: 9\n",
            "número da imagem de teste: [8]\n"
          ]
        }
      ]
    },
    {
      "metadata": {
        "id": "U64QMV1GeCUr"
      },
      "cell_type": "markdown",
      "source": [
        "# 17 Avaliando o modelo"
      ]
    },
    {
      "metadata": {
        "id": "wsbr9WqyXQ2G",
        "colab": {
          "base_uri": "https://localhost:8080/"
        },
        "outputId": "0fe8b2a0-c19e-484f-c7e3-d45f79aa3009"
      },
      "cell_type": "code",
      "source": [
        "perda_teste, acuracia_teste = modelo.evaluate(imagens_teste, identificacoes_teste)\n",
        "print('Perda do teste:', perda_teste)\n",
        "print('Acurácia do teste:', acuracia_teste)"
      ],
      "execution_count": 85,
      "outputs": [
        {
          "output_type": "stream",
          "name": "stdout",
          "text": [
            "313/313 [==============================] - 1s 4ms/step - loss: 673.2881 - accuracy: 0.1979\n",
            "Perda do teste: 673.2881469726562\n",
            "Acurácia do teste: 0.19789999723434448\n"
          ]
        }
      ]
    }
  ]
}